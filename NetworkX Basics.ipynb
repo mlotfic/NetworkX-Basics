{
 "cells": [
  {
   "cell_type": "markdown",
   "id": "6034286c",
   "metadata": {},
   "source": [
    "## NetworkX Basics\n",
    "After starting Python, import the networkx module with (the recommended way)"
   ]
  },
  {
   "cell_type": "code",
   "execution_count": 1,
   "id": "a9ba1a6f",
   "metadata": {},
   "outputs": [],
   "source": [
    "import networkx as nx"
   ]
  },
  {
   "cell_type": "markdown",
   "id": "07b3315d",
   "metadata": {},
   "source": [
    "### Graph\n",
    "- This class implements an undirected graph. \n",
    "- It ignores multiple edges between two nodes. \n",
    "- It does allow self-loop edges between a node and itself.\n",
    "- Base class for undirected graphs.\n",
    "- A Graph stores nodes and edges with optional data, or attributes.\n",
    "- Graphs hold undirected edges. \n",
    "- Self loops are allowed but multiple (parallel) edges are not.\n",
    "\n",
    "- Nodes can be arbitrary (hashable) Python objects with optional key/value attributes, except that None is not allowed as a node.\n",
    "\n",
    "- Edges are represented as links between nodes with optional key/value attributes.\n",
    "\n",
    "#### class Graph(incoming_graph_data=None, **attr)\n",
    "##### Parameters \"incoming_graph_datainput\"\n",
    "\n",
    "##### Attributes: attrkeyword arguments, optional (default= no attributes)\n",
    "- Attributes to add to graph as key=value pairs.\n",
    "- Each graph, node, and edge can hold key/value attribute pairs in an associated attribute dictionary (the keys must be hashable). \n",
    "- By default these are empty, but can be added or changed using \n",
    "- add_edge, \n",
    "- add_node or \n",
    "- direct manipulation of the attribute dictionaries named graph, node and edge respectively.\n",
    "\n",
    "\n",
    "If some edges connect nodes not yet in the graph, the nodes are added automatically. There are no errors when adding nodes or edges that already exist."
   ]
  },
  {
   "cell_type": "code",
   "execution_count": null,
   "id": "9826529f",
   "metadata": {},
   "outputs": [],
   "source": [
    "# convert \n",
    "# - edge list, \n",
    "# - dict of dicts, \n",
    "# - dict of lists, \n",
    "# - NetworkX graph, \n",
    "# - NumPy matrix or \n",
    "# - 2d ndarray, \n",
    "# - SciPy sparse matrix, or \n",
    "# - PyGraphviz graph.into graph\n",
    "\n",
    "##to_networkx_graph() function\n"
   ]
  },
  {
   "cell_type": "code",
   "execution_count": 2,
   "id": "1d3926ce",
   "metadata": {},
   "outputs": [],
   "source": [
    "# initialize graph (an empty graph is created)\n",
    "# Create an empty graph structure (a “null graph”) with no nodes and no edges.\n",
    "G = nx.Graph()"
   ]
  },
  {
   "cell_type": "code",
   "execution_count": 3,
   "id": "079990dc",
   "metadata": {},
   "outputs": [],
   "source": [
    "# Add one node at a time:\n",
    "G.add_node(1)"
   ]
  },
  {
   "cell_type": "code",
   "execution_count": null,
   "id": "5bf652a3",
   "metadata": {},
   "outputs": [],
   "source": [
    "# Add the nodes from any container \n",
    "# (a list, dict, set or even the lines from a file or the nodes from another graph)."
   ]
  },
  {
   "cell_type": "code",
   "execution_count": 4,
   "id": "05396966",
   "metadata": {},
   "outputs": [],
   "source": [
    "G.add_nodes_from([2, 3])"
   ]
  },
  {
   "cell_type": "code",
   "execution_count": 5,
   "id": "b1c440bf",
   "metadata": {},
   "outputs": [],
   "source": [
    "G.add_nodes_from(range(100, 110))"
   ]
  },
  {
   "cell_type": "code",
   "execution_count": 7,
   "id": "95778bd6",
   "metadata": {},
   "outputs": [],
   "source": [
    "# create a path\n",
    "H = nx.path_graph(10)"
   ]
  },
  {
   "cell_type": "code",
   "execution_count": 9,
   "id": "e93bf31f",
   "metadata": {},
   "outputs": [],
   "source": [
    "# add a path to graph\n",
    "G.add_nodes_from(H)"
   ]
  },
  {
   "cell_type": "code",
   "execution_count": 10,
   "id": "1c6dca54",
   "metadata": {},
   "outputs": [],
   "source": [
    "# G can also be grown by adding edges.\n",
    "# Add one edge,\n",
    "G.add_edge(1, 2)"
   ]
  },
  {
   "cell_type": "code",
   "execution_count": 11,
   "id": "718774a0",
   "metadata": {},
   "outputs": [],
   "source": [
    "# a list of edges,\n",
    "G.add_edges_from([(1, 2), (1, 3)])"
   ]
  },
  {
   "cell_type": "code",
   "execution_count": 12,
   "id": "2f4cbbf8",
   "metadata": {},
   "outputs": [],
   "source": [
    "# or a collection of edges, from path\n",
    "G.add_edges_from(H.edges)"
   ]
  },
  {
   "cell_type": "code",
   "execution_count": 13,
   "id": "2ff4c63d",
   "metadata": {},
   "outputs": [],
   "source": [
    "G = nx.Graph(day=\"Friday\")"
   ]
  },
  {
   "cell_type": "code",
   "execution_count": 14,
   "id": "31ac4eba",
   "metadata": {},
   "outputs": [
    {
     "data": {
      "text/plain": [
       "{'day': 'Friday'}"
      ]
     },
     "execution_count": 14,
     "metadata": {},
     "output_type": "execute_result"
    }
   ],
   "source": [
    "G.graph"
   ]
  },
  {
   "cell_type": "code",
   "execution_count": 15,
   "id": "7d70cc09",
   "metadata": {},
   "outputs": [
    {
     "data": {
      "text/plain": [
       "AdjacencyView({})"
      ]
     },
     "execution_count": 15,
     "metadata": {},
     "output_type": "execute_result"
    }
   ],
   "source": [
    "G.adj"
   ]
  },
  {
   "cell_type": "code",
   "execution_count": 16,
   "id": "9f3e4ca6",
   "metadata": {},
   "outputs": [
    {
     "data": {
      "text/plain": [
       "<bound method Graph.adjacency of <networkx.classes.graph.Graph object at 0x0000025CD3186DC0>>"
      ]
     },
     "execution_count": 16,
     "metadata": {},
     "output_type": "execute_result"
    }
   ],
   "source": [
    "G.adjacency"
   ]
  },
  {
   "cell_type": "code",
   "execution_count": 18,
   "id": "17d0675b",
   "metadata": {},
   "outputs": [],
   "source": [
    "# Add node attributes using add_node(), add_nodes_from() or G.nodes\n",
    "G.add_node(1, time=\"5pm\")"
   ]
  },
  {
   "cell_type": "code",
   "execution_count": 28,
   "id": "4e0e56c4",
   "metadata": {},
   "outputs": [
    {
     "data": {
      "text/plain": [
       "{'day': 'Friday'}"
      ]
     },
     "execution_count": 28,
     "metadata": {},
     "output_type": "execute_result"
    }
   ],
   "source": [
    "G.graph"
   ]
  },
  {
   "cell_type": "code",
   "execution_count": 20,
   "id": "b7f7cdbd",
   "metadata": {},
   "outputs": [],
   "source": [
    "G.add_nodes_from([3], time=\"2pm\")"
   ]
  },
  {
   "cell_type": "code",
   "execution_count": 26,
   "id": "ebd26ecb",
   "metadata": {},
   "outputs": [
    {
     "data": {
      "text/plain": [
       "{'time': '5pm'}"
      ]
     },
     "execution_count": 26,
     "metadata": {},
     "output_type": "execute_result"
    }
   ],
   "source": [
    "G.nodes[1]"
   ]
  },
  {
   "cell_type": "code",
   "execution_count": 27,
   "id": "48115417",
   "metadata": {},
   "outputs": [
    {
     "data": {
      "text/plain": [
       "{'time': '2pm'}"
      ]
     },
     "execution_count": 27,
     "metadata": {},
     "output_type": "execute_result"
    }
   ],
   "source": [
    "G.nodes[3]"
   ]
  },
  {
   "cell_type": "code",
   "execution_count": 29,
   "id": "32184951",
   "metadata": {},
   "outputs": [],
   "source": [
    "G.nodes[1][\"room\"] = 714  # node must exist already to use G.nodes"
   ]
  },
  {
   "cell_type": "code",
   "execution_count": 30,
   "id": "3728ad28",
   "metadata": {},
   "outputs": [
    {
     "data": {
      "text/plain": [
       "[(1, {'time': '5pm', 'room': 714}), (3, {'time': '2pm'})]"
      ]
     },
     "execution_count": 30,
     "metadata": {},
     "output_type": "execute_result"
    }
   ],
   "source": [
    "list(G.nodes(data=True))"
   ]
  },
  {
   "cell_type": "code",
   "execution_count": 31,
   "id": "c3afaa71",
   "metadata": {},
   "outputs": [],
   "source": [
    "del G.nodes[1][\"room\"]  # remove attribute"
   ]
  },
  {
   "cell_type": "code",
   "execution_count": 32,
   "id": "713f5e9a",
   "metadata": {},
   "outputs": [
    {
     "data": {
      "text/plain": [
       "[(1, {'time': '5pm'}), (3, {'time': '2pm'})]"
      ]
     },
     "execution_count": 32,
     "metadata": {},
     "output_type": "execute_result"
    }
   ],
   "source": [
    "list(G.nodes(data=True))"
   ]
  },
  {
   "cell_type": "code",
   "execution_count": 33,
   "id": "1e0562d1",
   "metadata": {},
   "outputs": [],
   "source": [
    "# Add edge attributes using add_edge(), add_edges_from(), subscript notation, or G.edges.\n",
    "G.add_edge(1, 2, weight=4.7)"
   ]
  },
  {
   "cell_type": "code",
   "execution_count": 34,
   "id": "77f8b913",
   "metadata": {},
   "outputs": [
    {
     "data": {
      "text/plain": [
       "[(1, {'time': '5pm'}), (3, {'time': '2pm'}), (2, {})]"
      ]
     },
     "execution_count": 34,
     "metadata": {},
     "output_type": "execute_result"
    }
   ],
   "source": [
    "list(G.nodes(data=True))"
   ]
  },
  {
   "cell_type": "code",
   "execution_count": 35,
   "id": "9d02b40e",
   "metadata": {},
   "outputs": [
    {
     "data": {
      "text/plain": [
       "{'day': 'Friday'}"
      ]
     },
     "execution_count": 35,
     "metadata": {},
     "output_type": "execute_result"
    }
   ],
   "source": [
    "G.graph"
   ]
  },
  {
   "cell_type": "code",
   "execution_count": 36,
   "id": "6d05d010",
   "metadata": {},
   "outputs": [],
   "source": [
    "G.add_edges_from([(3, 4), (4, 5)], color=\"red\")"
   ]
  },
  {
   "cell_type": "code",
   "execution_count": 39,
   "id": "d673b617",
   "metadata": {},
   "outputs": [
    {
     "data": {
      "text/plain": [
       "NodeDataView({1: {'time': '5pm'}, 3: {'time': '2pm'}, 2: {}, 4: {}, 5: {}})"
      ]
     },
     "execution_count": 39,
     "metadata": {},
     "output_type": "execute_result"
    }
   ],
   "source": [
    "G.nodes(data=True)"
   ]
  },
  {
   "cell_type": "code",
   "execution_count": 40,
   "id": "31a07d06",
   "metadata": {},
   "outputs": [
    {
     "data": {
      "text/plain": [
       "EdgeView([(1, 2), (3, 4), (4, 5)])"
      ]
     },
     "execution_count": 40,
     "metadata": {},
     "output_type": "execute_result"
    }
   ],
   "source": [
    "G.edges(data=True)"
   ]
  },
  {
   "cell_type": "code",
   "execution_count": 41,
   "id": "ff249b65",
   "metadata": {},
   "outputs": [],
   "source": [
    "G.add_edges_from([(1, 2, {\"color\": \"blue\"}), (2, 3, {\"weight\": 8})])"
   ]
  },
  {
   "cell_type": "code",
   "execution_count": 42,
   "id": "210b590d",
   "metadata": {},
   "outputs": [
    {
     "data": {
      "text/plain": [
       "EdgeDataView([(1, 2, {'weight': 4.7, 'color': 'blue'}), (3, 4, {'color': 'red'}), (3, 2, {'weight': 8}), (4, 5, {'color': 'red'})])"
      ]
     },
     "execution_count": 42,
     "metadata": {},
     "output_type": "execute_result"
    }
   ],
   "source": [
    "G.edges(data=True)"
   ]
  },
  {
   "cell_type": "code",
   "execution_count": null,
   "id": "c04ed347",
   "metadata": {},
   "outputs": [],
   "source": []
  }
 ],
 "metadata": {
  "kernelspec": {
   "display_name": "Python 3 (ipykernel)",
   "language": "python",
   "name": "python3"
  },
  "language_info": {
   "codemirror_mode": {
    "name": "ipython",
    "version": 3
   },
   "file_extension": ".py",
   "mimetype": "text/x-python",
   "name": "python",
   "nbconvert_exporter": "python",
   "pygments_lexer": "ipython3",
   "version": "3.9.7"
  }
 },
 "nbformat": 4,
 "nbformat_minor": 5
}
