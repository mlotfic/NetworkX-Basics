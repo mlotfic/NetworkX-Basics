{
 "cells": [
  {
   "cell_type": "markdown",
   "id": "3b1fa499",
   "metadata": {},
   "source": [
    "## NetworkX Basics\n",
    "After starting Python, import the networkx module with (the recommended way)"
   ]
  },
  {
   "cell_type": "code",
   "execution_count": 1,
   "id": "bb8d1c78",
   "metadata": {},
   "outputs": [],
   "source": [
    "import networkx as nx"
   ]
  },
  {
   "cell_type": "markdown",
   "id": "5bf8f77a",
   "metadata": {},
   "source": [
    "### Graph\n",
    "- This class implements an undirected graph. \n",
    "- It ignores multiple edges between two nodes. \n",
    "- It does allow self-loop edges between a node and itself.\n",
    "- Base class for undirected graphs.\n",
    "- A Graph stores nodes and edges with optional data, or attributes.\n",
    "- Graphs hold undirected edges. \n",
    "- Self loops are allowed but multiple (parallel) edges are not.\n",
    "\n",
    "- Nodes can be arbitrary (hashable) Python objects with optional key/value attributes, except that None is not allowed as a node.\n",
    "\n",
    "- Edges are represented as links between nodes with optional key/value attributes.\n",
    "\n",
    "#### class Graph(incoming_graph_data=None, **attr)\n",
    "##### Parameters \"incoming_graph_datainput\"\n",
    "\n",
    "##### Attributes: attrkeyword arguments, optional (default= no attributes)\n",
    "- Attributes to add to graph as key=value pairs.\n",
    "- Each graph, node, and edge can hold key/value attribute pairs in an associated attribute dictionary (the keys must be hashable). \n",
    "- By default these are empty, but can be added or changed using \n",
    "- add_edge, \n",
    "- add_node or \n",
    "- direct manipulation of the attribute dictionaries named graph, node and edge respectively.\n",
    "\n",
    "\n",
    "If some edges connect nodes not yet in the graph, the nodes are added automatically. There are no errors when adding nodes or edges that already exist."
   ]
  },
  {
   "cell_type": "code",
   "execution_count": null,
   "id": "a6c44490",
   "metadata": {},
   "outputs": [],
   "source": [
    "# convert \n",
    "# - edge list, \n",
    "# - dict of dicts, \n",
    "# - dict of lists, \n",
    "# - NetworkX graph, \n",
    "# - NumPy matrix or \n",
    "# - 2d ndarray, \n",
    "# - SciPy sparse matrix, or \n",
    "# - PyGraphviz graph.into graph\n",
    "\n",
    "##to_networkx_graph() function\n"
   ]
  },
  {
   "cell_type": "code",
   "execution_count": 2,
   "id": "9303d9dd",
   "metadata": {},
   "outputs": [],
   "source": [
    "# initialize graph (an empty graph is created)\n",
    "# Create an empty graph structure (a “null graph”) with no nodes and no edges.\n",
    "G = nx.Graph()"
   ]
  },
  {
   "cell_type": "code",
   "execution_count": 3,
   "id": "c7ae7969",
   "metadata": {},
   "outputs": [],
   "source": [
    "# Add one node at a time:\n",
    "G.add_node(1)"
   ]
  },
  {
   "cell_type": "code",
   "execution_count": null,
   "id": "50b62121",
   "metadata": {},
   "outputs": [],
   "source": [
    "# Add the nodes from any container \n",
    "# (a list, dict, set or even the lines from a file or the nodes from another graph)."
   ]
  },
  {
   "cell_type": "code",
   "execution_count": 4,
   "id": "4f49092a",
   "metadata": {},
   "outputs": [],
   "source": [
    "G.add_nodes_from([2, 3])"
   ]
  },
  {
   "cell_type": "code",
   "execution_count": 5,
   "id": "62d8353a",
   "metadata": {},
   "outputs": [],
   "source": [
    "G.add_nodes_from(range(100, 110))"
   ]
  },
  {
   "cell_type": "code",
   "execution_count": 7,
   "id": "b6dae039",
   "metadata": {},
   "outputs": [],
   "source": [
    "# create a path\n",
    "H = nx.path_graph(10)"
   ]
  },
  {
   "cell_type": "code",
   "execution_count": 9,
   "id": "67845dfe",
   "metadata": {},
   "outputs": [],
   "source": [
    "# add a path to graph\n",
    "G.add_nodes_from(H)"
   ]
  },
  {
   "cell_type": "code",
   "execution_count": 10,
   "id": "8ef8b599",
   "metadata": {},
   "outputs": [],
   "source": [
    "# G can also be grown by adding edges.\n",
    "# Add one edge,\n",
    "G.add_edge(1, 2)"
   ]
  },
  {
   "cell_type": "code",
   "execution_count": 11,
   "id": "1622e979",
   "metadata": {},
   "outputs": [],
   "source": [
    "# a list of edges,\n",
    "G.add_edges_from([(1, 2), (1, 3)])"
   ]
  },
  {
   "cell_type": "code",
   "execution_count": 12,
   "id": "4acdb481",
   "metadata": {},
   "outputs": [],
   "source": [
    "# or a collection of edges, from path\n",
    "G.add_edges_from(H.edges)"
   ]
  },
  {
   "cell_type": "code",
   "execution_count": 13,
   "id": "85fce66f",
   "metadata": {},
   "outputs": [],
   "source": [
    "G = nx.Graph(day=\"Friday\")"
   ]
  },
  {
   "cell_type": "code",
   "execution_count": 14,
   "id": "31c2708a",
   "metadata": {},
   "outputs": [
    {
     "data": {
      "text/plain": [
       "{'day': 'Friday'}"
      ]
     },
     "execution_count": 14,
     "metadata": {},
     "output_type": "execute_result"
    }
   ],
   "source": [
    "G.graph"
   ]
  },
  {
   "cell_type": "code",
   "execution_count": 15,
   "id": "c6b4bf8c",
   "metadata": {},
   "outputs": [
    {
     "data": {
      "text/plain": [
       "AdjacencyView({})"
      ]
     },
     "execution_count": 15,
     "metadata": {},
     "output_type": "execute_result"
    }
   ],
   "source": [
    "G.adj"
   ]
  },
  {
   "cell_type": "code",
   "execution_count": 16,
   "id": "4e1de713",
   "metadata": {},
   "outputs": [
    {
     "data": {
      "text/plain": [
       "<bound method Graph.adjacency of <networkx.classes.graph.Graph object at 0x0000025CD3186DC0>>"
      ]
     },
     "execution_count": 16,
     "metadata": {},
     "output_type": "execute_result"
    }
   ],
   "source": [
    "G.adjacency"
   ]
  },
  {
   "cell_type": "code",
   "execution_count": 18,
   "id": "86b7c581",
   "metadata": {},
   "outputs": [],
   "source": [
    "# Add node attributes using add_node(), add_nodes_from() or G.nodes\n",
    "G.add_node(1, time=\"5pm\")"
   ]
  },
  {
   "cell_type": "code",
   "execution_count": 28,
   "id": "c5f8951b",
   "metadata": {},
   "outputs": [
    {
     "data": {
      "text/plain": [
       "{'day': 'Friday'}"
      ]
     },
     "execution_count": 28,
     "metadata": {},
     "output_type": "execute_result"
    }
   ],
   "source": [
    "G.graph"
   ]
  },
  {
   "cell_type": "code",
   "execution_count": 20,
   "id": "e733c43b",
   "metadata": {},
   "outputs": [],
   "source": [
    "G.add_nodes_from([3], time=\"2pm\")"
   ]
  },
  {
   "cell_type": "code",
   "execution_count": 26,
   "id": "80cc43ec",
   "metadata": {},
   "outputs": [
    {
     "data": {
      "text/plain": [
       "{'time': '5pm'}"
      ]
     },
     "execution_count": 26,
     "metadata": {},
     "output_type": "execute_result"
    }
   ],
   "source": [
    "G.nodes[1]"
   ]
  },
  {
   "cell_type": "code",
   "execution_count": 27,
   "id": "cdc40311",
   "metadata": {},
   "outputs": [
    {
     "data": {
      "text/plain": [
       "{'time': '2pm'}"
      ]
     },
     "execution_count": 27,
     "metadata": {},
     "output_type": "execute_result"
    }
   ],
   "source": [
    "G.nodes[3]"
   ]
  },
  {
   "cell_type": "code",
   "execution_count": 29,
   "id": "19462e10",
   "metadata": {},
   "outputs": [],
   "source": [
    "G.nodes[1][\"room\"] = 714  # node must exist already to use G.nodes"
   ]
  },
  {
   "cell_type": "code",
   "execution_count": 30,
   "id": "2750f169",
   "metadata": {},
   "outputs": [
    {
     "data": {
      "text/plain": [
       "[(1, {'time': '5pm', 'room': 714}), (3, {'time': '2pm'})]"
      ]
     },
     "execution_count": 30,
     "metadata": {},
     "output_type": "execute_result"
    }
   ],
   "source": [
    "list(G.nodes(data=True))"
   ]
  },
  {
   "cell_type": "code",
   "execution_count": 31,
   "id": "301a924c",
   "metadata": {},
   "outputs": [],
   "source": [
    "del G.nodes[1][\"room\"]  # remove attribute"
   ]
  },
  {
   "cell_type": "code",
   "execution_count": 32,
   "id": "df439bf8",
   "metadata": {},
   "outputs": [
    {
     "data": {
      "text/plain": [
       "[(1, {'time': '5pm'}), (3, {'time': '2pm'})]"
      ]
     },
     "execution_count": 32,
     "metadata": {},
     "output_type": "execute_result"
    }
   ],
   "source": [
    "list(G.nodes(data=True))"
   ]
  },
  {
   "cell_type": "code",
   "execution_count": 33,
   "id": "ea54422f",
   "metadata": {},
   "outputs": [],
   "source": [
    "# Add edge attributes using add_edge(), add_edges_from(), subscript notation, or G.edges.\n",
    "G.add_edge(1, 2, weight=4.7)"
   ]
  },
  {
   "cell_type": "code",
   "execution_count": 34,
   "id": "49575ac7",
   "metadata": {},
   "outputs": [
    {
     "data": {
      "text/plain": [
       "[(1, {'time': '5pm'}), (3, {'time': '2pm'}), (2, {})]"
      ]
     },
     "execution_count": 34,
     "metadata": {},
     "output_type": "execute_result"
    }
   ],
   "source": [
    "list(G.nodes(data=True))"
   ]
  },
  {
   "cell_type": "code",
   "execution_count": 35,
   "id": "962b9b78",
   "metadata": {},
   "outputs": [
    {
     "data": {
      "text/plain": [
       "{'day': 'Friday'}"
      ]
     },
     "execution_count": 35,
     "metadata": {},
     "output_type": "execute_result"
    }
   ],
   "source": [
    "G.graph"
   ]
  },
  {
   "cell_type": "code",
   "execution_count": 36,
   "id": "a2f7b31f",
   "metadata": {},
   "outputs": [],
   "source": [
    "G.add_edges_from([(3, 4), (4, 5)], color=\"red\")"
   ]
  },
  {
   "cell_type": "code",
   "execution_count": 39,
   "id": "430c7345",
   "metadata": {},
   "outputs": [
    {
     "data": {
      "text/plain": [
       "NodeDataView({1: {'time': '5pm'}, 3: {'time': '2pm'}, 2: {}, 4: {}, 5: {}})"
      ]
     },
     "execution_count": 39,
     "metadata": {},
     "output_type": "execute_result"
    }
   ],
   "source": [
    "G.nodes(data=True)"
   ]
  },
  {
   "cell_type": "code",
   "execution_count": 40,
   "id": "487cec62",
   "metadata": {},
   "outputs": [
    {
     "data": {
      "text/plain": [
       "EdgeView([(1, 2), (3, 4), (4, 5)])"
      ]
     },
     "execution_count": 40,
     "metadata": {},
     "output_type": "execute_result"
    }
   ],
   "source": [
    "G.edges(data=True)"
   ]
  },
  {
   "cell_type": "code",
   "execution_count": 41,
   "id": "4f05edb7",
   "metadata": {},
   "outputs": [],
   "source": [
    "G.add_edges_from([(1, 2, {\"color\": \"blue\"}), (2, 3, {\"weight\": 8})])"
   ]
  },
  {
   "cell_type": "code",
   "execution_count": 42,
   "id": "0b740c27",
   "metadata": {},
   "outputs": [
    {
     "data": {
      "text/plain": [
       "EdgeDataView([(1, 2, {'weight': 4.7, 'color': 'blue'}), (3, 4, {'color': 'red'}), (3, 2, {'weight': 8}), (4, 5, {'color': 'red'})])"
      ]
     },
     "execution_count": 42,
     "metadata": {},
     "output_type": "execute_result"
    }
   ],
   "source": [
    "G.edges(data=True)"
   ]
  },
  {
   "cell_type": "code",
   "execution_count": 43,
   "id": "8b9a1c86",
   "metadata": {},
   "outputs": [
    {
     "data": {
      "text/plain": [
       "4.7"
      ]
     },
     "execution_count": 43,
     "metadata": {},
     "output_type": "execute_result"
    }
   ],
   "source": [
    "G[1][2][\"weight\"] "
   ]
  },
  {
   "cell_type": "code",
   "execution_count": 44,
   "id": "230c3205",
   "metadata": {},
   "outputs": [],
   "source": [
    "G[1][2][\"weight\"] = 4.7"
   ]
  },
  {
   "cell_type": "code",
   "execution_count": 45,
   "id": "1aab37e8",
   "metadata": {},
   "outputs": [
    {
     "data": {
      "text/plain": [
       "4.7"
      ]
     },
     "execution_count": 45,
     "metadata": {},
     "output_type": "execute_result"
    }
   ],
   "source": [
    "G.edges[1, 2][\"weight\"] "
   ]
  },
  {
   "cell_type": "code",
   "execution_count": 46,
   "id": "57e2c650",
   "metadata": {},
   "outputs": [],
   "source": [
    "G.edges[1, 2][\"weight\"] = 4"
   ]
  },
  {
   "cell_type": "code",
   "execution_count": 47,
   "id": "0b4904ef",
   "metadata": {},
   "outputs": [],
   "source": [
    "## For multigraphs: MG.edges[u, v, key][name] = value)"
   ]
  },
  {
   "cell_type": "code",
   "execution_count": 48,
   "id": "0deb7cc5",
   "metadata": {},
   "outputs": [
    {
     "data": {
      "text/plain": [
       "True"
      ]
     },
     "execution_count": 48,
     "metadata": {},
     "output_type": "execute_result"
    }
   ],
   "source": [
    "1 in G  # check if node in graph"
   ]
  },
  {
   "cell_type": "code",
   "execution_count": 50,
   "id": "58a1eda8",
   "metadata": {},
   "outputs": [
    {
     "data": {
      "text/plain": [
       "[1, 3, 2, 4, 5]"
      ]
     },
     "execution_count": 50,
     "metadata": {},
     "output_type": "execute_result"
    }
   ],
   "source": [
    "[n for n in G if n < 10]  # iterate through nodes"
   ]
  },
  {
   "cell_type": "code",
   "execution_count": 51,
   "id": "de330bc3",
   "metadata": {},
   "outputs": [
    {
     "data": {
      "text/plain": [
       "5"
      ]
     },
     "execution_count": 51,
     "metadata": {},
     "output_type": "execute_result"
    }
   ],
   "source": [
    "len(G)  # number of nodes in graph"
   ]
  },
  {
   "cell_type": "markdown",
   "id": "3ea7b941",
   "metadata": {},
   "source": [
    "Often the best way to traverse all edges of a graph is via the neighbors. <br>\n",
    "The neighbors are reported as an adjacency-dict G.adj or G.adjacency()"
   ]
  },
  {
   "cell_type": "code",
   "execution_count": 57,
   "id": "e98be742",
   "metadata": {},
   "outputs": [
    {
     "data": {
      "text/plain": [
       "{'weight': 4, 'color': 'blue'}"
      ]
     },
     "execution_count": 57,
     "metadata": {},
     "output_type": "execute_result"
    }
   ],
   "source": [
    "G.adj[1][2]"
   ]
  },
  {
   "cell_type": "code",
   "execution_count": 61,
   "id": "d7451e72",
   "metadata": {},
   "outputs": [
    {
     "data": {
      "text/plain": [
       "{'weight': 4, 'color': 'blue'}"
      ]
     },
     "execution_count": 61,
     "metadata": {},
     "output_type": "execute_result"
    }
   ],
   "source": [
    "G.edges[1, 2]"
   ]
  },
  {
   "cell_type": "code",
   "execution_count": 63,
   "id": "e1d1d394",
   "metadata": {},
   "outputs": [
    {
     "data": {
      "text/plain": [
       "{'time': '5pm'}"
      ]
     },
     "execution_count": 63,
     "metadata": {},
     "output_type": "execute_result"
    }
   ],
   "source": [
    "G.nodes[1]"
   ]
  },
  {
   "cell_type": "code",
   "execution_count": 64,
   "id": "80bfca71",
   "metadata": {},
   "outputs": [
    {
     "data": {
      "text/plain": [
       "{'day': 'Friday'}"
      ]
     },
     "execution_count": 64,
     "metadata": {},
     "output_type": "execute_result"
    }
   ],
   "source": [
    "G.graph"
   ]
  },
  {
   "cell_type": "code",
   "execution_count": 66,
   "id": "8c0160ce",
   "metadata": {},
   "outputs": [
    {
     "data": {
      "text/plain": [
       "ItemsView(NodeView((1, 3, 2, 4, 5)))"
      ]
     },
     "execution_count": 66,
     "metadata": {},
     "output_type": "execute_result"
    }
   ],
   "source": [
    "G.nodes.items()"
   ]
  },
  {
   "cell_type": "code",
   "execution_count": 67,
   "id": "f3381e9d",
   "metadata": {},
   "outputs": [
    {
     "data": {
      "text/plain": [
       "NodeDataView({1: None, 3: None, 2: None, 4: None, 5: None}, data='color')"
      ]
     },
     "execution_count": 67,
     "metadata": {},
     "output_type": "execute_result"
    }
   ],
   "source": [
    "G.nodes.data('color')"
   ]
  },
  {
   "cell_type": "code",
   "execution_count": 68,
   "id": "7f1c8f99",
   "metadata": {},
   "outputs": [
    {
     "data": {
      "text/plain": [
       "NodeDataView({1: 'blue', 3: 'blue', 2: 'blue', 4: 'blue', 5: 'blue'}, data='color')"
      ]
     },
     "execution_count": 68,
     "metadata": {},
     "output_type": "execute_result"
    }
   ],
   "source": [
    "G.nodes.data('color', default='blue')"
   ]
  },
  {
   "cell_type": "code",
   "execution_count": 69,
   "id": "f2eb31c7",
   "metadata": {},
   "outputs": [
    {
     "data": {
      "text/plain": [
       "NodeDataView({1: None, 3: None, 2: None, 4: None, 5: None}, data='color')"
      ]
     },
     "execution_count": 69,
     "metadata": {},
     "output_type": "execute_result"
    }
   ],
   "source": [
    "G.nodes.data('color')"
   ]
  },
  {
   "cell_type": "code",
   "execution_count": null,
   "id": "07b394a1",
   "metadata": {},
   "outputs": [],
   "source": []
  },
  {
   "cell_type": "code",
   "execution_count": 70,
   "id": "5954e70e",
   "metadata": {},
   "outputs": [
    {
     "data": {
      "text/plain": [
       "EdgeDataView([(1, 2, 'blue'), (3, 4, 'red'), (3, 2, None), (4, 5, 'red')])"
      ]
     },
     "execution_count": 70,
     "metadata": {},
     "output_type": "execute_result"
    }
   ],
   "source": [
    "G.edges.data('color')"
   ]
  },
  {
   "cell_type": "code",
   "execution_count": 71,
   "id": "e91d0035",
   "metadata": {},
   "outputs": [
    {
     "data": {
      "text/plain": [
       "EdgeDataView([(1, 2, 'blue'), (3, 4, 'red'), (3, 2, 'blue'), (4, 5, 'red')])"
      ]
     },
     "execution_count": 71,
     "metadata": {},
     "output_type": "execute_result"
    }
   ],
   "source": [
    "G.edges.data('color', default='blue')"
   ]
  },
  {
   "cell_type": "code",
   "execution_count": 72,
   "id": "a7dd02f7",
   "metadata": {},
   "outputs": [
    {
     "data": {
      "text/plain": [
       "EdgeDataView([(1, 2, 'blue'), (3, 4, 'red'), (3, 2, None), (4, 5, 'red')])"
      ]
     },
     "execution_count": 72,
     "metadata": {},
     "output_type": "execute_result"
    }
   ],
   "source": [
    "G.edges.data('color')"
   ]
  },
  {
   "cell_type": "code",
   "execution_count": null,
   "id": "59fddc87",
   "metadata": {},
   "outputs": [],
   "source": []
  },
  {
   "cell_type": "code",
   "execution_count": 83,
   "id": "8852a39e",
   "metadata": {},
   "outputs": [
    {
     "data": {
      "text/plain": [
       "DegreeView({1: 1, 3: 2, 2: 2, 4: 2, 5: 1})"
      ]
     },
     "execution_count": 83,
     "metadata": {},
     "output_type": "execute_result"
    }
   ],
   "source": [
    "G.degree"
   ]
  },
  {
   "cell_type": "code",
   "execution_count": 71,
   "id": "d10f0b03",
   "metadata": {},
   "outputs": [
    {
     "data": {
      "text/plain": [
       "EdgeDataView([(1, 2, 'blue'), (3, 4, 'red'), (3, 2, 'blue'), (4, 5, 'red')])"
      ]
     },
     "execution_count": 71,
     "metadata": {},
     "output_type": "execute_result"
    }
   ],
   "source": [
    "G.edges.data('color', default='blue')"
   ]
  },
  {
   "cell_type": "code",
   "execution_count": 72,
   "id": "3d7a837c",
   "metadata": {},
   "outputs": [
    {
     "data": {
      "text/plain": [
       "EdgeDataView([(1, 2, 'blue'), (3, 4, 'red'), (3, 2, None), (4, 5, 'red')])"
      ]
     },
     "execution_count": 72,
     "metadata": {},
     "output_type": "execute_result"
    }
   ],
   "source": [
    "G.edges.data('color')"
   ]
  },
  {
   "cell_type": "code",
   "execution_count": null,
   "id": "61e114a2",
   "metadata": {},
   "outputs": [],
   "source": []
  },
  {
   "cell_type": "code",
   "execution_count": 74,
   "id": "b68ed688",
   "metadata": {},
   "outputs": [
    {
     "data": {
      "text/plain": [
       "[(1, {2: {'weight': 4, 'color': 'blue'}}),\n",
       " (3, {4: {'color': 'red'}, 2: {'weight': 8}}),\n",
       " (2, {1: {'weight': 4, 'color': 'blue'}, 3: {'weight': 8}}),\n",
       " (4, {3: {'color': 'red'}, 5: {'color': 'red'}}),\n",
       " (5, {4: {'color': 'red'}})]"
      ]
     },
     "execution_count": 74,
     "metadata": {},
     "output_type": "execute_result"
    }
   ],
   "source": [
    "list(G.adjacency())"
   ]
  },
  {
   "cell_type": "code",
   "execution_count": 52,
   "id": "ffccb6ef",
   "metadata": {},
   "outputs": [],
   "source": [
    "for n, nbrsdict in G.adjacency(): \n",
    "    for nbr, eattr in nbrsdict.items():\n",
    "        if \"weight\" in eattr:\n",
    "            # Do something useful with the edges\n",
    "            pass           \n",
    "    "
   ]
  },
  {
   "cell_type": "code",
   "execution_count": 79,
   "id": "d793496a",
   "metadata": {},
   "outputs": [
    {
     "data": {
      "text/plain": [
       "EdgeDataView([(1, 2, 4), (3, 4, None), (3, 2, 8), (4, 5, None)])"
      ]
     },
     "execution_count": 79,
     "metadata": {},
     "output_type": "execute_result"
    }
   ],
   "source": [
    "G.edges.data(\"weight\")"
   ]
  },
  {
   "cell_type": "markdown",
   "id": "d8634e5a",
   "metadata": {},
   "source": [
    "But the edges() method is often more convenient:"
   ]
  },
  {
   "cell_type": "code",
   "execution_count": 56,
   "id": "b5f50a54",
   "metadata": {},
   "outputs": [],
   "source": [
    "for u, v, weight in G.edges.data(\"weight\"):\n",
    "    if weight is not None:\n",
    "       # Do something useful with the edges    \n",
    "        pass"
   ]
  },
  {
   "cell_type": "markdown",
   "id": "dcb0b93f",
   "metadata": {},
   "source": [
    "The objects nodes, edges and adj provide access to data attributes via lookup \n",
    "(e.g. nodes[n], edges[u, v], adj[u][v]) and iteration (e.g. nodes.items(), nodes.data('color'), nodes.data('color', default='blue') and similarly for edges) Views exist for nodes, edges, neighbors()/adj and degree."
   ]
  },
  {
   "cell_type": "code",
   "execution_count": null,
   "id": "37c32a13",
   "metadata": {},
   "outputs": [],
   "source": []
  },
  {
   "cell_type": "code",
   "execution_count": 84,
   "id": "3e568844",
   "metadata": {},
   "outputs": [],
   "source": [
    "G = nx.path_graph(3)"
   ]
  },
  {
   "cell_type": "code",
   "execution_count": 85,
   "id": "3df96c8f",
   "metadata": {},
   "outputs": [
    {
     "data": {
      "text/plain": [
       "[0, 1, 2]"
      ]
     },
     "execution_count": 85,
     "metadata": {},
     "output_type": "execute_result"
    }
   ],
   "source": [
    "list(G.nodes)"
   ]
  },
  {
   "cell_type": "code",
   "execution_count": 86,
   "id": "b8b84eb0",
   "metadata": {},
   "outputs": [
    {
     "data": {
      "text/plain": [
       "[0, 1, 2]"
      ]
     },
     "execution_count": 86,
     "metadata": {},
     "output_type": "execute_result"
    }
   ],
   "source": [
    "list(G)"
   ]
  },
  {
   "cell_type": "code",
   "execution_count": 87,
   "id": "573a5c40",
   "metadata": {},
   "outputs": [],
   "source": [
    "G.add_node(1, time=\"5pm\")"
   ]
  },
  {
   "cell_type": "code",
   "execution_count": 88,
   "id": "34e70265",
   "metadata": {},
   "outputs": [],
   "source": [
    "G.nodes[0][\"foo\"] = \"bar\""
   ]
  },
  {
   "cell_type": "code",
   "execution_count": 89,
   "id": "fabe828f",
   "metadata": {},
   "outputs": [
    {
     "data": {
      "text/plain": [
       "[(0, {'foo': 'bar'}), (1, {'time': '5pm'}), (2, {})]"
      ]
     },
     "execution_count": 89,
     "metadata": {},
     "output_type": "execute_result"
    }
   ],
   "source": [
    "list(G.nodes(data=True))"
   ]
  },
  {
   "cell_type": "code",
   "execution_count": 90,
   "id": "268b52a2",
   "metadata": {},
   "outputs": [
    {
     "data": {
      "text/plain": [
       "[(0, {'foo': 'bar'}), (1, {'time': '5pm'}), (2, {})]"
      ]
     },
     "execution_count": 90,
     "metadata": {},
     "output_type": "execute_result"
    }
   ],
   "source": [
    "list(G.nodes.data())"
   ]
  },
  {
   "cell_type": "code",
   "execution_count": 91,
   "id": "2fbaf442",
   "metadata": {},
   "outputs": [
    {
     "data": {
      "text/plain": [
       "[(0, 'bar'), (1, None), (2, None)]"
      ]
     },
     "execution_count": 91,
     "metadata": {},
     "output_type": "execute_result"
    }
   ],
   "source": [
    "list(G.nodes(data=\"foo\"))"
   ]
  },
  {
   "cell_type": "code",
   "execution_count": 92,
   "id": "85aed3d8",
   "metadata": {},
   "outputs": [
    {
     "data": {
      "text/plain": [
       "[(0, 'bar'), (1, None), (2, None)]"
      ]
     },
     "execution_count": 92,
     "metadata": {},
     "output_type": "execute_result"
    }
   ],
   "source": [
    "list(G.nodes.data(\"foo\"))"
   ]
  },
  {
   "cell_type": "code",
   "execution_count": 93,
   "id": "4296fcf5",
   "metadata": {},
   "outputs": [
    {
     "data": {
      "text/plain": [
       "[(0, None), (1, '5pm'), (2, None)]"
      ]
     },
     "execution_count": 93,
     "metadata": {},
     "output_type": "execute_result"
    }
   ],
   "source": [
    "list(G.nodes(data=\"time\"))"
   ]
  },
  {
   "cell_type": "code",
   "execution_count": 94,
   "id": "f3abea73",
   "metadata": {},
   "outputs": [
    {
     "data": {
      "text/plain": [
       "[(0, None), (1, '5pm'), (2, None)]"
      ]
     },
     "execution_count": 94,
     "metadata": {},
     "output_type": "execute_result"
    }
   ],
   "source": [
    "list(G.nodes.data(\"time\"))"
   ]
  },
  {
   "cell_type": "code",
   "execution_count": 95,
   "id": "e50a4a28",
   "metadata": {},
   "outputs": [
    {
     "data": {
      "text/plain": [
       "[(0, 'Not Available'), (1, '5pm'), (2, 'Not Available')]"
      ]
     },
     "execution_count": 95,
     "metadata": {},
     "output_type": "execute_result"
    }
   ],
   "source": [
    "list(G.nodes(data=\"time\", default=\"Not Available\"))"
   ]
  },
  {
   "cell_type": "code",
   "execution_count": 96,
   "id": "e9c0c218",
   "metadata": {},
   "outputs": [
    {
     "data": {
      "text/plain": [
       "[(0, 'Not Available'), (1, '5pm'), (2, 'Not Available')]"
      ]
     },
     "execution_count": 96,
     "metadata": {},
     "output_type": "execute_result"
    }
   ],
   "source": [
    "list(G.nodes.data(\"time\", default=\"Not Available\"))"
   ]
  },
  {
   "cell_type": "code",
   "execution_count": 97,
   "id": "23e32526",
   "metadata": {},
   "outputs": [],
   "source": [
    "G = nx.path_graph(4)  # or DiGraph, MultiGraph, MultiDiGraph, etc"
   ]
  },
  {
   "cell_type": "code",
   "execution_count": 98,
   "id": "ee9b509d",
   "metadata": {},
   "outputs": [
    {
     "data": {
      "text/plain": [
       "[0, 1, 2, 3]"
      ]
     },
     "execution_count": 98,
     "metadata": {},
     "output_type": "execute_result"
    }
   ],
   "source": [
    "[n for n in G]"
   ]
  },
  {
   "cell_type": "code",
   "execution_count": 99,
   "id": "ab5cfb96",
   "metadata": {},
   "outputs": [
    {
     "data": {
      "text/plain": [
       "[0, 1, 2, 3]"
      ]
     },
     "execution_count": 99,
     "metadata": {},
     "output_type": "execute_result"
    }
   ],
   "source": [
    "list(G)"
   ]
  },
  {
   "cell_type": "code",
   "execution_count": 100,
   "id": "943e306b",
   "metadata": {},
   "outputs": [
    {
     "data": {
      "text/plain": [
       "True"
      ]
     },
     "execution_count": 100,
     "metadata": {},
     "output_type": "execute_result"
    }
   ],
   "source": [
    "G.has_node(0)"
   ]
  },
  {
   "cell_type": "code",
   "execution_count": 101,
   "id": "f606d6e3",
   "metadata": {},
   "outputs": [
    {
     "data": {
      "text/plain": [
       "True"
      ]
     },
     "execution_count": 101,
     "metadata": {},
     "output_type": "execute_result"
    }
   ],
   "source": [
    "0 in G"
   ]
  },
  {
   "cell_type": "code",
   "execution_count": 102,
   "id": "c01c51bd",
   "metadata": {},
   "outputs": [
    {
     "data": {
      "text/plain": [
       "[(0, 1), (1, 2), (2, 3)]"
      ]
     },
     "execution_count": 102,
     "metadata": {},
     "output_type": "execute_result"
    }
   ],
   "source": [
    "G = nx.path_graph(3)  # or MultiGraph, etc\n",
    "G.add_edge(2, 3, weight=5)\n",
    "[e for e in G.edges]"
   ]
  },
  {
   "cell_type": "code",
   "execution_count": 103,
   "id": "f6de0598",
   "metadata": {},
   "outputs": [
    {
     "data": {
      "text/plain": [
       "EdgeDataView([(0, 1, {}), (1, 2, {}), (2, 3, {'weight': 5})])"
      ]
     },
     "execution_count": 103,
     "metadata": {},
     "output_type": "execute_result"
    }
   ],
   "source": [
    "G.edges.data()  # default data is {} (empty dict)"
   ]
  },
  {
   "cell_type": "code",
   "execution_count": 105,
   "id": "52f9cd2d",
   "metadata": {},
   "outputs": [
    {
     "data": {
      "text/plain": [
       "EdgeDataView([(0, 1, 1), (1, 2, 1), (2, 3, 5)])"
      ]
     },
     "execution_count": 105,
     "metadata": {},
     "output_type": "execute_result"
    }
   ],
   "source": [
    "G.edges.data(\"weight\", default=1)"
   ]
  },
  {
   "cell_type": "code",
   "execution_count": 106,
   "id": "bd6ed96e",
   "metadata": {},
   "outputs": [
    {
     "data": {
      "text/plain": [
       "EdgeDataView([(0, 1), (3, 2)])"
      ]
     },
     "execution_count": 106,
     "metadata": {},
     "output_type": "execute_result"
    }
   ],
   "source": [
    "G.edges([0, 3])  # only edges incident to these nodes"
   ]
  },
  {
   "cell_type": "code",
   "execution_count": 107,
   "id": "02d9e8b9",
   "metadata": {},
   "outputs": [
    {
     "data": {
      "text/plain": [
       "EdgeDataView([(0, 1)])"
      ]
     },
     "execution_count": 107,
     "metadata": {},
     "output_type": "execute_result"
    }
   ],
   "source": [
    "G.edges(0)  # only edges incident to a single node (use G.adj[0]?)"
   ]
  },
  {
   "cell_type": "code",
   "execution_count": 108,
   "id": "8c2f3803",
   "metadata": {},
   "outputs": [],
   "source": [
    "G = nx.path_graph(4)  # or DiGraph, MultiGraph, MultiDiGraph, etc"
   ]
  },
  {
   "cell_type": "code",
   "execution_count": 109,
   "id": "94e99e52",
   "metadata": {},
   "outputs": [
    {
     "data": {
      "text/plain": [
       "True"
      ]
     },
     "execution_count": 109,
     "metadata": {},
     "output_type": "execute_result"
    }
   ],
   "source": [
    "G.has_edge(0, 1)  # using two nodes"
   ]
  },
  {
   "cell_type": "code",
   "execution_count": 110,
   "id": "eceb683b",
   "metadata": {},
   "outputs": [],
   "source": [
    "e = (0, 1)"
   ]
  },
  {
   "cell_type": "code",
   "execution_count": 111,
   "id": "5a3f9bef",
   "metadata": {},
   "outputs": [
    {
     "data": {
      "text/plain": [
       "True"
      ]
     },
     "execution_count": 111,
     "metadata": {},
     "output_type": "execute_result"
    }
   ],
   "source": [
    "G.has_edge(*e)  #  e is a 2-tuple (u, v)"
   ]
  },
  {
   "cell_type": "code",
   "execution_count": 112,
   "id": "98983bfc",
   "metadata": {},
   "outputs": [],
   "source": [
    "e = (0, 1, {\"weight\": 7})"
   ]
  },
  {
   "cell_type": "code",
   "execution_count": 113,
   "id": "90db58ff",
   "metadata": {},
   "outputs": [
    {
     "data": {
      "text/plain": [
       "True"
      ]
     },
     "execution_count": 113,
     "metadata": {},
     "output_type": "execute_result"
    }
   ],
   "source": [
    "G.has_edge(*e[:2])  # e is a 3-tuple (u, v, data_dictionary)"
   ]
  },
  {
   "cell_type": "code",
   "execution_count": 114,
   "id": "3256ec10",
   "metadata": {},
   "outputs": [
    {
     "data": {
      "text/plain": [
       "True"
      ]
     },
     "execution_count": 114,
     "metadata": {},
     "output_type": "execute_result"
    }
   ],
   "source": [
    "G.has_edge(0, 1)"
   ]
  },
  {
   "cell_type": "code",
   "execution_count": 115,
   "id": "68369bff",
   "metadata": {},
   "outputs": [
    {
     "data": {
      "text/plain": [
       "True"
      ]
     },
     "execution_count": 115,
     "metadata": {},
     "output_type": "execute_result"
    }
   ],
   "source": [
    "1 in G[0]  # though this gives KeyError if 0 not in G"
   ]
  },
  {
   "cell_type": "code",
   "execution_count": 116,
   "id": "fd1bc196",
   "metadata": {},
   "outputs": [],
   "source": [
    "G = nx.path_graph(4)  # or DiGraph, MultiGraph, MultiDiGraph, etc"
   ]
  },
  {
   "cell_type": "code",
   "execution_count": 117,
   "id": "1970d922",
   "metadata": {},
   "outputs": [
    {
     "data": {
      "text/plain": [
       "{}"
      ]
     },
     "execution_count": 117,
     "metadata": {},
     "output_type": "execute_result"
    }
   ],
   "source": [
    "G[0][1]"
   ]
  },
  {
   "cell_type": "code",
   "execution_count": 118,
   "id": "e1cdc458",
   "metadata": {},
   "outputs": [],
   "source": [
    "G[0][1][\"weight\"] = 7"
   ]
  },
  {
   "cell_type": "code",
   "execution_count": 119,
   "id": "3b98272a",
   "metadata": {},
   "outputs": [
    {
     "data": {
      "text/plain": [
       "7"
      ]
     },
     "execution_count": 119,
     "metadata": {},
     "output_type": "execute_result"
    }
   ],
   "source": [
    "G[0][1][\"weight\"]"
   ]
  },
  {
   "cell_type": "code",
   "execution_count": 120,
   "id": "dfd46628",
   "metadata": {},
   "outputs": [
    {
     "data": {
      "text/plain": [
       "7"
      ]
     },
     "execution_count": 120,
     "metadata": {},
     "output_type": "execute_result"
    }
   ],
   "source": [
    "G[1][0][\"weight\"]"
   ]
  },
  {
   "cell_type": "code",
   "execution_count": 121,
   "id": "098e79f3",
   "metadata": {},
   "outputs": [
    {
     "data": {
      "text/plain": [
       "{'weight': 7}"
      ]
     },
     "execution_count": 121,
     "metadata": {},
     "output_type": "execute_result"
    }
   ],
   "source": [
    "G.get_edge_data(0, 1)  # default edge data is {}"
   ]
  },
  {
   "cell_type": "code",
   "execution_count": 122,
   "id": "014fd3d1",
   "metadata": {},
   "outputs": [],
   "source": [
    "e = (0, 1)"
   ]
  },
  {
   "cell_type": "code",
   "execution_count": 123,
   "id": "da195a84",
   "metadata": {},
   "outputs": [
    {
     "data": {
      "text/plain": [
       "{'weight': 7}"
      ]
     },
     "execution_count": 123,
     "metadata": {},
     "output_type": "execute_result"
    }
   ],
   "source": [
    "G.get_edge_data(*e)  # tuple form"
   ]
  },
  {
   "cell_type": "code",
   "execution_count": 124,
   "id": "8a081300",
   "metadata": {},
   "outputs": [
    {
     "data": {
      "text/plain": [
       "0"
      ]
     },
     "execution_count": 124,
     "metadata": {},
     "output_type": "execute_result"
    }
   ],
   "source": [
    "G.get_edge_data(\"a\", \"b\", default=0)  # edge not in graph, return 0"
   ]
  },
  {
   "cell_type": "code",
   "execution_count": 125,
   "id": "6bb4525c",
   "metadata": {},
   "outputs": [],
   "source": [
    "# Returns an iterator over all neighbors of node n.\n",
    "G.add_edge(\"a\", \"b\", weight=7)"
   ]
  },
  {
   "cell_type": "code",
   "execution_count": 126,
   "id": "b38f8c0f",
   "metadata": {},
   "outputs": [
    {
     "data": {
      "text/plain": [
       "AtlasView({'b': {'weight': 7}})"
      ]
     },
     "execution_count": 126,
     "metadata": {},
     "output_type": "execute_result"
    }
   ],
   "source": [
    "G[\"a\"]"
   ]
  },
  {
   "cell_type": "code",
   "execution_count": 128,
   "id": "ce582f18",
   "metadata": {},
   "outputs": [
    {
     "data": {
      "text/plain": [
       "[0, 1, 2, 3, 'a', 'b']"
      ]
     },
     "execution_count": 128,
     "metadata": {},
     "output_type": "execute_result"
    }
   ],
   "source": [
    "[n for n in G]"
   ]
  },
  {
   "cell_type": "code",
   "execution_count": 130,
   "id": "49d9cb9d",
   "metadata": {},
   "outputs": [
    {
     "data": {
      "text/plain": [
       "{'weight': 7}"
      ]
     },
     "execution_count": 130,
     "metadata": {},
     "output_type": "execute_result"
    }
   ],
   "source": [
    "G[0][1]"
   ]
  },
  {
   "cell_type": "code",
   "execution_count": 131,
   "id": "3e598a82",
   "metadata": {},
   "outputs": [
    {
     "data": {
      "text/plain": [
       "''"
      ]
     },
     "execution_count": 131,
     "metadata": {},
     "output_type": "execute_result"
    }
   ],
   "source": [
    "G.name"
   ]
  },
  {
   "cell_type": "code",
   "execution_count": 132,
   "id": "e6c5243c",
   "metadata": {},
   "outputs": [],
   "source": [
    "G.name=\"test\""
   ]
  },
  {
   "cell_type": "code",
   "execution_count": 133,
   "id": "0f241e7b",
   "metadata": {},
   "outputs": [
    {
     "data": {
      "text/plain": [
       "'test'"
      ]
     },
     "execution_count": 133,
     "metadata": {},
     "output_type": "execute_result"
    }
   ],
   "source": [
    "G.name"
   ]
  },
  {
   "cell_type": "code",
   "execution_count": 134,
   "id": "c2a9cbd1",
   "metadata": {},
   "outputs": [
    {
     "data": {
      "text/plain": [
       "NodeView((0, 1, 2, 3, 'a', 'b'))"
      ]
     },
     "execution_count": 134,
     "metadata": {},
     "output_type": "execute_result"
    }
   ],
   "source": [
    "G.nodes"
   ]
  },
  {
   "cell_type": "code",
   "execution_count": 135,
   "id": "2390e4e6",
   "metadata": {},
   "outputs": [
    {
     "data": {
      "text/plain": [
       "{}"
      ]
     },
     "execution_count": 135,
     "metadata": {},
     "output_type": "execute_result"
    }
   ],
   "source": [
    "G.nodes[0]"
   ]
  },
  {
   "cell_type": "code",
   "execution_count": 137,
   "id": "28c7aa5a",
   "metadata": {},
   "outputs": [
    {
     "data": {
      "text/plain": [
       "{}"
      ]
     },
     "execution_count": 137,
     "metadata": {},
     "output_type": "execute_result"
    }
   ],
   "source": [
    "G.nodes[0]"
   ]
  },
  {
   "cell_type": "code",
   "execution_count": 138,
   "id": "10bf0c19",
   "metadata": {},
   "outputs": [],
   "source": [
    "G = nx.path_graph(4)  # or DiGraph, MultiGraph, MultiDiGraph, etc"
   ]
  },
  {
   "cell_type": "code",
   "execution_count": 140,
   "id": "906bce5e",
   "metadata": {},
   "outputs": [
    {
     "data": {
      "text/plain": [
       "[0, 1, 2, 3]"
      ]
     },
     "execution_count": 140,
     "metadata": {},
     "output_type": "execute_result"
    }
   ],
   "source": [
    "[n for n in G]"
   ]
  },
  {
   "cell_type": "code",
   "execution_count": 142,
   "id": "7f7fb600",
   "metadata": {},
   "outputs": [
    {
     "data": {
      "text/plain": [
       "[0, 1, 2, 3]"
      ]
     },
     "execution_count": 142,
     "metadata": {},
     "output_type": "execute_result"
    }
   ],
   "source": [
    "[n for n in G.adj]"
   ]
  },
  {
   "cell_type": "code",
   "execution_count": 141,
   "id": "8e450399",
   "metadata": {},
   "outputs": [
    {
     "data": {
      "text/plain": [
       "[(0, 1), (1, 2), (2, 3)]"
      ]
     },
     "execution_count": 141,
     "metadata": {},
     "output_type": "execute_result"
    }
   ],
   "source": [
    "[n for n in G.edges]"
   ]
  },
  {
   "cell_type": "code",
   "execution_count": 143,
   "id": "761b00e4",
   "metadata": {},
   "outputs": [
    {
     "data": {
      "text/plain": [
       "[(0, {1: {}}), (1, {0: {}, 2: {}}), (2, {1: {}, 3: {}}), (3, {2: {}})]"
      ]
     },
     "execution_count": 143,
     "metadata": {},
     "output_type": "execute_result"
    }
   ],
   "source": [
    "[n for n in G.adjacency()]"
   ]
  },
  {
   "cell_type": "code",
   "execution_count": 139,
   "id": "7fd52ecd",
   "metadata": {},
   "outputs": [
    {
     "data": {
      "text/plain": [
       "[1]"
      ]
     },
     "execution_count": 139,
     "metadata": {},
     "output_type": "execute_result"
    }
   ],
   "source": [
    "[n for n in G.neighbors(0)]"
   ]
  },
  {
   "cell_type": "code",
   "execution_count": 144,
   "id": "1ad2db36",
   "metadata": {},
   "outputs": [
    {
     "data": {
      "text/plain": [
       "[(0, {1: {}}), (1, {0: {}, 2: {}}), (2, {1: {}, 3: {}}), (3, {2: {}})]"
      ]
     },
     "execution_count": 144,
     "metadata": {},
     "output_type": "execute_result"
    }
   ],
   "source": [
    "[(n, nbrdict) for n, nbrdict in G.adjacency()]"
   ]
  },
  {
   "cell_type": "code",
   "execution_count": 145,
   "id": "4861d680",
   "metadata": {},
   "outputs": [],
   "source": [
    "G = nx.path_graph(3)  # or MultiGraph, etc"
   ]
  },
  {
   "cell_type": "code",
   "execution_count": 146,
   "id": "ecced224",
   "metadata": {},
   "outputs": [],
   "source": [
    "G.add_edge(2, 3, weight=5)"
   ]
  },
  {
   "cell_type": "code",
   "execution_count": 147,
   "id": "e34fd775",
   "metadata": {},
   "outputs": [
    {
     "data": {
      "text/plain": [
       "[(0, 1), (1, 2), (2, 3)]"
      ]
     },
     "execution_count": 147,
     "metadata": {},
     "output_type": "execute_result"
    }
   ],
   "source": [
    "[e for e in G.edges]"
   ]
  },
  {
   "cell_type": "code",
   "execution_count": 148,
   "id": "1e9ae466",
   "metadata": {},
   "outputs": [
    {
     "data": {
      "text/plain": [
       "EdgeDataView([(0, 1, {}), (1, 2, {}), (2, 3, {'weight': 5})])"
      ]
     },
     "execution_count": 148,
     "metadata": {},
     "output_type": "execute_result"
    }
   ],
   "source": [
    "G.edges.data()  # default data is {} (empty dict)"
   ]
  },
  {
   "cell_type": "code",
   "execution_count": 149,
   "id": "f6d96eb1",
   "metadata": {},
   "outputs": [
    {
     "data": {
      "text/plain": [
       "EdgeDataView([(0, 1, 1), (1, 2, 1), (2, 3, 5)])"
      ]
     },
     "execution_count": 149,
     "metadata": {},
     "output_type": "execute_result"
    }
   ],
   "source": [
    "G.edges.data(\"weight\", default=1)"
   ]
  },
  {
   "cell_type": "code",
   "execution_count": 150,
   "id": "1f6e9f8d",
   "metadata": {},
   "outputs": [
    {
     "data": {
      "text/plain": [
       "EdgeDataView([(0, 1), (3, 2)])"
      ]
     },
     "execution_count": 150,
     "metadata": {},
     "output_type": "execute_result"
    }
   ],
   "source": [
    "G.edges([0, 3])  # only edges incident to these nodes"
   ]
  },
  {
   "cell_type": "code",
   "execution_count": 151,
   "id": "2303e92a",
   "metadata": {},
   "outputs": [
    {
     "data": {
      "text/plain": [
       "EdgeDataView([(0, 1)])"
      ]
     },
     "execution_count": 151,
     "metadata": {},
     "output_type": "execute_result"
    }
   ],
   "source": [
    "G.edges(0)  # only edges incident to a single node (use G.adj[0]?)"
   ]
  },
  {
   "cell_type": "code",
   "execution_count": 154,
   "id": "13a7836f",
   "metadata": {},
   "outputs": [],
   "source": [
    "G = nx.path_graph(4)  # or DiGraph, MultiGraph, MultiDiGraph, etc"
   ]
  },
  {
   "cell_type": "code",
   "execution_count": 155,
   "id": "53b7ed74",
   "metadata": {},
   "outputs": [
    {
     "data": {
      "text/plain": [
       "4"
      ]
     },
     "execution_count": 155,
     "metadata": {},
     "output_type": "execute_result"
    }
   ],
   "source": [
    "# Returns the number of nodes in the graph.\n",
    "G.order()"
   ]
  },
  {
   "cell_type": "code",
   "execution_count": null,
   "id": "08209849",
   "metadata": {},
   "outputs": [],
   "source": [
    "# Returns the number of nodes in the graph.\n",
    "G.number_of_nodes()"
   ]
  },
  {
   "cell_type": "code",
   "execution_count": 156,
   "id": "1ebce0f1",
   "metadata": {},
   "outputs": [
    {
     "data": {
      "text/plain": [
       "4"
      ]
     },
     "execution_count": 156,
     "metadata": {},
     "output_type": "execute_result"
    }
   ],
   "source": [
    "# Returns the number of nodes in the graph.\n",
    "len(G)"
   ]
  },
  {
   "cell_type": "code",
   "execution_count": 158,
   "id": "0b51d848",
   "metadata": {},
   "outputs": [
    {
     "data": {
      "text/plain": [
       "DegreeView({0: 1, 1: 2, 2: 2, 3: 1})"
      ]
     },
     "execution_count": 158,
     "metadata": {},
     "output_type": "execute_result"
    }
   ],
   "source": [
    "# A DegreeView for the Graph as G.degree or G.degree().\n",
    "# The node degree is the number of edges adjacent to the node. \n",
    "# The weighted node degree is the sum of the edge weights for edges incident to that node.\n",
    "# This object provides an iterator for (node, degree) as well as lookup for the degree for a single node.\n",
    "G.degree"
   ]
  },
  {
   "cell_type": "code",
   "execution_count": 159,
   "id": "7f81a143",
   "metadata": {},
   "outputs": [
    {
     "data": {
      "text/plain": [
       "[(0, 1), (1, 2), (2, 2)]"
      ]
     },
     "execution_count": 159,
     "metadata": {},
     "output_type": "execute_result"
    }
   ],
   "source": [
    "list(G.degree([0, 1, 2]))"
   ]
  },
  {
   "cell_type": "code",
   "execution_count": 161,
   "id": "9c616396",
   "metadata": {},
   "outputs": [
    {
     "data": {
      "text/plain": [
       "[(0, 1)]"
      ]
     },
     "execution_count": 161,
     "metadata": {},
     "output_type": "execute_result"
    }
   ],
   "source": [
    "list(G.degree([0]))"
   ]
  },
  {
   "cell_type": "code",
   "execution_count": 162,
   "id": "9cb97fdd",
   "metadata": {},
   "outputs": [
    {
     "data": {
      "text/plain": [
       "3"
      ]
     },
     "execution_count": 162,
     "metadata": {},
     "output_type": "execute_result"
    }
   ],
   "source": [
    "# Returns the number of edges or total of all edge weights.\n",
    "G.size()"
   ]
  },
  {
   "cell_type": "code",
   "execution_count": 163,
   "id": "ddc6ebd7",
   "metadata": {},
   "outputs": [],
   "source": [
    "G = nx.Graph()  # or DiGraph, MultiGraph, MultiDiGraph, etc\n",
    "G.add_edge(\"a\", \"b\", weight=2)\n",
    "G.add_edge(\"b\", \"c\", weight=4)"
   ]
  },
  {
   "cell_type": "code",
   "execution_count": 164,
   "id": "26910c07",
   "metadata": {},
   "outputs": [
    {
     "data": {
      "text/plain": [
       "2"
      ]
     },
     "execution_count": 164,
     "metadata": {},
     "output_type": "execute_result"
    }
   ],
   "source": [
    "G.size()"
   ]
  },
  {
   "cell_type": "code",
   "execution_count": 165,
   "id": "d8afc228",
   "metadata": {},
   "outputs": [
    {
     "data": {
      "text/plain": [
       "6.0"
      ]
     },
     "execution_count": 165,
     "metadata": {},
     "output_type": "execute_result"
    }
   ],
   "source": [
    "G.size(weight=\"weight\")"
   ]
  },
  {
   "cell_type": "code",
   "execution_count": 166,
   "id": "b683af24",
   "metadata": {},
   "outputs": [
    {
     "data": {
      "text/plain": [
       "3"
      ]
     },
     "execution_count": 166,
     "metadata": {},
     "output_type": "execute_result"
    }
   ],
   "source": [
    "# Returns the number of edges between two nodes.\n",
    "G = nx.path_graph(4)\n",
    "G.number_of_edges()"
   ]
  },
  {
   "cell_type": "code",
   "execution_count": 167,
   "id": "eedcae2f",
   "metadata": {},
   "outputs": [
    {
     "data": {
      "text/plain": [
       "1"
      ]
     },
     "execution_count": 167,
     "metadata": {},
     "output_type": "execute_result"
    }
   ],
   "source": [
    "G.number_of_edges(0, 1)"
   ]
  },
  {
   "cell_type": "code",
   "execution_count": 168,
   "id": "1ae3791b",
   "metadata": {},
   "outputs": [],
   "source": [
    "G = nx.DiGraph()\n",
    "G.add_edge(0, 1)\n",
    "G.add_edge(1, 0)"
   ]
  },
  {
   "cell_type": "code",
   "execution_count": 169,
   "id": "df48964f",
   "metadata": {},
   "outputs": [
    {
     "data": {
      "text/plain": [
       "1"
      ]
     },
     "execution_count": 169,
     "metadata": {},
     "output_type": "execute_result"
    }
   ],
   "source": [
    "G.number_of_edges(0, 1)"
   ]
  },
  {
   "cell_type": "code",
   "execution_count": 170,
   "id": "c4d203c3",
   "metadata": {},
   "outputs": [
    {
     "data": {
      "text/plain": [
       "1"
      ]
     },
     "execution_count": 170,
     "metadata": {},
     "output_type": "execute_result"
    }
   ],
   "source": [
    "G.number_of_edges(1, 0)"
   ]
  },
  {
   "cell_type": "code",
   "execution_count": 171,
   "id": "13b512dc",
   "metadata": {},
   "outputs": [],
   "source": [
    "G = nx.path_graph(5)"
   ]
  },
  {
   "cell_type": "code",
   "execution_count": 172,
   "id": "ce1a46a9",
   "metadata": {},
   "outputs": [],
   "source": [
    "H = G.copy()"
   ]
  },
  {
   "cell_type": "code",
   "execution_count": 173,
   "id": "80ee9e08",
   "metadata": {},
   "outputs": [],
   "source": [
    "H = G.copy(as_view=False)"
   ]
  },
  {
   "cell_type": "code",
   "execution_count": 174,
   "id": "bde70c5c",
   "metadata": {},
   "outputs": [],
   "source": [
    "H = nx.Graph(G)"
   ]
  },
  {
   "cell_type": "code",
   "execution_count": 175,
   "id": "cf1aa606",
   "metadata": {},
   "outputs": [],
   "source": [
    "H = G.__class__(G)"
   ]
  },
  {
   "cell_type": "code",
   "execution_count": 176,
   "id": "b7d42f88",
   "metadata": {},
   "outputs": [],
   "source": [
    "H.add_nodes_from(G)\n",
    "H.add_edges_from(G.edges)"
   ]
  },
  {
   "cell_type": "code",
   "execution_count": 177,
   "id": "19dc8870",
   "metadata": {},
   "outputs": [],
   "source": [
    "G = nx.path_graph(4)  # or DiGraph, MultiGraph, MultiDiGraph, etc\n",
    "H = G.copy()"
   ]
  },
  {
   "cell_type": "code",
   "execution_count": 178,
   "id": "f5233c6e",
   "metadata": {},
   "outputs": [],
   "source": [
    "G = nx.path_graph(2)  # or MultiGraph, etc"
   ]
  },
  {
   "cell_type": "code",
   "execution_count": 183,
   "id": "0b388f2f",
   "metadata": {},
   "outputs": [
    {
     "data": {
      "text/plain": [
       "[(0, 1)]"
      ]
     },
     "execution_count": 183,
     "metadata": {},
     "output_type": "execute_result"
    }
   ],
   "source": [
    "list(G.edges)"
   ]
  },
  {
   "cell_type": "code",
   "execution_count": 185,
   "id": "4af25b33",
   "metadata": {},
   "outputs": [],
   "source": [
    "# Returns an directed copy of the graph\n",
    "H = G.to_directed()"
   ]
  },
  {
   "cell_type": "code",
   "execution_count": 181,
   "id": "3aaa2746",
   "metadata": {},
   "outputs": [
    {
     "data": {
      "text/plain": [
       "[(0, 1), (1, 0)]"
      ]
     },
     "execution_count": 181,
     "metadata": {},
     "output_type": "execute_result"
    }
   ],
   "source": [
    "list(H.edges)"
   ]
  },
  {
   "cell_type": "code",
   "execution_count": 186,
   "id": "82dd3596",
   "metadata": {},
   "outputs": [],
   "source": [
    "# Returns an undirected copy of the graph\n",
    "G2 = H.to_undirected()"
   ]
  },
  {
   "cell_type": "code",
   "execution_count": 187,
   "id": "0248250c",
   "metadata": {},
   "outputs": [
    {
     "data": {
      "text/plain": [
       "[(0, 1)]"
      ]
     },
     "execution_count": 187,
     "metadata": {},
     "output_type": "execute_result"
    }
   ],
   "source": [
    "list(G2.edges)"
   ]
  },
  {
   "cell_type": "code",
   "execution_count": 188,
   "id": "e455d805",
   "metadata": {},
   "outputs": [
    {
     "data": {
      "text/plain": [
       "[(0, 1), (1, 2)]"
      ]
     },
     "execution_count": 188,
     "metadata": {},
     "output_type": "execute_result"
    }
   ],
   "source": [
    "# Returns a SubGraph view of the subgraph induced on nodes.\n",
    "# The induced subgraph of the graph contains the nodes in nodes and the edges between those nodes.\n",
    "G = nx.path_graph(4)  # or DiGraph, MultiGraph, MultiDiGraph, etc\n",
    "H = G.subgraph([0, 1, 2])\n",
    "list(H.edges)"
   ]
  },
  {
   "cell_type": "code",
   "execution_count": 189,
   "id": "06716014",
   "metadata": {},
   "outputs": [
    {
     "data": {
      "text/plain": [
       "[0, 1, 3, 4]"
      ]
     },
     "execution_count": 189,
     "metadata": {},
     "output_type": "execute_result"
    }
   ],
   "source": [
    "# Returns the subgraph induced by the specified edges.\n",
    "# The induced subgraph contains each edge in edges and each node incident to any one of those edges.\n",
    "G = nx.path_graph(5)\n",
    "H = G.edge_subgraph([(0, 1), (3, 4)])\n",
    "list(H.nodes)"
   ]
  },
  {
   "cell_type": "code",
   "execution_count": 190,
   "id": "6b80ff04",
   "metadata": {},
   "outputs": [
    {
     "data": {
      "text/plain": [
       "[(0, 1), (3, 4)]"
      ]
     },
     "execution_count": 190,
     "metadata": {},
     "output_type": "execute_result"
    }
   ],
   "source": [
    "list(H.edges)"
   ]
  },
  {
   "cell_type": "code",
   "execution_count": 191,
   "id": "cb7d4eec",
   "metadata": {},
   "outputs": [],
   "source": [
    "G = nx.DiGraph()"
   ]
  },
  {
   "cell_type": "code",
   "execution_count": 192,
   "id": "9a9d78d0",
   "metadata": {},
   "outputs": [],
   "source": [
    "G.add_node(1)"
   ]
  },
  {
   "cell_type": "code",
   "execution_count": 193,
   "id": "bd52bc94",
   "metadata": {},
   "outputs": [],
   "source": [
    "G.add_nodes_from([2, 3])\n",
    "G.add_nodes_from(range(100, 110))\n",
    "H = nx.path_graph(10)\n",
    "G.add_nodes_from(H)"
   ]
  },
  {
   "cell_type": "code",
   "execution_count": 194,
   "id": "b84f4b1e",
   "metadata": {},
   "outputs": [
    {
     "data": {
      "text/plain": [
       "{'day': 'Friday'}"
      ]
     },
     "execution_count": 194,
     "metadata": {},
     "output_type": "execute_result"
    }
   ],
   "source": [
    "G = nx.DiGraph(day=\"Friday\")\n",
    "G.graph"
   ]
  },
  {
   "cell_type": "code",
   "execution_count": 195,
   "id": "f8b6e548",
   "metadata": {},
   "outputs": [],
   "source": [
    "G.add_node(1, time=\"5pm\")"
   ]
  },
  {
   "cell_type": "code",
   "execution_count": 196,
   "id": "5f685bea",
   "metadata": {},
   "outputs": [
    {
     "data": {
      "text/plain": [
       "{'time': '5pm'}"
      ]
     },
     "execution_count": 196,
     "metadata": {},
     "output_type": "execute_result"
    }
   ],
   "source": [
    "G.add_nodes_from([3], time=\"2pm\")\n",
    "G.nodes[1]"
   ]
  },
  {
   "cell_type": "code",
   "execution_count": 197,
   "id": "e98c63fc",
   "metadata": {},
   "outputs": [],
   "source": [
    "G.nodes[1][\"room\"] = 714"
   ]
  },
  {
   "cell_type": "code",
   "execution_count": 198,
   "id": "7476cfef",
   "metadata": {},
   "outputs": [
    {
     "data": {
      "text/plain": [
       "[(1, {'time': '5pm', 'room': 714}), (3, {'time': '2pm'})]"
      ]
     },
     "execution_count": 198,
     "metadata": {},
     "output_type": "execute_result"
    }
   ],
   "source": [
    "list(G.nodes(data=True))"
   ]
  },
  {
   "cell_type": "code",
   "execution_count": 199,
   "id": "f3ec07a7",
   "metadata": {},
   "outputs": [],
   "source": [
    "G.add_edge(1, 2, weight=4.7)\n",
    "G.add_edges_from([(3, 4), (4, 5)], color=\"red\")\n",
    "G.add_edges_from([(1, 2, {\"color\": \"blue\"}), (2, 3, {\"weight\": 8})])\n",
    "G[1][2][\"weight\"] = 4.7\n",
    "G.edges[1, 2][\"weight\"] = 4"
   ]
  },
  {
   "cell_type": "code",
   "execution_count": 200,
   "id": "26a15548",
   "metadata": {},
   "outputs": [
    {
     "data": {
      "text/plain": [
       "[(1, {'time': '5pm', 'room': 714}),\n",
       " (3, {'time': '2pm'}),\n",
       " (2, {}),\n",
       " (4, {}),\n",
       " (5, {})]"
      ]
     },
     "execution_count": 200,
     "metadata": {},
     "output_type": "execute_result"
    }
   ],
   "source": [
    "list(G.nodes(data=True))"
   ]
  },
  {
   "cell_type": "code",
   "execution_count": 202,
   "id": "2bbb37b6",
   "metadata": {},
   "outputs": [
    {
     "data": {
      "text/plain": [
       "[(1, 2, {'weight': 4, 'color': 'blue'}),\n",
       " (3, 4, {'color': 'red'}),\n",
       " (2, 3, {'weight': 8}),\n",
       " (4, 5, {'color': 'red'})]"
      ]
     },
     "execution_count": 202,
     "metadata": {},
     "output_type": "execute_result"
    }
   ],
   "source": [
    "list(G.edges(data=True))"
   ]
  },
  {
   "cell_type": "markdown",
   "id": "0c6f1238",
   "metadata": {},
   "source": [
    "subgraph_view(G, filter_node=<function no_filter>, filter_edge=<function no_filter>) <br>\n",
    "- View of G applying a filter on nodes and edges. <br>\n",
    "    \n",
    "#### Parameters\n",
    "##### Gnetworkx.Graph\n",
    "- A directed/undirected graph/multigraph\n",
    "\n",
    "#### filter_node callable, optional\n",
    "- A function taking a node as input, which returns True if the node should appear in the view.\n",
    "\n",
    "#### filter_edge callable, optional\n",
    "- A function taking as input the two nodes describing an edge (plus the edge-key if G is a multi-graph), which returns True if the edge should appear in the view.\n",
    "\n",
    "#### Returns\n",
    "- graphnetworkx.Graph\n",
    "- A read-only graph view of the input graph."
   ]
  },
  {
   "cell_type": "code",
   "execution_count": 203,
   "id": "afa5a5e6",
   "metadata": {},
   "outputs": [],
   "source": [
    "G = nx.path_graph(6)"
   ]
  },
  {
   "cell_type": "code",
   "execution_count": 204,
   "id": "b2a1c2a9",
   "metadata": {},
   "outputs": [],
   "source": [
    "def filter_node(n1):\n",
    "    return n1 != 5"
   ]
  },
  {
   "cell_type": "code",
   "execution_count": 205,
   "id": "d7a0c28c",
   "metadata": {},
   "outputs": [
    {
     "data": {
      "text/plain": [
       "NodeView((0, 1, 2, 3, 4))"
      ]
     },
     "execution_count": 205,
     "metadata": {},
     "output_type": "execute_result"
    }
   ],
   "source": [
    "view = nx.subgraph_view(G, filter_node = filter_node)\n",
    "view.nodes()"
   ]
  },
  {
   "cell_type": "code",
   "execution_count": 206,
   "id": "c118aaa7",
   "metadata": {},
   "outputs": [],
   "source": [
    "G[3][4][\"cross_me\"] = False"
   ]
  },
  {
   "cell_type": "code",
   "execution_count": 207,
   "id": "3278f4c2",
   "metadata": {},
   "outputs": [],
   "source": [
    "def filter_edge(n1, n2):\n",
    "    return G[n1][n2].get(\"cross_me\", True)"
   ]
  },
  {
   "cell_type": "code",
   "execution_count": 208,
   "id": "c646f4d7",
   "metadata": {},
   "outputs": [],
   "source": [
    "view = nx.subgraph_view(G, filter_edge=filter_edge)"
   ]
  },
  {
   "cell_type": "code",
   "execution_count": 209,
   "id": "84eb187e",
   "metadata": {},
   "outputs": [
    {
     "data": {
      "text/plain": [
       "EdgeView([(0, 1), (1, 2), (2, 3), (4, 5)])"
      ]
     },
     "execution_count": 209,
     "metadata": {},
     "output_type": "execute_result"
    }
   ],
   "source": [
    "view.edges()"
   ]
  },
  {
   "cell_type": "code",
   "execution_count": 212,
   "id": "85b5ede3",
   "metadata": {},
   "outputs": [
    {
     "data": {
      "text/plain": [
       "NodeView((0, 1, 2, 3, 4))"
      ]
     },
     "execution_count": 212,
     "metadata": {},
     "output_type": "execute_result"
    }
   ],
   "source": [
    "view = nx.subgraph_view(G, filter_node=filter_node, filter_edge=filter_edge,)\n",
    "view.nodes()"
   ]
  },
  {
   "cell_type": "code",
   "execution_count": 213,
   "id": "636599a7",
   "metadata": {},
   "outputs": [
    {
     "data": {
      "text/plain": [
       "EdgeView([(0, 1), (1, 2), (2, 3)])"
      ]
     },
     "execution_count": 213,
     "metadata": {},
     "output_type": "execute_result"
    }
   ],
   "source": [
    "view.edges()"
   ]
  },
  {
   "cell_type": "code",
   "execution_count": null,
   "id": "56233cf7",
   "metadata": {},
   "outputs": [],
   "source": []
  }
 ],
 "metadata": {
  "kernelspec": {
   "display_name": "Python 3 (ipykernel)",
   "language": "python",
   "name": "python3"
  },
  "language_info": {
   "codemirror_mode": {
    "name": "ipython",
    "version": 3
   },
   "file_extension": ".py",
   "mimetype": "text/x-python",
   "name": "python",
   "nbconvert_exporter": "python",
   "pygments_lexer": "ipython3",
   "version": "3.9.7"
  }
 },
 "nbformat": 4,
 "nbformat_minor": 5
}
