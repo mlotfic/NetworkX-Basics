{
 "cells": [
  {
   "cell_type": "markdown",
   "id": "501eb735",
   "metadata": {},
   "source": [
    "## NetworkX Basics\n",
    "After starting Python, import the networkx module with (the recommended way)"
   ]
  },
  {
   "cell_type": "code",
   "execution_count": 1,
   "id": "67912d6e",
   "metadata": {},
   "outputs": [],
   "source": [
    "import networkx as nx"
   ]
  },
  {
   "cell_type": "markdown",
   "id": "c0c1149f",
   "metadata": {},
   "source": [
    "### Graph\n",
    "- This class implements an undirected graph. \n",
    "- It ignores multiple edges between two nodes. \n",
    "- It does allow self-loop edges between a node and itself.\n",
    "- Base class for undirected graphs.\n",
    "- A Graph stores nodes and edges with optional data, or attributes.\n",
    "- Graphs hold undirected edges. \n",
    "- Self loops are allowed but multiple (parallel) edges are not.\n",
    "\n",
    "- Nodes can be arbitrary (hashable) Python objects with optional key/value attributes, except that None is not allowed as a node.\n",
    "\n",
    "- Edges are represented as links between nodes with optional key/value attributes.\n",
    "\n",
    "#### class Graph(incoming_graph_data=None, **attr)\n",
    "##### Parameters \"incoming_graph_datainput\"\n",
    "\n",
    "##### Attributes: attrkeyword arguments, optional (default= no attributes)\n",
    "- Attributes to add to graph as key=value pairs.\n",
    "- Each graph, node, and edge can hold key/value attribute pairs in an associated attribute dictionary (the keys must be hashable). \n",
    "- By default these are empty, but can be added or changed using \n",
    "- add_edge, \n",
    "- add_node or \n",
    "- direct manipulation of the attribute dictionaries named graph, node and edge respectively.\n",
    "\n",
    "\n",
    "If some edges connect nodes not yet in the graph, the nodes are added automatically. There are no errors when adding nodes or edges that already exist."
   ]
  },
  {
   "cell_type": "code",
   "execution_count": null,
   "id": "8779278a",
   "metadata": {},
   "outputs": [],
   "source": [
    "# convert \n",
    "# - edge list, \n",
    "# - dict of dicts, \n",
    "# - dict of lists, \n",
    "# - NetworkX graph, \n",
    "# - NumPy matrix or \n",
    "# - 2d ndarray, \n",
    "# - SciPy sparse matrix, or \n",
    "# - PyGraphviz graph.into graph\n",
    "\n",
    "##to_networkx_graph() function\n"
   ]
  },
  {
   "cell_type": "code",
   "execution_count": 2,
   "id": "03dc97f4",
   "metadata": {},
   "outputs": [],
   "source": [
    "# initialize graph (an empty graph is created)\n",
    "# Create an empty graph structure (a “null graph”) with no nodes and no edges.\n",
    "G = nx.Graph()"
   ]
  },
  {
   "cell_type": "code",
   "execution_count": 3,
   "id": "9e6ade41",
   "metadata": {},
   "outputs": [],
   "source": [
    "# Add one node at a time:\n",
    "G.add_node(1)"
   ]
  },
  {
   "cell_type": "code",
   "execution_count": null,
   "id": "e5b8afda",
   "metadata": {},
   "outputs": [],
   "source": [
    "# Add the nodes from any container \n",
    "# (a list, dict, set or even the lines from a file or the nodes from another graph)."
   ]
  },
  {
   "cell_type": "code",
   "execution_count": 4,
   "id": "bba4db3a",
   "metadata": {},
   "outputs": [],
   "source": [
    "G.add_nodes_from([2, 3])"
   ]
  },
  {
   "cell_type": "code",
   "execution_count": 5,
   "id": "bda4657c",
   "metadata": {},
   "outputs": [],
   "source": [
    "G.add_nodes_from(range(100, 110))"
   ]
  },
  {
   "cell_type": "code",
   "execution_count": 7,
   "id": "8aa3442d",
   "metadata": {},
   "outputs": [],
   "source": [
    "# create a path\n",
    "H = nx.path_graph(10)"
   ]
  },
  {
   "cell_type": "code",
   "execution_count": 9,
   "id": "603d97e8",
   "metadata": {},
   "outputs": [],
   "source": [
    "# add a path to graph\n",
    "G.add_nodes_from(H)"
   ]
  },
  {
   "cell_type": "code",
   "execution_count": 10,
   "id": "852d7207",
   "metadata": {},
   "outputs": [],
   "source": [
    "# G can also be grown by adding edges.\n",
    "# Add one edge,\n",
    "G.add_edge(1, 2)"
   ]
  },
  {
   "cell_type": "code",
   "execution_count": 11,
   "id": "3eb9e6de",
   "metadata": {},
   "outputs": [],
   "source": [
    "# a list of edges,\n",
    "G.add_edges_from([(1, 2), (1, 3)])"
   ]
  },
  {
   "cell_type": "code",
   "execution_count": 12,
   "id": "e5e47d85",
   "metadata": {},
   "outputs": [],
   "source": [
    "# or a collection of edges, from path\n",
    "G.add_edges_from(H.edges)"
   ]
  },
  {
   "cell_type": "code",
   "execution_count": 13,
   "id": "bf780a62",
   "metadata": {},
   "outputs": [],
   "source": [
    "G = nx.Graph(day=\"Friday\")"
   ]
  },
  {
   "cell_type": "code",
   "execution_count": 14,
   "id": "3ac9da33",
   "metadata": {},
   "outputs": [
    {
     "data": {
      "text/plain": [
       "{'day': 'Friday'}"
      ]
     },
     "execution_count": 14,
     "metadata": {},
     "output_type": "execute_result"
    }
   ],
   "source": [
    "G.graph"
   ]
  },
  {
   "cell_type": "code",
   "execution_count": 15,
   "id": "90a2ccc7",
   "metadata": {},
   "outputs": [
    {
     "data": {
      "text/plain": [
       "AdjacencyView({})"
      ]
     },
     "execution_count": 15,
     "metadata": {},
     "output_type": "execute_result"
    }
   ],
   "source": [
    "G.adj"
   ]
  },
  {
   "cell_type": "code",
   "execution_count": 16,
   "id": "fe3934d1",
   "metadata": {},
   "outputs": [
    {
     "data": {
      "text/plain": [
       "<bound method Graph.adjacency of <networkx.classes.graph.Graph object at 0x0000025CD3186DC0>>"
      ]
     },
     "execution_count": 16,
     "metadata": {},
     "output_type": "execute_result"
    }
   ],
   "source": [
    "G.adjacency"
   ]
  },
  {
   "cell_type": "code",
   "execution_count": 18,
   "id": "4ad333b0",
   "metadata": {},
   "outputs": [],
   "source": [
    "# Add node attributes using add_node(), add_nodes_from() or G.nodes\n",
    "G.add_node(1, time=\"5pm\")"
   ]
  },
  {
   "cell_type": "code",
   "execution_count": 28,
   "id": "0b9deeed",
   "metadata": {},
   "outputs": [
    {
     "data": {
      "text/plain": [
       "{'day': 'Friday'}"
      ]
     },
     "execution_count": 28,
     "metadata": {},
     "output_type": "execute_result"
    }
   ],
   "source": [
    "G.graph"
   ]
  },
  {
   "cell_type": "code",
   "execution_count": 20,
   "id": "87cdf1e4",
   "metadata": {},
   "outputs": [],
   "source": [
    "G.add_nodes_from([3], time=\"2pm\")"
   ]
  },
  {
   "cell_type": "code",
   "execution_count": 26,
   "id": "2f27b3b0",
   "metadata": {},
   "outputs": [
    {
     "data": {
      "text/plain": [
       "{'time': '5pm'}"
      ]
     },
     "execution_count": 26,
     "metadata": {},
     "output_type": "execute_result"
    }
   ],
   "source": [
    "G.nodes[1]"
   ]
  },
  {
   "cell_type": "code",
   "execution_count": 27,
   "id": "f81c57bf",
   "metadata": {},
   "outputs": [
    {
     "data": {
      "text/plain": [
       "{'time': '2pm'}"
      ]
     },
     "execution_count": 27,
     "metadata": {},
     "output_type": "execute_result"
    }
   ],
   "source": [
    "G.nodes[3]"
   ]
  },
  {
   "cell_type": "code",
   "execution_count": 29,
   "id": "5a0f5c33",
   "metadata": {},
   "outputs": [],
   "source": [
    "G.nodes[1][\"room\"] = 714  # node must exist already to use G.nodes"
   ]
  },
  {
   "cell_type": "code",
   "execution_count": 30,
   "id": "8179f990",
   "metadata": {},
   "outputs": [
    {
     "data": {
      "text/plain": [
       "[(1, {'time': '5pm', 'room': 714}), (3, {'time': '2pm'})]"
      ]
     },
     "execution_count": 30,
     "metadata": {},
     "output_type": "execute_result"
    }
   ],
   "source": [
    "list(G.nodes(data=True))"
   ]
  },
  {
   "cell_type": "code",
   "execution_count": 31,
   "id": "8072d823",
   "metadata": {},
   "outputs": [],
   "source": [
    "del G.nodes[1][\"room\"]  # remove attribute"
   ]
  },
  {
   "cell_type": "code",
   "execution_count": 32,
   "id": "8a1e8669",
   "metadata": {},
   "outputs": [
    {
     "data": {
      "text/plain": [
       "[(1, {'time': '5pm'}), (3, {'time': '2pm'})]"
      ]
     },
     "execution_count": 32,
     "metadata": {},
     "output_type": "execute_result"
    }
   ],
   "source": [
    "list(G.nodes(data=True))"
   ]
  },
  {
   "cell_type": "code",
   "execution_count": 33,
   "id": "ed759b85",
   "metadata": {},
   "outputs": [],
   "source": [
    "# Add edge attributes using add_edge(), add_edges_from(), subscript notation, or G.edges.\n",
    "G.add_edge(1, 2, weight=4.7)"
   ]
  },
  {
   "cell_type": "code",
   "execution_count": 34,
   "id": "43ee59c1",
   "metadata": {},
   "outputs": [
    {
     "data": {
      "text/plain": [
       "[(1, {'time': '5pm'}), (3, {'time': '2pm'}), (2, {})]"
      ]
     },
     "execution_count": 34,
     "metadata": {},
     "output_type": "execute_result"
    }
   ],
   "source": [
    "list(G.nodes(data=True))"
   ]
  },
  {
   "cell_type": "code",
   "execution_count": 35,
   "id": "04add646",
   "metadata": {},
   "outputs": [
    {
     "data": {
      "text/plain": [
       "{'day': 'Friday'}"
      ]
     },
     "execution_count": 35,
     "metadata": {},
     "output_type": "execute_result"
    }
   ],
   "source": [
    "G.graph"
   ]
  },
  {
   "cell_type": "code",
   "execution_count": 36,
   "id": "573ad03f",
   "metadata": {},
   "outputs": [],
   "source": [
    "G.add_edges_from([(3, 4), (4, 5)], color=\"red\")"
   ]
  },
  {
   "cell_type": "code",
   "execution_count": 39,
   "id": "2574bbdb",
   "metadata": {},
   "outputs": [
    {
     "data": {
      "text/plain": [
       "NodeDataView({1: {'time': '5pm'}, 3: {'time': '2pm'}, 2: {}, 4: {}, 5: {}})"
      ]
     },
     "execution_count": 39,
     "metadata": {},
     "output_type": "execute_result"
    }
   ],
   "source": [
    "G.nodes(data=True)"
   ]
  },
  {
   "cell_type": "code",
   "execution_count": 40,
   "id": "48595571",
   "metadata": {},
   "outputs": [
    {
     "data": {
      "text/plain": [
       "EdgeView([(1, 2), (3, 4), (4, 5)])"
      ]
     },
     "execution_count": 40,
     "metadata": {},
     "output_type": "execute_result"
    }
   ],
   "source": [
    "G.edges(data=True)"
   ]
  },
  {
   "cell_type": "code",
   "execution_count": 41,
   "id": "14b11379",
   "metadata": {},
   "outputs": [],
   "source": [
    "G.add_edges_from([(1, 2, {\"color\": \"blue\"}), (2, 3, {\"weight\": 8})])"
   ]
  },
  {
   "cell_type": "code",
   "execution_count": 42,
   "id": "30f19d12",
   "metadata": {},
   "outputs": [
    {
     "data": {
      "text/plain": [
       "EdgeDataView([(1, 2, {'weight': 4.7, 'color': 'blue'}), (3, 4, {'color': 'red'}), (3, 2, {'weight': 8}), (4, 5, {'color': 'red'})])"
      ]
     },
     "execution_count": 42,
     "metadata": {},
     "output_type": "execute_result"
    }
   ],
   "source": [
    "G.edges(data=True)"
   ]
  },
  {
   "cell_type": "code",
   "execution_count": 43,
   "id": "8b22d4a8",
   "metadata": {},
   "outputs": [
    {
     "data": {
      "text/plain": [
       "4.7"
      ]
     },
     "execution_count": 43,
     "metadata": {},
     "output_type": "execute_result"
    }
   ],
   "source": [
    "G[1][2][\"weight\"] "
   ]
  },
  {
   "cell_type": "code",
   "execution_count": 44,
   "id": "61b5ab6d",
   "metadata": {},
   "outputs": [],
   "source": [
    "G[1][2][\"weight\"] = 4.7"
   ]
  },
  {
   "cell_type": "code",
   "execution_count": 45,
   "id": "372bc4a4",
   "metadata": {},
   "outputs": [
    {
     "data": {
      "text/plain": [
       "4.7"
      ]
     },
     "execution_count": 45,
     "metadata": {},
     "output_type": "execute_result"
    }
   ],
   "source": [
    "G.edges[1, 2][\"weight\"] "
   ]
  },
  {
   "cell_type": "code",
   "execution_count": 46,
   "id": "40c195a3",
   "metadata": {},
   "outputs": [],
   "source": [
    "G.edges[1, 2][\"weight\"] = 4"
   ]
  },
  {
   "cell_type": "code",
   "execution_count": 47,
   "id": "1b58ff4a",
   "metadata": {},
   "outputs": [],
   "source": [
    "## For multigraphs: MG.edges[u, v, key][name] = value)"
   ]
  },
  {
   "cell_type": "code",
   "execution_count": 48,
   "id": "7af7f2a8",
   "metadata": {},
   "outputs": [
    {
     "data": {
      "text/plain": [
       "True"
      ]
     },
     "execution_count": 48,
     "metadata": {},
     "output_type": "execute_result"
    }
   ],
   "source": [
    "1 in G  # check if node in graph"
   ]
  },
  {
   "cell_type": "code",
   "execution_count": 50,
   "id": "4c35348b",
   "metadata": {},
   "outputs": [
    {
     "data": {
      "text/plain": [
       "[1, 3, 2, 4, 5]"
      ]
     },
     "execution_count": 50,
     "metadata": {},
     "output_type": "execute_result"
    }
   ],
   "source": [
    "[n for n in G if n < 10]  # iterate through nodes"
   ]
  },
  {
   "cell_type": "code",
   "execution_count": 51,
   "id": "0912aa56",
   "metadata": {},
   "outputs": [
    {
     "data": {
      "text/plain": [
       "5"
      ]
     },
     "execution_count": 51,
     "metadata": {},
     "output_type": "execute_result"
    }
   ],
   "source": [
    "len(G)  # number of nodes in graph"
   ]
  },
  {
   "cell_type": "markdown",
   "id": "96106ee2",
   "metadata": {},
   "source": [
    "Often the best way to traverse all edges of a graph is via the neighbors. <br>\n",
    "The neighbors are reported as an adjacency-dict G.adj or G.adjacency()"
   ]
  },
  {
   "cell_type": "code",
   "execution_count": 57,
   "id": "79f1c44e",
   "metadata": {},
   "outputs": [
    {
     "data": {
      "text/plain": [
       "{'weight': 4, 'color': 'blue'}"
      ]
     },
     "execution_count": 57,
     "metadata": {},
     "output_type": "execute_result"
    }
   ],
   "source": [
    "G.adj[1][2]"
   ]
  },
  {
   "cell_type": "code",
   "execution_count": 61,
   "id": "7399d37e",
   "metadata": {},
   "outputs": [
    {
     "data": {
      "text/plain": [
       "{'weight': 4, 'color': 'blue'}"
      ]
     },
     "execution_count": 61,
     "metadata": {},
     "output_type": "execute_result"
    }
   ],
   "source": [
    "G.edges[1, 2]"
   ]
  },
  {
   "cell_type": "code",
   "execution_count": 63,
   "id": "ce7814a9",
   "metadata": {},
   "outputs": [
    {
     "data": {
      "text/plain": [
       "{'time': '5pm'}"
      ]
     },
     "execution_count": 63,
     "metadata": {},
     "output_type": "execute_result"
    }
   ],
   "source": [
    "G.nodes[1]"
   ]
  },
  {
   "cell_type": "code",
   "execution_count": 64,
   "id": "68340f7e",
   "metadata": {},
   "outputs": [
    {
     "data": {
      "text/plain": [
       "{'day': 'Friday'}"
      ]
     },
     "execution_count": 64,
     "metadata": {},
     "output_type": "execute_result"
    }
   ],
   "source": [
    "G.graph"
   ]
  },
  {
   "cell_type": "code",
   "execution_count": 66,
   "id": "d93a9b07",
   "metadata": {},
   "outputs": [
    {
     "data": {
      "text/plain": [
       "ItemsView(NodeView((1, 3, 2, 4, 5)))"
      ]
     },
     "execution_count": 66,
     "metadata": {},
     "output_type": "execute_result"
    }
   ],
   "source": [
    "G.nodes.items()"
   ]
  },
  {
   "cell_type": "code",
   "execution_count": 67,
   "id": "06888469",
   "metadata": {},
   "outputs": [
    {
     "data": {
      "text/plain": [
       "NodeDataView({1: None, 3: None, 2: None, 4: None, 5: None}, data='color')"
      ]
     },
     "execution_count": 67,
     "metadata": {},
     "output_type": "execute_result"
    }
   ],
   "source": [
    "G.nodes.data('color')"
   ]
  },
  {
   "cell_type": "code",
   "execution_count": 68,
   "id": "25707fb7",
   "metadata": {},
   "outputs": [
    {
     "data": {
      "text/plain": [
       "NodeDataView({1: 'blue', 3: 'blue', 2: 'blue', 4: 'blue', 5: 'blue'}, data='color')"
      ]
     },
     "execution_count": 68,
     "metadata": {},
     "output_type": "execute_result"
    }
   ],
   "source": [
    "G.nodes.data('color', default='blue')"
   ]
  },
  {
   "cell_type": "code",
   "execution_count": 69,
   "id": "2bfb3ba1",
   "metadata": {},
   "outputs": [
    {
     "data": {
      "text/plain": [
       "NodeDataView({1: None, 3: None, 2: None, 4: None, 5: None}, data='color')"
      ]
     },
     "execution_count": 69,
     "metadata": {},
     "output_type": "execute_result"
    }
   ],
   "source": [
    "G.nodes.data('color')"
   ]
  },
  {
   "cell_type": "code",
   "execution_count": null,
   "id": "5854cbc1",
   "metadata": {},
   "outputs": [],
   "source": []
  },
  {
   "cell_type": "code",
   "execution_count": 70,
   "id": "82e5c962",
   "metadata": {},
   "outputs": [
    {
     "data": {
      "text/plain": [
       "EdgeDataView([(1, 2, 'blue'), (3, 4, 'red'), (3, 2, None), (4, 5, 'red')])"
      ]
     },
     "execution_count": 70,
     "metadata": {},
     "output_type": "execute_result"
    }
   ],
   "source": [
    "G.edges.data('color')"
   ]
  },
  {
   "cell_type": "code",
   "execution_count": 71,
   "id": "87c79e11",
   "metadata": {},
   "outputs": [
    {
     "data": {
      "text/plain": [
       "EdgeDataView([(1, 2, 'blue'), (3, 4, 'red'), (3, 2, 'blue'), (4, 5, 'red')])"
      ]
     },
     "execution_count": 71,
     "metadata": {},
     "output_type": "execute_result"
    }
   ],
   "source": [
    "G.edges.data('color', default='blue')"
   ]
  },
  {
   "cell_type": "code",
   "execution_count": 72,
   "id": "f63b82ac",
   "metadata": {},
   "outputs": [
    {
     "data": {
      "text/plain": [
       "EdgeDataView([(1, 2, 'blue'), (3, 4, 'red'), (3, 2, None), (4, 5, 'red')])"
      ]
     },
     "execution_count": 72,
     "metadata": {},
     "output_type": "execute_result"
    }
   ],
   "source": [
    "G.edges.data('color')"
   ]
  },
  {
   "cell_type": "code",
   "execution_count": null,
   "id": "ab9f0b8e",
   "metadata": {},
   "outputs": [],
   "source": []
  },
  {
   "cell_type": "code",
   "execution_count": 83,
   "id": "97905a0f",
   "metadata": {},
   "outputs": [
    {
     "data": {
      "text/plain": [
       "DegreeView({1: 1, 3: 2, 2: 2, 4: 2, 5: 1})"
      ]
     },
     "execution_count": 83,
     "metadata": {},
     "output_type": "execute_result"
    }
   ],
   "source": [
    "G.degree"
   ]
  },
  {
   "cell_type": "code",
   "execution_count": 71,
   "id": "3cd4a43a",
   "metadata": {},
   "outputs": [
    {
     "data": {
      "text/plain": [
       "EdgeDataView([(1, 2, 'blue'), (3, 4, 'red'), (3, 2, 'blue'), (4, 5, 'red')])"
      ]
     },
     "execution_count": 71,
     "metadata": {},
     "output_type": "execute_result"
    }
   ],
   "source": [
    "G.edges.data('color', default='blue')"
   ]
  },
  {
   "cell_type": "code",
   "execution_count": 72,
   "id": "44b3dabe",
   "metadata": {},
   "outputs": [
    {
     "data": {
      "text/plain": [
       "EdgeDataView([(1, 2, 'blue'), (3, 4, 'red'), (3, 2, None), (4, 5, 'red')])"
      ]
     },
     "execution_count": 72,
     "metadata": {},
     "output_type": "execute_result"
    }
   ],
   "source": [
    "G.edges.data('color')"
   ]
  },
  {
   "cell_type": "code",
   "execution_count": null,
   "id": "0e114fff",
   "metadata": {},
   "outputs": [],
   "source": []
  },
  {
   "cell_type": "code",
   "execution_count": 74,
   "id": "dc2ea25b",
   "metadata": {},
   "outputs": [
    {
     "data": {
      "text/plain": [
       "[(1, {2: {'weight': 4, 'color': 'blue'}}),\n",
       " (3, {4: {'color': 'red'}, 2: {'weight': 8}}),\n",
       " (2, {1: {'weight': 4, 'color': 'blue'}, 3: {'weight': 8}}),\n",
       " (4, {3: {'color': 'red'}, 5: {'color': 'red'}}),\n",
       " (5, {4: {'color': 'red'}})]"
      ]
     },
     "execution_count": 74,
     "metadata": {},
     "output_type": "execute_result"
    }
   ],
   "source": [
    "list(G.adjacency())"
   ]
  },
  {
   "cell_type": "code",
   "execution_count": 52,
   "id": "62def292",
   "metadata": {},
   "outputs": [],
   "source": [
    "for n, nbrsdict in G.adjacency(): \n",
    "    for nbr, eattr in nbrsdict.items():\n",
    "        if \"weight\" in eattr:\n",
    "            # Do something useful with the edges\n",
    "            pass           \n",
    "    "
   ]
  },
  {
   "cell_type": "code",
   "execution_count": 79,
   "id": "e5fdc345",
   "metadata": {},
   "outputs": [
    {
     "data": {
      "text/plain": [
       "EdgeDataView([(1, 2, 4), (3, 4, None), (3, 2, 8), (4, 5, None)])"
      ]
     },
     "execution_count": 79,
     "metadata": {},
     "output_type": "execute_result"
    }
   ],
   "source": [
    "G.edges.data(\"weight\")"
   ]
  },
  {
   "cell_type": "markdown",
   "id": "57cf267c",
   "metadata": {},
   "source": [
    "But the edges() method is often more convenient:"
   ]
  },
  {
   "cell_type": "code",
   "execution_count": 56,
   "id": "f27aee86",
   "metadata": {},
   "outputs": [],
   "source": [
    "for u, v, weight in G.edges.data(\"weight\"):\n",
    "    if weight is not None:\n",
    "       # Do something useful with the edges    \n",
    "        pass"
   ]
  },
  {
   "cell_type": "markdown",
   "id": "abdfcdf8",
   "metadata": {},
   "source": [
    "The objects nodes, edges and adj provide access to data attributes via lookup \n",
    "(e.g. nodes[n], edges[u, v], adj[u][v]) and iteration (e.g. nodes.items(), nodes.data('color'), nodes.data('color', default='blue') and similarly for edges) Views exist for nodes, edges, neighbors()/adj and degree."
   ]
  },
  {
   "cell_type": "code",
   "execution_count": null,
   "id": "77258389",
   "metadata": {},
   "outputs": [],
   "source": []
  },
  {
   "cell_type": "code",
   "execution_count": 84,
   "id": "00fee68e",
   "metadata": {},
   "outputs": [],
   "source": [
    "G = nx.path_graph(3)"
   ]
  },
  {
   "cell_type": "code",
   "execution_count": 85,
   "id": "529b90e0",
   "metadata": {},
   "outputs": [
    {
     "data": {
      "text/plain": [
       "[0, 1, 2]"
      ]
     },
     "execution_count": 85,
     "metadata": {},
     "output_type": "execute_result"
    }
   ],
   "source": [
    "list(G.nodes)"
   ]
  },
  {
   "cell_type": "code",
   "execution_count": 86,
   "id": "db72a478",
   "metadata": {},
   "outputs": [
    {
     "data": {
      "text/plain": [
       "[0, 1, 2]"
      ]
     },
     "execution_count": 86,
     "metadata": {},
     "output_type": "execute_result"
    }
   ],
   "source": [
    "list(G)"
   ]
  },
  {
   "cell_type": "code",
   "execution_count": null,
   "id": "e5380cad",
   "metadata": {},
   "outputs": [],
   "source": []
  }
 ],
 "metadata": {
  "kernelspec": {
   "display_name": "Python 3 (ipykernel)",
   "language": "python",
   "name": "python3"
  },
  "language_info": {
   "codemirror_mode": {
    "name": "ipython",
    "version": 3
   },
   "file_extension": ".py",
   "mimetype": "text/x-python",
   "name": "python",
   "nbconvert_exporter": "python",
   "pygments_lexer": "ipython3",
   "version": "3.9.7"
  }
 },
 "nbformat": 4,
 "nbformat_minor": 5
}
