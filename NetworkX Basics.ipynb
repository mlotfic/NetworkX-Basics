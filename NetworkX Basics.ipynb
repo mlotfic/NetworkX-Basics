{
 "cells": [
  {
   "cell_type": "markdown",
   "id": "2b1a7ca3",
   "metadata": {},
   "source": [
    "## NetworkX Basics\n",
    "After starting Python, import the networkx module with (the recommended way)"
   ]
  },
  {
   "cell_type": "code",
   "execution_count": 1,
   "id": "e4cbe46d",
   "metadata": {},
   "outputs": [],
   "source": [
    "import networkx as nx"
   ]
  },
  {
   "cell_type": "markdown",
   "id": "9f5d9bf8",
   "metadata": {},
   "source": [
    "### Graph\n",
    "- This class implements an undirected graph. \n",
    "- It ignores multiple edges between two nodes. \n",
    "- It does allow self-loop edges between a node and itself.\n",
    "- Base class for undirected graphs.\n",
    "- A Graph stores nodes and edges with optional data, or attributes.\n",
    "- Graphs hold undirected edges. \n",
    "- Self loops are allowed but multiple (parallel) edges are not.\n",
    "\n",
    "- Nodes can be arbitrary (hashable) Python objects with optional key/value attributes, except that None is not allowed as a node.\n",
    "\n",
    "- Edges are represented as links between nodes with optional key/value attributes.\n",
    "\n",
    "#### class Graph(incoming_graph_data=None, **attr)\n",
    "##### Parameters \"incoming_graph_datainput\"\n",
    "\n",
    "##### Attributes: attrkeyword arguments, optional (default= no attributes)\n",
    "- Attributes to add to graph as key=value pairs.\n",
    "- Each graph, node, and edge can hold key/value attribute pairs in an associated attribute dictionary (the keys must be hashable). \n",
    "- By default these are empty, but can be added or changed using \n",
    "- add_edge, \n",
    "- add_node or \n",
    "- direct manipulation of the attribute dictionaries named graph, node and edge respectively.\n",
    "\n",
    "\n",
    "If some edges connect nodes not yet in the graph, the nodes are added automatically. There are no errors when adding nodes or edges that already exist."
   ]
  },
  {
   "cell_type": "code",
   "execution_count": null,
   "id": "dce90785",
   "metadata": {},
   "outputs": [],
   "source": [
    "# convert \n",
    "# - edge list, \n",
    "# - dict of dicts, \n",
    "# - dict of lists, \n",
    "# - NetworkX graph, \n",
    "# - NumPy matrix or \n",
    "# - 2d ndarray, \n",
    "# - SciPy sparse matrix, or \n",
    "# - PyGraphviz graph.into graph\n",
    "\n",
    "##to_networkx_graph() function\n"
   ]
  },
  {
   "cell_type": "code",
   "execution_count": 2,
   "id": "9f98fb03",
   "metadata": {},
   "outputs": [],
   "source": [
    "# initialize graph (an empty graph is created)\n",
    "# Create an empty graph structure (a “null graph”) with no nodes and no edges.\n",
    "G = nx.Graph()"
   ]
  },
  {
   "cell_type": "code",
   "execution_count": 3,
   "id": "8284bffb",
   "metadata": {},
   "outputs": [],
   "source": [
    "# Add one node at a time:\n",
    "G.add_node(1)"
   ]
  },
  {
   "cell_type": "code",
   "execution_count": null,
   "id": "6cea7d5f",
   "metadata": {},
   "outputs": [],
   "source": [
    "# Add the nodes from any container \n",
    "# (a list, dict, set or even the lines from a file or the nodes from another graph)."
   ]
  },
  {
   "cell_type": "code",
   "execution_count": 4,
   "id": "8d7ad17d",
   "metadata": {},
   "outputs": [],
   "source": [
    "G.add_nodes_from([2, 3])"
   ]
  },
  {
   "cell_type": "code",
   "execution_count": 5,
   "id": "47a288d1",
   "metadata": {},
   "outputs": [],
   "source": [
    "G.add_nodes_from(range(100, 110))"
   ]
  },
  {
   "cell_type": "code",
   "execution_count": 7,
   "id": "2f5cc9b1",
   "metadata": {},
   "outputs": [],
   "source": [
    "# create a path\n",
    "H = nx.path_graph(10)"
   ]
  },
  {
   "cell_type": "code",
   "execution_count": 9,
   "id": "05b79cfa",
   "metadata": {},
   "outputs": [],
   "source": [
    "# add a path to graph\n",
    "G.add_nodes_from(H)"
   ]
  },
  {
   "cell_type": "code",
   "execution_count": 10,
   "id": "02118f73",
   "metadata": {},
   "outputs": [],
   "source": [
    "# G can also be grown by adding edges.\n",
    "# Add one edge,\n",
    "G.add_edge(1, 2)"
   ]
  },
  {
   "cell_type": "code",
   "execution_count": 11,
   "id": "5cb5b066",
   "metadata": {},
   "outputs": [],
   "source": [
    "# a list of edges,\n",
    "G.add_edges_from([(1, 2), (1, 3)])"
   ]
  },
  {
   "cell_type": "code",
   "execution_count": 12,
   "id": "c0468ec2",
   "metadata": {},
   "outputs": [],
   "source": [
    "# or a collection of edges, from path\n",
    "G.add_edges_from(H.edges)"
   ]
  },
  {
   "cell_type": "code",
   "execution_count": 13,
   "id": "80307f9a",
   "metadata": {},
   "outputs": [],
   "source": [
    "G = nx.Graph(day=\"Friday\")"
   ]
  },
  {
   "cell_type": "code",
   "execution_count": 14,
   "id": "2b590e7e",
   "metadata": {},
   "outputs": [
    {
     "data": {
      "text/plain": [
       "{'day': 'Friday'}"
      ]
     },
     "execution_count": 14,
     "metadata": {},
     "output_type": "execute_result"
    }
   ],
   "source": [
    "G.graph"
   ]
  },
  {
   "cell_type": "code",
   "execution_count": 15,
   "id": "d62d18ad",
   "metadata": {},
   "outputs": [
    {
     "data": {
      "text/plain": [
       "AdjacencyView({})"
      ]
     },
     "execution_count": 15,
     "metadata": {},
     "output_type": "execute_result"
    }
   ],
   "source": [
    "G.adj"
   ]
  },
  {
   "cell_type": "code",
   "execution_count": 16,
   "id": "332eeb02",
   "metadata": {},
   "outputs": [
    {
     "data": {
      "text/plain": [
       "<bound method Graph.adjacency of <networkx.classes.graph.Graph object at 0x0000025CD3186DC0>>"
      ]
     },
     "execution_count": 16,
     "metadata": {},
     "output_type": "execute_result"
    }
   ],
   "source": [
    "G.adjacency"
   ]
  },
  {
   "cell_type": "code",
   "execution_count": 18,
   "id": "aba3b66b",
   "metadata": {},
   "outputs": [],
   "source": [
    "# Add node attributes using add_node(), add_nodes_from() or G.nodes\n",
    "G.add_node(1, time=\"5pm\")"
   ]
  },
  {
   "cell_type": "code",
   "execution_count": 28,
   "id": "03f6e138",
   "metadata": {},
   "outputs": [
    {
     "data": {
      "text/plain": [
       "{'day': 'Friday'}"
      ]
     },
     "execution_count": 28,
     "metadata": {},
     "output_type": "execute_result"
    }
   ],
   "source": [
    "G.graph"
   ]
  },
  {
   "cell_type": "code",
   "execution_count": 20,
   "id": "06051916",
   "metadata": {},
   "outputs": [],
   "source": [
    "G.add_nodes_from([3], time=\"2pm\")"
   ]
  },
  {
   "cell_type": "code",
   "execution_count": 26,
   "id": "fe13efda",
   "metadata": {},
   "outputs": [
    {
     "data": {
      "text/plain": [
       "{'time': '5pm'}"
      ]
     },
     "execution_count": 26,
     "metadata": {},
     "output_type": "execute_result"
    }
   ],
   "source": [
    "G.nodes[1]"
   ]
  },
  {
   "cell_type": "code",
   "execution_count": 27,
   "id": "8739835c",
   "metadata": {},
   "outputs": [
    {
     "data": {
      "text/plain": [
       "{'time': '2pm'}"
      ]
     },
     "execution_count": 27,
     "metadata": {},
     "output_type": "execute_result"
    }
   ],
   "source": [
    "G.nodes[3]"
   ]
  },
  {
   "cell_type": "code",
   "execution_count": 29,
   "id": "b394bf85",
   "metadata": {},
   "outputs": [],
   "source": [
    "G.nodes[1][\"room\"] = 714  # node must exist already to use G.nodes"
   ]
  },
  {
   "cell_type": "code",
   "execution_count": 30,
   "id": "0eae1a83",
   "metadata": {},
   "outputs": [
    {
     "data": {
      "text/plain": [
       "[(1, {'time': '5pm', 'room': 714}), (3, {'time': '2pm'})]"
      ]
     },
     "execution_count": 30,
     "metadata": {},
     "output_type": "execute_result"
    }
   ],
   "source": [
    "list(G.nodes(data=True))"
   ]
  },
  {
   "cell_type": "code",
   "execution_count": 31,
   "id": "8ec0395a",
   "metadata": {},
   "outputs": [],
   "source": [
    "del G.nodes[1][\"room\"]  # remove attribute"
   ]
  },
  {
   "cell_type": "code",
   "execution_count": 32,
   "id": "5e8848cc",
   "metadata": {},
   "outputs": [
    {
     "data": {
      "text/plain": [
       "[(1, {'time': '5pm'}), (3, {'time': '2pm'})]"
      ]
     },
     "execution_count": 32,
     "metadata": {},
     "output_type": "execute_result"
    }
   ],
   "source": [
    "list(G.nodes(data=True))"
   ]
  },
  {
   "cell_type": "code",
   "execution_count": 33,
   "id": "d18be815",
   "metadata": {},
   "outputs": [],
   "source": [
    "# Add edge attributes using add_edge(), add_edges_from(), subscript notation, or G.edges.\n",
    "G.add_edge(1, 2, weight=4.7)"
   ]
  },
  {
   "cell_type": "code",
   "execution_count": 34,
   "id": "2950ac19",
   "metadata": {},
   "outputs": [
    {
     "data": {
      "text/plain": [
       "[(1, {'time': '5pm'}), (3, {'time': '2pm'}), (2, {})]"
      ]
     },
     "execution_count": 34,
     "metadata": {},
     "output_type": "execute_result"
    }
   ],
   "source": [
    "list(G.nodes(data=True))"
   ]
  },
  {
   "cell_type": "code",
   "execution_count": 35,
   "id": "5a049bc4",
   "metadata": {},
   "outputs": [
    {
     "data": {
      "text/plain": [
       "{'day': 'Friday'}"
      ]
     },
     "execution_count": 35,
     "metadata": {},
     "output_type": "execute_result"
    }
   ],
   "source": [
    "G.graph"
   ]
  },
  {
   "cell_type": "code",
   "execution_count": 36,
   "id": "4b7ae37c",
   "metadata": {},
   "outputs": [],
   "source": [
    "G.add_edges_from([(3, 4), (4, 5)], color=\"red\")"
   ]
  },
  {
   "cell_type": "code",
   "execution_count": 39,
   "id": "03949464",
   "metadata": {},
   "outputs": [
    {
     "data": {
      "text/plain": [
       "NodeDataView({1: {'time': '5pm'}, 3: {'time': '2pm'}, 2: {}, 4: {}, 5: {}})"
      ]
     },
     "execution_count": 39,
     "metadata": {},
     "output_type": "execute_result"
    }
   ],
   "source": [
    "G.nodes(data=True)"
   ]
  },
  {
   "cell_type": "code",
   "execution_count": 40,
   "id": "b9ac3e64",
   "metadata": {},
   "outputs": [
    {
     "data": {
      "text/plain": [
       "EdgeView([(1, 2), (3, 4), (4, 5)])"
      ]
     },
     "execution_count": 40,
     "metadata": {},
     "output_type": "execute_result"
    }
   ],
   "source": [
    "G.edges(data=True)"
   ]
  },
  {
   "cell_type": "code",
   "execution_count": 41,
   "id": "d61d688a",
   "metadata": {},
   "outputs": [],
   "source": [
    "G.add_edges_from([(1, 2, {\"color\": \"blue\"}), (2, 3, {\"weight\": 8})])"
   ]
  },
  {
   "cell_type": "code",
   "execution_count": 42,
   "id": "8421b898",
   "metadata": {},
   "outputs": [
    {
     "data": {
      "text/plain": [
       "EdgeDataView([(1, 2, {'weight': 4.7, 'color': 'blue'}), (3, 4, {'color': 'red'}), (3, 2, {'weight': 8}), (4, 5, {'color': 'red'})])"
      ]
     },
     "execution_count": 42,
     "metadata": {},
     "output_type": "execute_result"
    }
   ],
   "source": [
    "G.edges(data=True)"
   ]
  },
  {
   "cell_type": "code",
   "execution_count": 43,
   "id": "c8c6ffcd",
   "metadata": {},
   "outputs": [
    {
     "data": {
      "text/plain": [
       "4.7"
      ]
     },
     "execution_count": 43,
     "metadata": {},
     "output_type": "execute_result"
    }
   ],
   "source": [
    "G[1][2][\"weight\"] "
   ]
  },
  {
   "cell_type": "code",
   "execution_count": 44,
   "id": "0c17f68b",
   "metadata": {},
   "outputs": [],
   "source": [
    "G[1][2][\"weight\"] = 4.7"
   ]
  },
  {
   "cell_type": "code",
   "execution_count": 45,
   "id": "1211edb5",
   "metadata": {},
   "outputs": [
    {
     "data": {
      "text/plain": [
       "4.7"
      ]
     },
     "execution_count": 45,
     "metadata": {},
     "output_type": "execute_result"
    }
   ],
   "source": [
    "G.edges[1, 2][\"weight\"] "
   ]
  },
  {
   "cell_type": "code",
   "execution_count": 46,
   "id": "64001cd8",
   "metadata": {},
   "outputs": [],
   "source": [
    "G.edges[1, 2][\"weight\"] = 4"
   ]
  },
  {
   "cell_type": "code",
   "execution_count": 47,
   "id": "76dd3c7a",
   "metadata": {},
   "outputs": [],
   "source": [
    "## For multigraphs: MG.edges[u, v, key][name] = value)"
   ]
  },
  {
   "cell_type": "code",
   "execution_count": 48,
   "id": "8995a9cf",
   "metadata": {},
   "outputs": [
    {
     "data": {
      "text/plain": [
       "True"
      ]
     },
     "execution_count": 48,
     "metadata": {},
     "output_type": "execute_result"
    }
   ],
   "source": [
    "1 in G  # check if node in graph"
   ]
  },
  {
   "cell_type": "code",
   "execution_count": 50,
   "id": "8c89e1ce",
   "metadata": {},
   "outputs": [
    {
     "data": {
      "text/plain": [
       "[1, 3, 2, 4, 5]"
      ]
     },
     "execution_count": 50,
     "metadata": {},
     "output_type": "execute_result"
    }
   ],
   "source": [
    "[n for n in G if n < 10]  # iterate through nodes"
   ]
  },
  {
   "cell_type": "code",
   "execution_count": 51,
   "id": "2db31097",
   "metadata": {},
   "outputs": [
    {
     "data": {
      "text/plain": [
       "5"
      ]
     },
     "execution_count": 51,
     "metadata": {},
     "output_type": "execute_result"
    }
   ],
   "source": [
    "len(G)  # number of nodes in graph"
   ]
  },
  {
   "cell_type": "markdown",
   "id": "8550111d",
   "metadata": {},
   "source": [
    "Often the best way to traverse all edges of a graph is via the neighbors. <br>\n",
    "The neighbors are reported as an adjacency-dict G.adj or G.adjacency()"
   ]
  },
  {
   "cell_type": "code",
   "execution_count": 57,
   "id": "a3a83cae",
   "metadata": {},
   "outputs": [
    {
     "data": {
      "text/plain": [
       "{'weight': 4, 'color': 'blue'}"
      ]
     },
     "execution_count": 57,
     "metadata": {},
     "output_type": "execute_result"
    }
   ],
   "source": [
    "G.adj[1][2]"
   ]
  },
  {
   "cell_type": "code",
   "execution_count": 61,
   "id": "35220aba",
   "metadata": {},
   "outputs": [
    {
     "data": {
      "text/plain": [
       "{'weight': 4, 'color': 'blue'}"
      ]
     },
     "execution_count": 61,
     "metadata": {},
     "output_type": "execute_result"
    }
   ],
   "source": [
    "G.edges[1, 2]"
   ]
  },
  {
   "cell_type": "code",
   "execution_count": 63,
   "id": "a4f89cd4",
   "metadata": {},
   "outputs": [
    {
     "data": {
      "text/plain": [
       "{'time': '5pm'}"
      ]
     },
     "execution_count": 63,
     "metadata": {},
     "output_type": "execute_result"
    }
   ],
   "source": [
    "G.nodes[1]"
   ]
  },
  {
   "cell_type": "code",
   "execution_count": 64,
   "id": "4f921e49",
   "metadata": {},
   "outputs": [
    {
     "data": {
      "text/plain": [
       "{'day': 'Friday'}"
      ]
     },
     "execution_count": 64,
     "metadata": {},
     "output_type": "execute_result"
    }
   ],
   "source": [
    "G.graph"
   ]
  },
  {
   "cell_type": "code",
   "execution_count": 66,
   "id": "eebdd668",
   "metadata": {},
   "outputs": [
    {
     "data": {
      "text/plain": [
       "ItemsView(NodeView((1, 3, 2, 4, 5)))"
      ]
     },
     "execution_count": 66,
     "metadata": {},
     "output_type": "execute_result"
    }
   ],
   "source": [
    "G.nodes.items()"
   ]
  },
  {
   "cell_type": "code",
   "execution_count": 67,
   "id": "fc9d5505",
   "metadata": {},
   "outputs": [
    {
     "data": {
      "text/plain": [
       "NodeDataView({1: None, 3: None, 2: None, 4: None, 5: None}, data='color')"
      ]
     },
     "execution_count": 67,
     "metadata": {},
     "output_type": "execute_result"
    }
   ],
   "source": [
    "G.nodes.data('color')"
   ]
  },
  {
   "cell_type": "code",
   "execution_count": 68,
   "id": "4c5641b6",
   "metadata": {},
   "outputs": [
    {
     "data": {
      "text/plain": [
       "NodeDataView({1: 'blue', 3: 'blue', 2: 'blue', 4: 'blue', 5: 'blue'}, data='color')"
      ]
     },
     "execution_count": 68,
     "metadata": {},
     "output_type": "execute_result"
    }
   ],
   "source": [
    "G.nodes.data('color', default='blue')"
   ]
  },
  {
   "cell_type": "code",
   "execution_count": 69,
   "id": "3c50cb0f",
   "metadata": {},
   "outputs": [
    {
     "data": {
      "text/plain": [
       "NodeDataView({1: None, 3: None, 2: None, 4: None, 5: None}, data='color')"
      ]
     },
     "execution_count": 69,
     "metadata": {},
     "output_type": "execute_result"
    }
   ],
   "source": [
    "G.nodes.data('color')"
   ]
  },
  {
   "cell_type": "code",
   "execution_count": null,
   "id": "989be700",
   "metadata": {},
   "outputs": [],
   "source": []
  },
  {
   "cell_type": "code",
   "execution_count": 70,
   "id": "6edc10ba",
   "metadata": {},
   "outputs": [
    {
     "data": {
      "text/plain": [
       "EdgeDataView([(1, 2, 'blue'), (3, 4, 'red'), (3, 2, None), (4, 5, 'red')])"
      ]
     },
     "execution_count": 70,
     "metadata": {},
     "output_type": "execute_result"
    }
   ],
   "source": [
    "G.edges.data('color')"
   ]
  },
  {
   "cell_type": "code",
   "execution_count": 71,
   "id": "6e88418c",
   "metadata": {},
   "outputs": [
    {
     "data": {
      "text/plain": [
       "EdgeDataView([(1, 2, 'blue'), (3, 4, 'red'), (3, 2, 'blue'), (4, 5, 'red')])"
      ]
     },
     "execution_count": 71,
     "metadata": {},
     "output_type": "execute_result"
    }
   ],
   "source": [
    "G.edges.data('color', default='blue')"
   ]
  },
  {
   "cell_type": "code",
   "execution_count": 72,
   "id": "700970a7",
   "metadata": {},
   "outputs": [
    {
     "data": {
      "text/plain": [
       "EdgeDataView([(1, 2, 'blue'), (3, 4, 'red'), (3, 2, None), (4, 5, 'red')])"
      ]
     },
     "execution_count": 72,
     "metadata": {},
     "output_type": "execute_result"
    }
   ],
   "source": [
    "G.edges.data('color')"
   ]
  },
  {
   "cell_type": "code",
   "execution_count": null,
   "id": "3aa7a9c4",
   "metadata": {},
   "outputs": [],
   "source": []
  },
  {
   "cell_type": "code",
   "execution_count": 83,
   "id": "967301d4",
   "metadata": {},
   "outputs": [
    {
     "data": {
      "text/plain": [
       "DegreeView({1: 1, 3: 2, 2: 2, 4: 2, 5: 1})"
      ]
     },
     "execution_count": 83,
     "metadata": {},
     "output_type": "execute_result"
    }
   ],
   "source": [
    "G.degree"
   ]
  },
  {
   "cell_type": "code",
   "execution_count": 71,
   "id": "2c5fcdf1",
   "metadata": {},
   "outputs": [
    {
     "data": {
      "text/plain": [
       "EdgeDataView([(1, 2, 'blue'), (3, 4, 'red'), (3, 2, 'blue'), (4, 5, 'red')])"
      ]
     },
     "execution_count": 71,
     "metadata": {},
     "output_type": "execute_result"
    }
   ],
   "source": [
    "G.edges.data('color', default='blue')"
   ]
  },
  {
   "cell_type": "code",
   "execution_count": 72,
   "id": "7c4101a5",
   "metadata": {},
   "outputs": [
    {
     "data": {
      "text/plain": [
       "EdgeDataView([(1, 2, 'blue'), (3, 4, 'red'), (3, 2, None), (4, 5, 'red')])"
      ]
     },
     "execution_count": 72,
     "metadata": {},
     "output_type": "execute_result"
    }
   ],
   "source": [
    "G.edges.data('color')"
   ]
  },
  {
   "cell_type": "code",
   "execution_count": null,
   "id": "f8289542",
   "metadata": {},
   "outputs": [],
   "source": []
  },
  {
   "cell_type": "code",
   "execution_count": 74,
   "id": "7e051be2",
   "metadata": {},
   "outputs": [
    {
     "data": {
      "text/plain": [
       "[(1, {2: {'weight': 4, 'color': 'blue'}}),\n",
       " (3, {4: {'color': 'red'}, 2: {'weight': 8}}),\n",
       " (2, {1: {'weight': 4, 'color': 'blue'}, 3: {'weight': 8}}),\n",
       " (4, {3: {'color': 'red'}, 5: {'color': 'red'}}),\n",
       " (5, {4: {'color': 'red'}})]"
      ]
     },
     "execution_count": 74,
     "metadata": {},
     "output_type": "execute_result"
    }
   ],
   "source": [
    "list(G.adjacency())"
   ]
  },
  {
   "cell_type": "code",
   "execution_count": 52,
   "id": "f144533f",
   "metadata": {},
   "outputs": [],
   "source": [
    "for n, nbrsdict in G.adjacency(): \n",
    "    for nbr, eattr in nbrsdict.items():\n",
    "        if \"weight\" in eattr:\n",
    "            # Do something useful with the edges\n",
    "            pass           \n",
    "    "
   ]
  },
  {
   "cell_type": "code",
   "execution_count": 79,
   "id": "4875965d",
   "metadata": {},
   "outputs": [
    {
     "data": {
      "text/plain": [
       "EdgeDataView([(1, 2, 4), (3, 4, None), (3, 2, 8), (4, 5, None)])"
      ]
     },
     "execution_count": 79,
     "metadata": {},
     "output_type": "execute_result"
    }
   ],
   "source": [
    "G.edges.data(\"weight\")"
   ]
  },
  {
   "cell_type": "markdown",
   "id": "aaa26ff5",
   "metadata": {},
   "source": [
    "But the edges() method is often more convenient:"
   ]
  },
  {
   "cell_type": "code",
   "execution_count": 56,
   "id": "08f41c8f",
   "metadata": {},
   "outputs": [],
   "source": [
    "for u, v, weight in G.edges.data(\"weight\"):\n",
    "    if weight is not None:\n",
    "       # Do something useful with the edges    \n",
    "        pass"
   ]
  },
  {
   "cell_type": "markdown",
   "id": "51b8da28",
   "metadata": {},
   "source": [
    "The objects nodes, edges and adj provide access to data attributes via lookup \n",
    "(e.g. nodes[n], edges[u, v], adj[u][v]) and iteration (e.g. nodes.items(), nodes.data('color'), nodes.data('color', default='blue') and similarly for edges) Views exist for nodes, edges, neighbors()/adj and degree."
   ]
  },
  {
   "cell_type": "code",
   "execution_count": null,
   "id": "a774c772",
   "metadata": {},
   "outputs": [],
   "source": []
  },
  {
   "cell_type": "code",
   "execution_count": 84,
   "id": "7621be3e",
   "metadata": {},
   "outputs": [],
   "source": [
    "G = nx.path_graph(3)"
   ]
  },
  {
   "cell_type": "code",
   "execution_count": 85,
   "id": "6964cc20",
   "metadata": {},
   "outputs": [
    {
     "data": {
      "text/plain": [
       "[0, 1, 2]"
      ]
     },
     "execution_count": 85,
     "metadata": {},
     "output_type": "execute_result"
    }
   ],
   "source": [
    "list(G.nodes)"
   ]
  },
  {
   "cell_type": "code",
   "execution_count": 86,
   "id": "d7bf01a5",
   "metadata": {},
   "outputs": [
    {
     "data": {
      "text/plain": [
       "[0, 1, 2]"
      ]
     },
     "execution_count": 86,
     "metadata": {},
     "output_type": "execute_result"
    }
   ],
   "source": [
    "list(G)"
   ]
  },
  {
   "cell_type": "code",
   "execution_count": 87,
   "id": "343e4ce1",
   "metadata": {},
   "outputs": [],
   "source": [
    "G.add_node(1, time=\"5pm\")"
   ]
  },
  {
   "cell_type": "code",
   "execution_count": 88,
   "id": "a58b7d80",
   "metadata": {},
   "outputs": [],
   "source": [
    "G.nodes[0][\"foo\"] = \"bar\""
   ]
  },
  {
   "cell_type": "code",
   "execution_count": 89,
   "id": "f80b1b5b",
   "metadata": {},
   "outputs": [
    {
     "data": {
      "text/plain": [
       "[(0, {'foo': 'bar'}), (1, {'time': '5pm'}), (2, {})]"
      ]
     },
     "execution_count": 89,
     "metadata": {},
     "output_type": "execute_result"
    }
   ],
   "source": [
    "list(G.nodes(data=True))"
   ]
  },
  {
   "cell_type": "code",
   "execution_count": 90,
   "id": "6ff0f613",
   "metadata": {},
   "outputs": [
    {
     "data": {
      "text/plain": [
       "[(0, {'foo': 'bar'}), (1, {'time': '5pm'}), (2, {})]"
      ]
     },
     "execution_count": 90,
     "metadata": {},
     "output_type": "execute_result"
    }
   ],
   "source": [
    "list(G.nodes.data())"
   ]
  },
  {
   "cell_type": "code",
   "execution_count": 91,
   "id": "3ae373e1",
   "metadata": {},
   "outputs": [
    {
     "data": {
      "text/plain": [
       "[(0, 'bar'), (1, None), (2, None)]"
      ]
     },
     "execution_count": 91,
     "metadata": {},
     "output_type": "execute_result"
    }
   ],
   "source": [
    "list(G.nodes(data=\"foo\"))"
   ]
  },
  {
   "cell_type": "code",
   "execution_count": 92,
   "id": "1e8a7372",
   "metadata": {},
   "outputs": [
    {
     "data": {
      "text/plain": [
       "[(0, 'bar'), (1, None), (2, None)]"
      ]
     },
     "execution_count": 92,
     "metadata": {},
     "output_type": "execute_result"
    }
   ],
   "source": [
    "list(G.nodes.data(\"foo\"))"
   ]
  },
  {
   "cell_type": "code",
   "execution_count": 93,
   "id": "6d1da604",
   "metadata": {},
   "outputs": [
    {
     "data": {
      "text/plain": [
       "[(0, None), (1, '5pm'), (2, None)]"
      ]
     },
     "execution_count": 93,
     "metadata": {},
     "output_type": "execute_result"
    }
   ],
   "source": [
    "list(G.nodes(data=\"time\"))"
   ]
  },
  {
   "cell_type": "code",
   "execution_count": 94,
   "id": "96c6e11c",
   "metadata": {},
   "outputs": [
    {
     "data": {
      "text/plain": [
       "[(0, None), (1, '5pm'), (2, None)]"
      ]
     },
     "execution_count": 94,
     "metadata": {},
     "output_type": "execute_result"
    }
   ],
   "source": [
    "list(G.nodes.data(\"time\"))"
   ]
  },
  {
   "cell_type": "code",
   "execution_count": 95,
   "id": "b56751b4",
   "metadata": {},
   "outputs": [
    {
     "data": {
      "text/plain": [
       "[(0, 'Not Available'), (1, '5pm'), (2, 'Not Available')]"
      ]
     },
     "execution_count": 95,
     "metadata": {},
     "output_type": "execute_result"
    }
   ],
   "source": [
    "list(G.nodes(data=\"time\", default=\"Not Available\"))"
   ]
  },
  {
   "cell_type": "code",
   "execution_count": 96,
   "id": "d05b6a6d",
   "metadata": {},
   "outputs": [
    {
     "data": {
      "text/plain": [
       "[(0, 'Not Available'), (1, '5pm'), (2, 'Not Available')]"
      ]
     },
     "execution_count": 96,
     "metadata": {},
     "output_type": "execute_result"
    }
   ],
   "source": [
    "list(G.nodes.data(\"time\", default=\"Not Available\"))"
   ]
  },
  {
   "cell_type": "code",
   "execution_count": 97,
   "id": "6c5157cd",
   "metadata": {},
   "outputs": [],
   "source": [
    "G = nx.path_graph(4)  # or DiGraph, MultiGraph, MultiDiGraph, etc"
   ]
  },
  {
   "cell_type": "code",
   "execution_count": 98,
   "id": "0c69a61a",
   "metadata": {},
   "outputs": [
    {
     "data": {
      "text/plain": [
       "[0, 1, 2, 3]"
      ]
     },
     "execution_count": 98,
     "metadata": {},
     "output_type": "execute_result"
    }
   ],
   "source": [
    "[n for n in G]"
   ]
  },
  {
   "cell_type": "code",
   "execution_count": 99,
   "id": "a646e557",
   "metadata": {},
   "outputs": [
    {
     "data": {
      "text/plain": [
       "[0, 1, 2, 3]"
      ]
     },
     "execution_count": 99,
     "metadata": {},
     "output_type": "execute_result"
    }
   ],
   "source": [
    "list(G)"
   ]
  },
  {
   "cell_type": "code",
   "execution_count": 100,
   "id": "03ce84d3",
   "metadata": {},
   "outputs": [
    {
     "data": {
      "text/plain": [
       "True"
      ]
     },
     "execution_count": 100,
     "metadata": {},
     "output_type": "execute_result"
    }
   ],
   "source": [
    "G.has_node(0)"
   ]
  },
  {
   "cell_type": "code",
   "execution_count": 101,
   "id": "1226cb8d",
   "metadata": {},
   "outputs": [
    {
     "data": {
      "text/plain": [
       "True"
      ]
     },
     "execution_count": 101,
     "metadata": {},
     "output_type": "execute_result"
    }
   ],
   "source": [
    "0 in G"
   ]
  },
  {
   "cell_type": "code",
   "execution_count": 102,
   "id": "82c2b715",
   "metadata": {},
   "outputs": [
    {
     "data": {
      "text/plain": [
       "[(0, 1), (1, 2), (2, 3)]"
      ]
     },
     "execution_count": 102,
     "metadata": {},
     "output_type": "execute_result"
    }
   ],
   "source": [
    "G = nx.path_graph(3)  # or MultiGraph, etc\n",
    "G.add_edge(2, 3, weight=5)\n",
    "[e for e in G.edges]"
   ]
  },
  {
   "cell_type": "code",
   "execution_count": 103,
   "id": "6015f7a9",
   "metadata": {},
   "outputs": [
    {
     "data": {
      "text/plain": [
       "EdgeDataView([(0, 1, {}), (1, 2, {}), (2, 3, {'weight': 5})])"
      ]
     },
     "execution_count": 103,
     "metadata": {},
     "output_type": "execute_result"
    }
   ],
   "source": [
    "G.edges.data()  # default data is {} (empty dict)"
   ]
  },
  {
   "cell_type": "code",
   "execution_count": 105,
   "id": "2e313926",
   "metadata": {},
   "outputs": [
    {
     "data": {
      "text/plain": [
       "EdgeDataView([(0, 1, 1), (1, 2, 1), (2, 3, 5)])"
      ]
     },
     "execution_count": 105,
     "metadata": {},
     "output_type": "execute_result"
    }
   ],
   "source": [
    "G.edges.data(\"weight\", default=1)"
   ]
  },
  {
   "cell_type": "code",
   "execution_count": 106,
   "id": "8022551b",
   "metadata": {},
   "outputs": [
    {
     "data": {
      "text/plain": [
       "EdgeDataView([(0, 1), (3, 2)])"
      ]
     },
     "execution_count": 106,
     "metadata": {},
     "output_type": "execute_result"
    }
   ],
   "source": [
    "G.edges([0, 3])  # only edges incident to these nodes"
   ]
  },
  {
   "cell_type": "code",
   "execution_count": 107,
   "id": "c9ddf341",
   "metadata": {},
   "outputs": [
    {
     "data": {
      "text/plain": [
       "EdgeDataView([(0, 1)])"
      ]
     },
     "execution_count": 107,
     "metadata": {},
     "output_type": "execute_result"
    }
   ],
   "source": [
    "G.edges(0)  # only edges incident to a single node (use G.adj[0]?)"
   ]
  },
  {
   "cell_type": "code",
   "execution_count": 108,
   "id": "7a15f2f6",
   "metadata": {},
   "outputs": [],
   "source": [
    "G = nx.path_graph(4)  # or DiGraph, MultiGraph, MultiDiGraph, etc"
   ]
  },
  {
   "cell_type": "code",
   "execution_count": 109,
   "id": "284147ca",
   "metadata": {},
   "outputs": [
    {
     "data": {
      "text/plain": [
       "True"
      ]
     },
     "execution_count": 109,
     "metadata": {},
     "output_type": "execute_result"
    }
   ],
   "source": [
    "G.has_edge(0, 1)  # using two nodes"
   ]
  },
  {
   "cell_type": "code",
   "execution_count": 110,
   "id": "3123b634",
   "metadata": {},
   "outputs": [],
   "source": [
    "e = (0, 1)"
   ]
  },
  {
   "cell_type": "code",
   "execution_count": 111,
   "id": "b0f57b03",
   "metadata": {},
   "outputs": [
    {
     "data": {
      "text/plain": [
       "True"
      ]
     },
     "execution_count": 111,
     "metadata": {},
     "output_type": "execute_result"
    }
   ],
   "source": [
    "G.has_edge(*e)  #  e is a 2-tuple (u, v)"
   ]
  },
  {
   "cell_type": "code",
   "execution_count": 112,
   "id": "a4d5ffaf",
   "metadata": {},
   "outputs": [],
   "source": [
    "e = (0, 1, {\"weight\": 7})"
   ]
  },
  {
   "cell_type": "code",
   "execution_count": 113,
   "id": "415f0b98",
   "metadata": {},
   "outputs": [
    {
     "data": {
      "text/plain": [
       "True"
      ]
     },
     "execution_count": 113,
     "metadata": {},
     "output_type": "execute_result"
    }
   ],
   "source": [
    "G.has_edge(*e[:2])  # e is a 3-tuple (u, v, data_dictionary)"
   ]
  },
  {
   "cell_type": "code",
   "execution_count": 114,
   "id": "6f7433be",
   "metadata": {},
   "outputs": [
    {
     "data": {
      "text/plain": [
       "True"
      ]
     },
     "execution_count": 114,
     "metadata": {},
     "output_type": "execute_result"
    }
   ],
   "source": [
    "G.has_edge(0, 1)"
   ]
  },
  {
   "cell_type": "code",
   "execution_count": 115,
   "id": "03df7253",
   "metadata": {},
   "outputs": [
    {
     "data": {
      "text/plain": [
       "True"
      ]
     },
     "execution_count": 115,
     "metadata": {},
     "output_type": "execute_result"
    }
   ],
   "source": [
    "1 in G[0]  # though this gives KeyError if 0 not in G"
   ]
  },
  {
   "cell_type": "code",
   "execution_count": 116,
   "id": "7477889b",
   "metadata": {},
   "outputs": [],
   "source": [
    "G = nx.path_graph(4)  # or DiGraph, MultiGraph, MultiDiGraph, etc"
   ]
  },
  {
   "cell_type": "code",
   "execution_count": 117,
   "id": "699abf2e",
   "metadata": {},
   "outputs": [
    {
     "data": {
      "text/plain": [
       "{}"
      ]
     },
     "execution_count": 117,
     "metadata": {},
     "output_type": "execute_result"
    }
   ],
   "source": [
    "G[0][1]"
   ]
  },
  {
   "cell_type": "code",
   "execution_count": 118,
   "id": "9eebe6f6",
   "metadata": {},
   "outputs": [],
   "source": [
    "G[0][1][\"weight\"] = 7"
   ]
  },
  {
   "cell_type": "code",
   "execution_count": 119,
   "id": "77869c88",
   "metadata": {},
   "outputs": [
    {
     "data": {
      "text/plain": [
       "7"
      ]
     },
     "execution_count": 119,
     "metadata": {},
     "output_type": "execute_result"
    }
   ],
   "source": [
    "G[0][1][\"weight\"]"
   ]
  },
  {
   "cell_type": "code",
   "execution_count": 120,
   "id": "debd52d0",
   "metadata": {},
   "outputs": [
    {
     "data": {
      "text/plain": [
       "7"
      ]
     },
     "execution_count": 120,
     "metadata": {},
     "output_type": "execute_result"
    }
   ],
   "source": [
    "G[1][0][\"weight\"]"
   ]
  },
  {
   "cell_type": "code",
   "execution_count": 121,
   "id": "09f5de04",
   "metadata": {},
   "outputs": [
    {
     "data": {
      "text/plain": [
       "{'weight': 7}"
      ]
     },
     "execution_count": 121,
     "metadata": {},
     "output_type": "execute_result"
    }
   ],
   "source": [
    "G.get_edge_data(0, 1)  # default edge data is {}"
   ]
  },
  {
   "cell_type": "code",
   "execution_count": 122,
   "id": "e7b92040",
   "metadata": {},
   "outputs": [],
   "source": [
    "e = (0, 1)"
   ]
  },
  {
   "cell_type": "code",
   "execution_count": 123,
   "id": "3258af01",
   "metadata": {},
   "outputs": [
    {
     "data": {
      "text/plain": [
       "{'weight': 7}"
      ]
     },
     "execution_count": 123,
     "metadata": {},
     "output_type": "execute_result"
    }
   ],
   "source": [
    "G.get_edge_data(*e)  # tuple form"
   ]
  },
  {
   "cell_type": "code",
   "execution_count": 124,
   "id": "8ee4e152",
   "metadata": {},
   "outputs": [
    {
     "data": {
      "text/plain": [
       "0"
      ]
     },
     "execution_count": 124,
     "metadata": {},
     "output_type": "execute_result"
    }
   ],
   "source": [
    "G.get_edge_data(\"a\", \"b\", default=0)  # edge not in graph, return 0"
   ]
  },
  {
   "cell_type": "code",
   "execution_count": 125,
   "id": "6841b2d5",
   "metadata": {},
   "outputs": [],
   "source": [
    "# Returns an iterator over all neighbors of node n.\n",
    "G.add_edge(\"a\", \"b\", weight=7)"
   ]
  },
  {
   "cell_type": "code",
   "execution_count": 126,
   "id": "444ecf30",
   "metadata": {},
   "outputs": [
    {
     "data": {
      "text/plain": [
       "AtlasView({'b': {'weight': 7}})"
      ]
     },
     "execution_count": 126,
     "metadata": {},
     "output_type": "execute_result"
    }
   ],
   "source": [
    "G[\"a\"]"
   ]
  },
  {
   "cell_type": "code",
   "execution_count": 128,
   "id": "9c5941b7",
   "metadata": {},
   "outputs": [
    {
     "data": {
      "text/plain": [
       "[0, 1, 2, 3, 'a', 'b']"
      ]
     },
     "execution_count": 128,
     "metadata": {},
     "output_type": "execute_result"
    }
   ],
   "source": [
    "[n for n in G]"
   ]
  },
  {
   "cell_type": "code",
   "execution_count": 130,
   "id": "98a4cd4c",
   "metadata": {},
   "outputs": [
    {
     "data": {
      "text/plain": [
       "{'weight': 7}"
      ]
     },
     "execution_count": 130,
     "metadata": {},
     "output_type": "execute_result"
    }
   ],
   "source": [
    "G[0][1]"
   ]
  },
  {
   "cell_type": "code",
   "execution_count": 131,
   "id": "732f7728",
   "metadata": {},
   "outputs": [
    {
     "data": {
      "text/plain": [
       "''"
      ]
     },
     "execution_count": 131,
     "metadata": {},
     "output_type": "execute_result"
    }
   ],
   "source": [
    "G.name"
   ]
  },
  {
   "cell_type": "code",
   "execution_count": 132,
   "id": "2d40c4a4",
   "metadata": {},
   "outputs": [],
   "source": [
    "G.name=\"test\""
   ]
  },
  {
   "cell_type": "code",
   "execution_count": 133,
   "id": "937a93b4",
   "metadata": {},
   "outputs": [
    {
     "data": {
      "text/plain": [
       "'test'"
      ]
     },
     "execution_count": 133,
     "metadata": {},
     "output_type": "execute_result"
    }
   ],
   "source": [
    "G.name"
   ]
  },
  {
   "cell_type": "code",
   "execution_count": 134,
   "id": "d95900ef",
   "metadata": {},
   "outputs": [
    {
     "data": {
      "text/plain": [
       "NodeView((0, 1, 2, 3, 'a', 'b'))"
      ]
     },
     "execution_count": 134,
     "metadata": {},
     "output_type": "execute_result"
    }
   ],
   "source": [
    "G.nodes"
   ]
  },
  {
   "cell_type": "code",
   "execution_count": 135,
   "id": "5d7e8276",
   "metadata": {},
   "outputs": [
    {
     "data": {
      "text/plain": [
       "{}"
      ]
     },
     "execution_count": 135,
     "metadata": {},
     "output_type": "execute_result"
    }
   ],
   "source": [
    "G.nodes[0]"
   ]
  },
  {
   "cell_type": "code",
   "execution_count": 137,
   "id": "9f1c8df4",
   "metadata": {},
   "outputs": [
    {
     "data": {
      "text/plain": [
       "{}"
      ]
     },
     "execution_count": 137,
     "metadata": {},
     "output_type": "execute_result"
    }
   ],
   "source": [
    "G.nodes[0]"
   ]
  },
  {
   "cell_type": "code",
   "execution_count": 138,
   "id": "839c34e6",
   "metadata": {},
   "outputs": [],
   "source": [
    "G = nx.path_graph(4)  # or DiGraph, MultiGraph, MultiDiGraph, etc"
   ]
  },
  {
   "cell_type": "code",
   "execution_count": 140,
   "id": "616bc669",
   "metadata": {},
   "outputs": [
    {
     "data": {
      "text/plain": [
       "[0, 1, 2, 3]"
      ]
     },
     "execution_count": 140,
     "metadata": {},
     "output_type": "execute_result"
    }
   ],
   "source": [
    "[n for n in G]"
   ]
  },
  {
   "cell_type": "code",
   "execution_count": 142,
   "id": "ce9ae5e9",
   "metadata": {},
   "outputs": [
    {
     "data": {
      "text/plain": [
       "[0, 1, 2, 3]"
      ]
     },
     "execution_count": 142,
     "metadata": {},
     "output_type": "execute_result"
    }
   ],
   "source": [
    "[n for n in G.adj]"
   ]
  },
  {
   "cell_type": "code",
   "execution_count": 141,
   "id": "7be22226",
   "metadata": {},
   "outputs": [
    {
     "data": {
      "text/plain": [
       "[(0, 1), (1, 2), (2, 3)]"
      ]
     },
     "execution_count": 141,
     "metadata": {},
     "output_type": "execute_result"
    }
   ],
   "source": [
    "[n for n in G.edges]"
   ]
  },
  {
   "cell_type": "code",
   "execution_count": 143,
   "id": "5815869f",
   "metadata": {},
   "outputs": [
    {
     "data": {
      "text/plain": [
       "[(0, {1: {}}), (1, {0: {}, 2: {}}), (2, {1: {}, 3: {}}), (3, {2: {}})]"
      ]
     },
     "execution_count": 143,
     "metadata": {},
     "output_type": "execute_result"
    }
   ],
   "source": [
    "[n for n in G.adjacency()]"
   ]
  },
  {
   "cell_type": "code",
   "execution_count": 139,
   "id": "f3984724",
   "metadata": {},
   "outputs": [
    {
     "data": {
      "text/plain": [
       "[1]"
      ]
     },
     "execution_count": 139,
     "metadata": {},
     "output_type": "execute_result"
    }
   ],
   "source": [
    "[n for n in G.neighbors(0)]"
   ]
  },
  {
   "cell_type": "code",
   "execution_count": null,
   "id": "493849d8",
   "metadata": {},
   "outputs": [],
   "source": []
  }
 ],
 "metadata": {
  "kernelspec": {
   "display_name": "Python 3 (ipykernel)",
   "language": "python",
   "name": "python3"
  },
  "language_info": {
   "codemirror_mode": {
    "name": "ipython",
    "version": 3
   },
   "file_extension": ".py",
   "mimetype": "text/x-python",
   "name": "python",
   "nbconvert_exporter": "python",
   "pygments_lexer": "ipython3",
   "version": "3.9.7"
  }
 },
 "nbformat": 4,
 "nbformat_minor": 5
}
