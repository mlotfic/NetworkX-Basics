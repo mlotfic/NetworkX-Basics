{
 "cells": [
  {
   "cell_type": "markdown",
   "id": "32217ecf",
   "metadata": {},
   "source": [
    "## NetworkX Basics\n",
    "After starting Python, import the networkx module with (the recommended way)"
   ]
  },
  {
   "cell_type": "code",
   "execution_count": 1,
   "id": "ef892e07",
   "metadata": {},
   "outputs": [],
   "source": [
    "import networkx as nx"
   ]
  },
  {
   "cell_type": "markdown",
   "id": "e32cc0d6",
   "metadata": {},
   "source": [
    "### Graph\n",
    "- This class implements an undirected graph. \n",
    "- It ignores multiple edges between two nodes. \n",
    "- It does allow self-loop edges between a node and itself.\n",
    "- Base class for undirected graphs.\n",
    "- A Graph stores nodes and edges with optional data, or attributes.\n",
    "- Graphs hold undirected edges. \n",
    "- Self loops are allowed but multiple (parallel) edges are not.\n",
    "\n",
    "- Nodes can be arbitrary (hashable) Python objects with optional key/value attributes, except that None is not allowed as a node.\n",
    "\n",
    "- Edges are represented as links between nodes with optional key/value attributes.\n",
    "\n",
    "#### class Graph(incoming_graph_data=None, **attr)\n",
    "##### Parameters \"incoming_graph_datainput\"\n",
    "\n",
    "##### Attributes: attrkeyword arguments, optional (default= no attributes)\n",
    "- Attributes to add to graph as key=value pairs.\n",
    "- Each graph, node, and edge can hold key/value attribute pairs in an associated attribute dictionary (the keys must be hashable). \n",
    "- By default these are empty, but can be added or changed using \n",
    "- add_edge, \n",
    "- add_node or \n",
    "- direct manipulation of the attribute dictionaries named graph, node and edge respectively.\n",
    "\n",
    "\n",
    "If some edges connect nodes not yet in the graph, the nodes are added automatically. There are no errors when adding nodes or edges that already exist."
   ]
  },
  {
   "cell_type": "code",
   "execution_count": null,
   "id": "66d56176",
   "metadata": {},
   "outputs": [],
   "source": [
    "# convert \n",
    "# - edge list, \n",
    "# - dict of dicts, \n",
    "# - dict of lists, \n",
    "# - NetworkX graph, \n",
    "# - NumPy matrix or \n",
    "# - 2d ndarray, \n",
    "# - SciPy sparse matrix, or \n",
    "# - PyGraphviz graph.into graph\n",
    "\n",
    "##to_networkx_graph() function\n"
   ]
  },
  {
   "cell_type": "code",
   "execution_count": 2,
   "id": "bd464bac",
   "metadata": {},
   "outputs": [],
   "source": [
    "# initialize graph (an empty graph is created)\n",
    "# Create an empty graph structure (a “null graph”) with no nodes and no edges.\n",
    "G = nx.Graph()"
   ]
  },
  {
   "cell_type": "code",
   "execution_count": 3,
   "id": "e2e8d561",
   "metadata": {},
   "outputs": [],
   "source": [
    "# Add one node at a time:\n",
    "G.add_node(1)"
   ]
  },
  {
   "cell_type": "code",
   "execution_count": null,
   "id": "47225081",
   "metadata": {},
   "outputs": [],
   "source": [
    "# Add the nodes from any container \n",
    "# (a list, dict, set or even the lines from a file or the nodes from another graph)."
   ]
  },
  {
   "cell_type": "code",
   "execution_count": 4,
   "id": "433850b3",
   "metadata": {},
   "outputs": [],
   "source": [
    "G.add_nodes_from([2, 3])"
   ]
  },
  {
   "cell_type": "code",
   "execution_count": 5,
   "id": "9221bb0d",
   "metadata": {},
   "outputs": [],
   "source": [
    "G.add_nodes_from(range(100, 110))"
   ]
  },
  {
   "cell_type": "code",
   "execution_count": 7,
   "id": "d5937383",
   "metadata": {},
   "outputs": [],
   "source": [
    "# create a path\n",
    "H = nx.path_graph(10)"
   ]
  },
  {
   "cell_type": "code",
   "execution_count": 9,
   "id": "ef3d696f",
   "metadata": {},
   "outputs": [],
   "source": [
    "# add a path to graph\n",
    "G.add_nodes_from(H)"
   ]
  },
  {
   "cell_type": "code",
   "execution_count": 10,
   "id": "1ec1de98",
   "metadata": {},
   "outputs": [],
   "source": [
    "# G can also be grown by adding edges.\n",
    "# Add one edge,\n",
    "G.add_edge(1, 2)"
   ]
  },
  {
   "cell_type": "code",
   "execution_count": 11,
   "id": "852d50f4",
   "metadata": {},
   "outputs": [],
   "source": [
    "# a list of edges,\n",
    "G.add_edges_from([(1, 2), (1, 3)])"
   ]
  },
  {
   "cell_type": "code",
   "execution_count": 12,
   "id": "a32c15ee",
   "metadata": {},
   "outputs": [],
   "source": [
    "# or a collection of edges, from path\n",
    "G.add_edges_from(H.edges)"
   ]
  },
  {
   "cell_type": "code",
   "execution_count": 13,
   "id": "db2bde55",
   "metadata": {},
   "outputs": [],
   "source": [
    "G = nx.Graph(day=\"Friday\")"
   ]
  },
  {
   "cell_type": "code",
   "execution_count": 14,
   "id": "354664d7",
   "metadata": {},
   "outputs": [
    {
     "data": {
      "text/plain": [
       "{'day': 'Friday'}"
      ]
     },
     "execution_count": 14,
     "metadata": {},
     "output_type": "execute_result"
    }
   ],
   "source": [
    "G.graph"
   ]
  },
  {
   "cell_type": "code",
   "execution_count": 15,
   "id": "81d9ea5d",
   "metadata": {},
   "outputs": [
    {
     "data": {
      "text/plain": [
       "AdjacencyView({})"
      ]
     },
     "execution_count": 15,
     "metadata": {},
     "output_type": "execute_result"
    }
   ],
   "source": [
    "G.adj"
   ]
  },
  {
   "cell_type": "code",
   "execution_count": 16,
   "id": "36326375",
   "metadata": {},
   "outputs": [
    {
     "data": {
      "text/plain": [
       "<bound method Graph.adjacency of <networkx.classes.graph.Graph object at 0x0000025CD3186DC0>>"
      ]
     },
     "execution_count": 16,
     "metadata": {},
     "output_type": "execute_result"
    }
   ],
   "source": [
    "G.adjacency"
   ]
  },
  {
   "cell_type": "code",
   "execution_count": 18,
   "id": "e356288c",
   "metadata": {},
   "outputs": [],
   "source": [
    "# Add node attributes using add_node(), add_nodes_from() or G.nodes\n",
    "G.add_node(1, time=\"5pm\")"
   ]
  },
  {
   "cell_type": "code",
   "execution_count": 28,
   "id": "0a7fb410",
   "metadata": {},
   "outputs": [
    {
     "data": {
      "text/plain": [
       "{'day': 'Friday'}"
      ]
     },
     "execution_count": 28,
     "metadata": {},
     "output_type": "execute_result"
    }
   ],
   "source": [
    "G.graph"
   ]
  },
  {
   "cell_type": "code",
   "execution_count": 20,
   "id": "e0540eec",
   "metadata": {},
   "outputs": [],
   "source": [
    "G.add_nodes_from([3], time=\"2pm\")"
   ]
  },
  {
   "cell_type": "code",
   "execution_count": 26,
   "id": "41bf6d56",
   "metadata": {},
   "outputs": [
    {
     "data": {
      "text/plain": [
       "{'time': '5pm'}"
      ]
     },
     "execution_count": 26,
     "metadata": {},
     "output_type": "execute_result"
    }
   ],
   "source": [
    "G.nodes[1]"
   ]
  },
  {
   "cell_type": "code",
   "execution_count": 27,
   "id": "9924c705",
   "metadata": {},
   "outputs": [
    {
     "data": {
      "text/plain": [
       "{'time': '2pm'}"
      ]
     },
     "execution_count": 27,
     "metadata": {},
     "output_type": "execute_result"
    }
   ],
   "source": [
    "G.nodes[3]"
   ]
  },
  {
   "cell_type": "code",
   "execution_count": 29,
   "id": "fe5aa0f9",
   "metadata": {},
   "outputs": [],
   "source": [
    "G.nodes[1][\"room\"] = 714  # node must exist already to use G.nodes"
   ]
  },
  {
   "cell_type": "code",
   "execution_count": 30,
   "id": "f8afec49",
   "metadata": {},
   "outputs": [
    {
     "data": {
      "text/plain": [
       "[(1, {'time': '5pm', 'room': 714}), (3, {'time': '2pm'})]"
      ]
     },
     "execution_count": 30,
     "metadata": {},
     "output_type": "execute_result"
    }
   ],
   "source": [
    "list(G.nodes(data=True))"
   ]
  },
  {
   "cell_type": "code",
   "execution_count": 31,
   "id": "c66e510c",
   "metadata": {},
   "outputs": [],
   "source": [
    "del G.nodes[1][\"room\"]  # remove attribute"
   ]
  },
  {
   "cell_type": "code",
   "execution_count": 32,
   "id": "e130cb36",
   "metadata": {},
   "outputs": [
    {
     "data": {
      "text/plain": [
       "[(1, {'time': '5pm'}), (3, {'time': '2pm'})]"
      ]
     },
     "execution_count": 32,
     "metadata": {},
     "output_type": "execute_result"
    }
   ],
   "source": [
    "list(G.nodes(data=True))"
   ]
  },
  {
   "cell_type": "code",
   "execution_count": 33,
   "id": "3ed56c46",
   "metadata": {},
   "outputs": [],
   "source": [
    "# Add edge attributes using add_edge(), add_edges_from(), subscript notation, or G.edges.\n",
    "G.add_edge(1, 2, weight=4.7)"
   ]
  },
  {
   "cell_type": "code",
   "execution_count": 34,
   "id": "a82f33cc",
   "metadata": {},
   "outputs": [
    {
     "data": {
      "text/plain": [
       "[(1, {'time': '5pm'}), (3, {'time': '2pm'}), (2, {})]"
      ]
     },
     "execution_count": 34,
     "metadata": {},
     "output_type": "execute_result"
    }
   ],
   "source": [
    "list(G.nodes(data=True))"
   ]
  },
  {
   "cell_type": "code",
   "execution_count": 35,
   "id": "28712a64",
   "metadata": {},
   "outputs": [
    {
     "data": {
      "text/plain": [
       "{'day': 'Friday'}"
      ]
     },
     "execution_count": 35,
     "metadata": {},
     "output_type": "execute_result"
    }
   ],
   "source": [
    "G.graph"
   ]
  },
  {
   "cell_type": "code",
   "execution_count": 36,
   "id": "a936857c",
   "metadata": {},
   "outputs": [],
   "source": [
    "G.add_edges_from([(3, 4), (4, 5)], color=\"red\")"
   ]
  },
  {
   "cell_type": "code",
   "execution_count": 39,
   "id": "4295931e",
   "metadata": {},
   "outputs": [
    {
     "data": {
      "text/plain": [
       "NodeDataView({1: {'time': '5pm'}, 3: {'time': '2pm'}, 2: {}, 4: {}, 5: {}})"
      ]
     },
     "execution_count": 39,
     "metadata": {},
     "output_type": "execute_result"
    }
   ],
   "source": [
    "G.nodes(data=True)"
   ]
  },
  {
   "cell_type": "code",
   "execution_count": 40,
   "id": "123fc76e",
   "metadata": {},
   "outputs": [
    {
     "data": {
      "text/plain": [
       "EdgeView([(1, 2), (3, 4), (4, 5)])"
      ]
     },
     "execution_count": 40,
     "metadata": {},
     "output_type": "execute_result"
    }
   ],
   "source": [
    "G.edges(data=True)"
   ]
  },
  {
   "cell_type": "code",
   "execution_count": 41,
   "id": "93eb503d",
   "metadata": {},
   "outputs": [],
   "source": [
    "G.add_edges_from([(1, 2, {\"color\": \"blue\"}), (2, 3, {\"weight\": 8})])"
   ]
  },
  {
   "cell_type": "code",
   "execution_count": 42,
   "id": "7cbaa2e5",
   "metadata": {},
   "outputs": [
    {
     "data": {
      "text/plain": [
       "EdgeDataView([(1, 2, {'weight': 4.7, 'color': 'blue'}), (3, 4, {'color': 'red'}), (3, 2, {'weight': 8}), (4, 5, {'color': 'red'})])"
      ]
     },
     "execution_count": 42,
     "metadata": {},
     "output_type": "execute_result"
    }
   ],
   "source": [
    "G.edges(data=True)"
   ]
  },
  {
   "cell_type": "code",
   "execution_count": 43,
   "id": "4a55992a",
   "metadata": {},
   "outputs": [
    {
     "data": {
      "text/plain": [
       "4.7"
      ]
     },
     "execution_count": 43,
     "metadata": {},
     "output_type": "execute_result"
    }
   ],
   "source": [
    "G[1][2][\"weight\"] "
   ]
  },
  {
   "cell_type": "code",
   "execution_count": 44,
   "id": "daebfb75",
   "metadata": {},
   "outputs": [],
   "source": [
    "G[1][2][\"weight\"] = 4.7"
   ]
  },
  {
   "cell_type": "code",
   "execution_count": 45,
   "id": "2bc8a328",
   "metadata": {},
   "outputs": [
    {
     "data": {
      "text/plain": [
       "4.7"
      ]
     },
     "execution_count": 45,
     "metadata": {},
     "output_type": "execute_result"
    }
   ],
   "source": [
    "G.edges[1, 2][\"weight\"] "
   ]
  },
  {
   "cell_type": "code",
   "execution_count": 46,
   "id": "0fdb1e8a",
   "metadata": {},
   "outputs": [],
   "source": [
    "G.edges[1, 2][\"weight\"] = 4"
   ]
  },
  {
   "cell_type": "code",
   "execution_count": 47,
   "id": "9b3a1076",
   "metadata": {},
   "outputs": [],
   "source": [
    "## For multigraphs: MG.edges[u, v, key][name] = value)"
   ]
  },
  {
   "cell_type": "code",
   "execution_count": 48,
   "id": "9635bf68",
   "metadata": {},
   "outputs": [
    {
     "data": {
      "text/plain": [
       "True"
      ]
     },
     "execution_count": 48,
     "metadata": {},
     "output_type": "execute_result"
    }
   ],
   "source": [
    "1 in G  # check if node in graph"
   ]
  },
  {
   "cell_type": "code",
   "execution_count": 50,
   "id": "ee93e876",
   "metadata": {},
   "outputs": [
    {
     "data": {
      "text/plain": [
       "[1, 3, 2, 4, 5]"
      ]
     },
     "execution_count": 50,
     "metadata": {},
     "output_type": "execute_result"
    }
   ],
   "source": [
    "[n for n in G if n < 10]  # iterate through nodes"
   ]
  },
  {
   "cell_type": "code",
   "execution_count": 51,
   "id": "a27b004c",
   "metadata": {},
   "outputs": [
    {
     "data": {
      "text/plain": [
       "5"
      ]
     },
     "execution_count": 51,
     "metadata": {},
     "output_type": "execute_result"
    }
   ],
   "source": [
    "len(G)  # number of nodes in graph"
   ]
  },
  {
   "cell_type": "markdown",
   "id": "b0d1542b",
   "metadata": {},
   "source": [
    "Often the best way to traverse all edges of a graph is via the neighbors. <br>\n",
    "The neighbors are reported as an adjacency-dict G.adj or G.adjacency()"
   ]
  },
  {
   "cell_type": "code",
   "execution_count": 57,
   "id": "49053fcf",
   "metadata": {},
   "outputs": [
    {
     "data": {
      "text/plain": [
       "{'weight': 4, 'color': 'blue'}"
      ]
     },
     "execution_count": 57,
     "metadata": {},
     "output_type": "execute_result"
    }
   ],
   "source": [
    "G.adj[1][2]"
   ]
  },
  {
   "cell_type": "code",
   "execution_count": 61,
   "id": "44dd0668",
   "metadata": {},
   "outputs": [
    {
     "data": {
      "text/plain": [
       "{'weight': 4, 'color': 'blue'}"
      ]
     },
     "execution_count": 61,
     "metadata": {},
     "output_type": "execute_result"
    }
   ],
   "source": [
    "G.edges[1, 2]"
   ]
  },
  {
   "cell_type": "code",
   "execution_count": 63,
   "id": "925ef44e",
   "metadata": {},
   "outputs": [
    {
     "data": {
      "text/plain": [
       "{'time': '5pm'}"
      ]
     },
     "execution_count": 63,
     "metadata": {},
     "output_type": "execute_result"
    }
   ],
   "source": [
    "G.nodes[1]"
   ]
  },
  {
   "cell_type": "code",
   "execution_count": 64,
   "id": "d09a7b55",
   "metadata": {},
   "outputs": [
    {
     "data": {
      "text/plain": [
       "{'day': 'Friday'}"
      ]
     },
     "execution_count": 64,
     "metadata": {},
     "output_type": "execute_result"
    }
   ],
   "source": [
    "G.graph"
   ]
  },
  {
   "cell_type": "code",
   "execution_count": 66,
   "id": "6a658da3",
   "metadata": {},
   "outputs": [
    {
     "data": {
      "text/plain": [
       "ItemsView(NodeView((1, 3, 2, 4, 5)))"
      ]
     },
     "execution_count": 66,
     "metadata": {},
     "output_type": "execute_result"
    }
   ],
   "source": [
    "G.nodes.items()"
   ]
  },
  {
   "cell_type": "code",
   "execution_count": 67,
   "id": "cddbf931",
   "metadata": {},
   "outputs": [
    {
     "data": {
      "text/plain": [
       "NodeDataView({1: None, 3: None, 2: None, 4: None, 5: None}, data='color')"
      ]
     },
     "execution_count": 67,
     "metadata": {},
     "output_type": "execute_result"
    }
   ],
   "source": [
    "G.nodes.data('color')"
   ]
  },
  {
   "cell_type": "code",
   "execution_count": 68,
   "id": "4281fa03",
   "metadata": {},
   "outputs": [
    {
     "data": {
      "text/plain": [
       "NodeDataView({1: 'blue', 3: 'blue', 2: 'blue', 4: 'blue', 5: 'blue'}, data='color')"
      ]
     },
     "execution_count": 68,
     "metadata": {},
     "output_type": "execute_result"
    }
   ],
   "source": [
    "G.nodes.data('color', default='blue')"
   ]
  },
  {
   "cell_type": "code",
   "execution_count": 69,
   "id": "d5516894",
   "metadata": {},
   "outputs": [
    {
     "data": {
      "text/plain": [
       "NodeDataView({1: None, 3: None, 2: None, 4: None, 5: None}, data='color')"
      ]
     },
     "execution_count": 69,
     "metadata": {},
     "output_type": "execute_result"
    }
   ],
   "source": [
    "G.nodes.data('color')"
   ]
  },
  {
   "cell_type": "code",
   "execution_count": null,
   "id": "a5286a85",
   "metadata": {},
   "outputs": [],
   "source": []
  },
  {
   "cell_type": "code",
   "execution_count": 70,
   "id": "cb9beb56",
   "metadata": {},
   "outputs": [
    {
     "data": {
      "text/plain": [
       "EdgeDataView([(1, 2, 'blue'), (3, 4, 'red'), (3, 2, None), (4, 5, 'red')])"
      ]
     },
     "execution_count": 70,
     "metadata": {},
     "output_type": "execute_result"
    }
   ],
   "source": [
    "G.edges.data('color')"
   ]
  },
  {
   "cell_type": "code",
   "execution_count": 71,
   "id": "df1848ff",
   "metadata": {},
   "outputs": [
    {
     "data": {
      "text/plain": [
       "EdgeDataView([(1, 2, 'blue'), (3, 4, 'red'), (3, 2, 'blue'), (4, 5, 'red')])"
      ]
     },
     "execution_count": 71,
     "metadata": {},
     "output_type": "execute_result"
    }
   ],
   "source": [
    "G.edges.data('color', default='blue')"
   ]
  },
  {
   "cell_type": "code",
   "execution_count": 72,
   "id": "be2f542a",
   "metadata": {},
   "outputs": [
    {
     "data": {
      "text/plain": [
       "EdgeDataView([(1, 2, 'blue'), (3, 4, 'red'), (3, 2, None), (4, 5, 'red')])"
      ]
     },
     "execution_count": 72,
     "metadata": {},
     "output_type": "execute_result"
    }
   ],
   "source": [
    "G.edges.data('color')"
   ]
  },
  {
   "cell_type": "code",
   "execution_count": null,
   "id": "683dfafc",
   "metadata": {},
   "outputs": [],
   "source": []
  },
  {
   "cell_type": "code",
   "execution_count": 83,
   "id": "6b51a03f",
   "metadata": {},
   "outputs": [
    {
     "data": {
      "text/plain": [
       "DegreeView({1: 1, 3: 2, 2: 2, 4: 2, 5: 1})"
      ]
     },
     "execution_count": 83,
     "metadata": {},
     "output_type": "execute_result"
    }
   ],
   "source": [
    "G.degree"
   ]
  },
  {
   "cell_type": "code",
   "execution_count": 71,
   "id": "08e9c213",
   "metadata": {},
   "outputs": [
    {
     "data": {
      "text/plain": [
       "EdgeDataView([(1, 2, 'blue'), (3, 4, 'red'), (3, 2, 'blue'), (4, 5, 'red')])"
      ]
     },
     "execution_count": 71,
     "metadata": {},
     "output_type": "execute_result"
    }
   ],
   "source": [
    "G.edges.data('color', default='blue')"
   ]
  },
  {
   "cell_type": "code",
   "execution_count": 72,
   "id": "c28eec73",
   "metadata": {},
   "outputs": [
    {
     "data": {
      "text/plain": [
       "EdgeDataView([(1, 2, 'blue'), (3, 4, 'red'), (3, 2, None), (4, 5, 'red')])"
      ]
     },
     "execution_count": 72,
     "metadata": {},
     "output_type": "execute_result"
    }
   ],
   "source": [
    "G.edges.data('color')"
   ]
  },
  {
   "cell_type": "code",
   "execution_count": null,
   "id": "14cfb2b4",
   "metadata": {},
   "outputs": [],
   "source": []
  },
  {
   "cell_type": "code",
   "execution_count": 74,
   "id": "c2cdd5f1",
   "metadata": {},
   "outputs": [
    {
     "data": {
      "text/plain": [
       "[(1, {2: {'weight': 4, 'color': 'blue'}}),\n",
       " (3, {4: {'color': 'red'}, 2: {'weight': 8}}),\n",
       " (2, {1: {'weight': 4, 'color': 'blue'}, 3: {'weight': 8}}),\n",
       " (4, {3: {'color': 'red'}, 5: {'color': 'red'}}),\n",
       " (5, {4: {'color': 'red'}})]"
      ]
     },
     "execution_count": 74,
     "metadata": {},
     "output_type": "execute_result"
    }
   ],
   "source": [
    "list(G.adjacency())"
   ]
  },
  {
   "cell_type": "code",
   "execution_count": 52,
   "id": "087d8684",
   "metadata": {},
   "outputs": [],
   "source": [
    "for n, nbrsdict in G.adjacency(): \n",
    "    for nbr, eattr in nbrsdict.items():\n",
    "        if \"weight\" in eattr:\n",
    "            # Do something useful with the edges\n",
    "            pass           \n",
    "    "
   ]
  },
  {
   "cell_type": "code",
   "execution_count": 79,
   "id": "e00c30e7",
   "metadata": {},
   "outputs": [
    {
     "data": {
      "text/plain": [
       "EdgeDataView([(1, 2, 4), (3, 4, None), (3, 2, 8), (4, 5, None)])"
      ]
     },
     "execution_count": 79,
     "metadata": {},
     "output_type": "execute_result"
    }
   ],
   "source": [
    "G.edges.data(\"weight\")"
   ]
  },
  {
   "cell_type": "markdown",
   "id": "8fb7da0f",
   "metadata": {},
   "source": [
    "But the edges() method is often more convenient:"
   ]
  },
  {
   "cell_type": "code",
   "execution_count": 56,
   "id": "717dbb5f",
   "metadata": {},
   "outputs": [],
   "source": [
    "for u, v, weight in G.edges.data(\"weight\"):\n",
    "    if weight is not None:\n",
    "       # Do something useful with the edges    \n",
    "        pass"
   ]
  },
  {
   "cell_type": "markdown",
   "id": "03b428c5",
   "metadata": {},
   "source": [
    "The objects nodes, edges and adj provide access to data attributes via lookup \n",
    "(e.g. nodes[n], edges[u, v], adj[u][v]) and iteration (e.g. nodes.items(), nodes.data('color'), nodes.data('color', default='blue') and similarly for edges) Views exist for nodes, edges, neighbors()/adj and degree."
   ]
  },
  {
   "cell_type": "code",
   "execution_count": null,
   "id": "a4682679",
   "metadata": {},
   "outputs": [],
   "source": []
  },
  {
   "cell_type": "code",
   "execution_count": 84,
   "id": "ca31f1e4",
   "metadata": {},
   "outputs": [],
   "source": [
    "G = nx.path_graph(3)"
   ]
  },
  {
   "cell_type": "code",
   "execution_count": 85,
   "id": "5d27ac58",
   "metadata": {},
   "outputs": [
    {
     "data": {
      "text/plain": [
       "[0, 1, 2]"
      ]
     },
     "execution_count": 85,
     "metadata": {},
     "output_type": "execute_result"
    }
   ],
   "source": [
    "list(G.nodes)"
   ]
  },
  {
   "cell_type": "code",
   "execution_count": 86,
   "id": "8f8c3f94",
   "metadata": {},
   "outputs": [
    {
     "data": {
      "text/plain": [
       "[0, 1, 2]"
      ]
     },
     "execution_count": 86,
     "metadata": {},
     "output_type": "execute_result"
    }
   ],
   "source": [
    "list(G)"
   ]
  },
  {
   "cell_type": "code",
   "execution_count": 87,
   "id": "078df933",
   "metadata": {},
   "outputs": [],
   "source": [
    "G.add_node(1, time=\"5pm\")"
   ]
  },
  {
   "cell_type": "code",
   "execution_count": 88,
   "id": "d58f790b",
   "metadata": {},
   "outputs": [],
   "source": [
    "G.nodes[0][\"foo\"] = \"bar\""
   ]
  },
  {
   "cell_type": "code",
   "execution_count": 89,
   "id": "010498c6",
   "metadata": {},
   "outputs": [
    {
     "data": {
      "text/plain": [
       "[(0, {'foo': 'bar'}), (1, {'time': '5pm'}), (2, {})]"
      ]
     },
     "execution_count": 89,
     "metadata": {},
     "output_type": "execute_result"
    }
   ],
   "source": [
    "list(G.nodes(data=True))"
   ]
  },
  {
   "cell_type": "code",
   "execution_count": 90,
   "id": "2f42b77e",
   "metadata": {},
   "outputs": [
    {
     "data": {
      "text/plain": [
       "[(0, {'foo': 'bar'}), (1, {'time': '5pm'}), (2, {})]"
      ]
     },
     "execution_count": 90,
     "metadata": {},
     "output_type": "execute_result"
    }
   ],
   "source": [
    "list(G.nodes.data())"
   ]
  },
  {
   "cell_type": "code",
   "execution_count": 91,
   "id": "05e63b5c",
   "metadata": {},
   "outputs": [
    {
     "data": {
      "text/plain": [
       "[(0, 'bar'), (1, None), (2, None)]"
      ]
     },
     "execution_count": 91,
     "metadata": {},
     "output_type": "execute_result"
    }
   ],
   "source": [
    "list(G.nodes(data=\"foo\"))"
   ]
  },
  {
   "cell_type": "code",
   "execution_count": 92,
   "id": "0de900f1",
   "metadata": {},
   "outputs": [
    {
     "data": {
      "text/plain": [
       "[(0, 'bar'), (1, None), (2, None)]"
      ]
     },
     "execution_count": 92,
     "metadata": {},
     "output_type": "execute_result"
    }
   ],
   "source": [
    "list(G.nodes.data(\"foo\"))"
   ]
  },
  {
   "cell_type": "code",
   "execution_count": 93,
   "id": "2ec7b564",
   "metadata": {},
   "outputs": [
    {
     "data": {
      "text/plain": [
       "[(0, None), (1, '5pm'), (2, None)]"
      ]
     },
     "execution_count": 93,
     "metadata": {},
     "output_type": "execute_result"
    }
   ],
   "source": [
    "list(G.nodes(data=\"time\"))"
   ]
  },
  {
   "cell_type": "code",
   "execution_count": 94,
   "id": "e6ba3e52",
   "metadata": {},
   "outputs": [
    {
     "data": {
      "text/plain": [
       "[(0, None), (1, '5pm'), (2, None)]"
      ]
     },
     "execution_count": 94,
     "metadata": {},
     "output_type": "execute_result"
    }
   ],
   "source": [
    "list(G.nodes.data(\"time\"))"
   ]
  },
  {
   "cell_type": "code",
   "execution_count": 95,
   "id": "485404dd",
   "metadata": {},
   "outputs": [
    {
     "data": {
      "text/plain": [
       "[(0, 'Not Available'), (1, '5pm'), (2, 'Not Available')]"
      ]
     },
     "execution_count": 95,
     "metadata": {},
     "output_type": "execute_result"
    }
   ],
   "source": [
    "list(G.nodes(data=\"time\", default=\"Not Available\"))"
   ]
  },
  {
   "cell_type": "code",
   "execution_count": 96,
   "id": "cb3b19f2",
   "metadata": {},
   "outputs": [
    {
     "data": {
      "text/plain": [
       "[(0, 'Not Available'), (1, '5pm'), (2, 'Not Available')]"
      ]
     },
     "execution_count": 96,
     "metadata": {},
     "output_type": "execute_result"
    }
   ],
   "source": [
    "list(G.nodes.data(\"time\", default=\"Not Available\"))"
   ]
  },
  {
   "cell_type": "code",
   "execution_count": 97,
   "id": "5ddd50b7",
   "metadata": {},
   "outputs": [],
   "source": [
    "G = nx.path_graph(4)  # or DiGraph, MultiGraph, MultiDiGraph, etc"
   ]
  },
  {
   "cell_type": "code",
   "execution_count": 98,
   "id": "5e2d0ca2",
   "metadata": {},
   "outputs": [
    {
     "data": {
      "text/plain": [
       "[0, 1, 2, 3]"
      ]
     },
     "execution_count": 98,
     "metadata": {},
     "output_type": "execute_result"
    }
   ],
   "source": [
    "[n for n in G]"
   ]
  },
  {
   "cell_type": "code",
   "execution_count": 99,
   "id": "4f17de67",
   "metadata": {},
   "outputs": [
    {
     "data": {
      "text/plain": [
       "[0, 1, 2, 3]"
      ]
     },
     "execution_count": 99,
     "metadata": {},
     "output_type": "execute_result"
    }
   ],
   "source": [
    "list(G)"
   ]
  },
  {
   "cell_type": "code",
   "execution_count": 100,
   "id": "6cb98eb9",
   "metadata": {},
   "outputs": [
    {
     "data": {
      "text/plain": [
       "True"
      ]
     },
     "execution_count": 100,
     "metadata": {},
     "output_type": "execute_result"
    }
   ],
   "source": [
    "G.has_node(0)"
   ]
  },
  {
   "cell_type": "code",
   "execution_count": 101,
   "id": "d0b2eba8",
   "metadata": {},
   "outputs": [
    {
     "data": {
      "text/plain": [
       "True"
      ]
     },
     "execution_count": 101,
     "metadata": {},
     "output_type": "execute_result"
    }
   ],
   "source": [
    "0 in G"
   ]
  },
  {
   "cell_type": "code",
   "execution_count": 102,
   "id": "e99ccec6",
   "metadata": {},
   "outputs": [
    {
     "data": {
      "text/plain": [
       "[(0, 1), (1, 2), (2, 3)]"
      ]
     },
     "execution_count": 102,
     "metadata": {},
     "output_type": "execute_result"
    }
   ],
   "source": [
    "G = nx.path_graph(3)  # or MultiGraph, etc\n",
    "G.add_edge(2, 3, weight=5)\n",
    "[e for e in G.edges]"
   ]
  },
  {
   "cell_type": "code",
   "execution_count": 103,
   "id": "0ff0b1ae",
   "metadata": {},
   "outputs": [
    {
     "data": {
      "text/plain": [
       "EdgeDataView([(0, 1, {}), (1, 2, {}), (2, 3, {'weight': 5})])"
      ]
     },
     "execution_count": 103,
     "metadata": {},
     "output_type": "execute_result"
    }
   ],
   "source": [
    "G.edges.data()  # default data is {} (empty dict)"
   ]
  },
  {
   "cell_type": "code",
   "execution_count": 105,
   "id": "e09f3955",
   "metadata": {},
   "outputs": [
    {
     "data": {
      "text/plain": [
       "EdgeDataView([(0, 1, 1), (1, 2, 1), (2, 3, 5)])"
      ]
     },
     "execution_count": 105,
     "metadata": {},
     "output_type": "execute_result"
    }
   ],
   "source": [
    "G.edges.data(\"weight\", default=1)"
   ]
  },
  {
   "cell_type": "code",
   "execution_count": 106,
   "id": "cc8c2dee",
   "metadata": {},
   "outputs": [
    {
     "data": {
      "text/plain": [
       "EdgeDataView([(0, 1), (3, 2)])"
      ]
     },
     "execution_count": 106,
     "metadata": {},
     "output_type": "execute_result"
    }
   ],
   "source": [
    "G.edges([0, 3])  # only edges incident to these nodes"
   ]
  },
  {
   "cell_type": "code",
   "execution_count": 107,
   "id": "5d45c881",
   "metadata": {},
   "outputs": [
    {
     "data": {
      "text/plain": [
       "EdgeDataView([(0, 1)])"
      ]
     },
     "execution_count": 107,
     "metadata": {},
     "output_type": "execute_result"
    }
   ],
   "source": [
    "G.edges(0)  # only edges incident to a single node (use G.adj[0]?)"
   ]
  },
  {
   "cell_type": "code",
   "execution_count": 108,
   "id": "6771dd11",
   "metadata": {},
   "outputs": [],
   "source": [
    "G = nx.path_graph(4)  # or DiGraph, MultiGraph, MultiDiGraph, etc"
   ]
  },
  {
   "cell_type": "code",
   "execution_count": 109,
   "id": "73411945",
   "metadata": {},
   "outputs": [
    {
     "data": {
      "text/plain": [
       "True"
      ]
     },
     "execution_count": 109,
     "metadata": {},
     "output_type": "execute_result"
    }
   ],
   "source": [
    "G.has_edge(0, 1)  # using two nodes"
   ]
  },
  {
   "cell_type": "code",
   "execution_count": 110,
   "id": "8e5ce643",
   "metadata": {},
   "outputs": [],
   "source": [
    "e = (0, 1)"
   ]
  },
  {
   "cell_type": "code",
   "execution_count": 111,
   "id": "2dd8bf5a",
   "metadata": {},
   "outputs": [
    {
     "data": {
      "text/plain": [
       "True"
      ]
     },
     "execution_count": 111,
     "metadata": {},
     "output_type": "execute_result"
    }
   ],
   "source": [
    "G.has_edge(*e)  #  e is a 2-tuple (u, v)"
   ]
  },
  {
   "cell_type": "code",
   "execution_count": 112,
   "id": "7909c14e",
   "metadata": {},
   "outputs": [],
   "source": [
    "e = (0, 1, {\"weight\": 7})"
   ]
  },
  {
   "cell_type": "code",
   "execution_count": 113,
   "id": "c79a7985",
   "metadata": {},
   "outputs": [
    {
     "data": {
      "text/plain": [
       "True"
      ]
     },
     "execution_count": 113,
     "metadata": {},
     "output_type": "execute_result"
    }
   ],
   "source": [
    "G.has_edge(*e[:2])  # e is a 3-tuple (u, v, data_dictionary)"
   ]
  },
  {
   "cell_type": "code",
   "execution_count": 114,
   "id": "3927a153",
   "metadata": {},
   "outputs": [
    {
     "data": {
      "text/plain": [
       "True"
      ]
     },
     "execution_count": 114,
     "metadata": {},
     "output_type": "execute_result"
    }
   ],
   "source": [
    "G.has_edge(0, 1)"
   ]
  },
  {
   "cell_type": "code",
   "execution_count": 115,
   "id": "be0e0c8d",
   "metadata": {},
   "outputs": [
    {
     "data": {
      "text/plain": [
       "True"
      ]
     },
     "execution_count": 115,
     "metadata": {},
     "output_type": "execute_result"
    }
   ],
   "source": [
    "1 in G[0]  # though this gives KeyError if 0 not in G"
   ]
  },
  {
   "cell_type": "code",
   "execution_count": 116,
   "id": "4b8be658",
   "metadata": {},
   "outputs": [],
   "source": [
    "G = nx.path_graph(4)  # or DiGraph, MultiGraph, MultiDiGraph, etc"
   ]
  },
  {
   "cell_type": "code",
   "execution_count": 117,
   "id": "21f225d2",
   "metadata": {},
   "outputs": [
    {
     "data": {
      "text/plain": [
       "{}"
      ]
     },
     "execution_count": 117,
     "metadata": {},
     "output_type": "execute_result"
    }
   ],
   "source": [
    "G[0][1]"
   ]
  },
  {
   "cell_type": "code",
   "execution_count": 118,
   "id": "43e3e55f",
   "metadata": {},
   "outputs": [],
   "source": [
    "G[0][1][\"weight\"] = 7"
   ]
  },
  {
   "cell_type": "code",
   "execution_count": 119,
   "id": "72aed1b1",
   "metadata": {},
   "outputs": [
    {
     "data": {
      "text/plain": [
       "7"
      ]
     },
     "execution_count": 119,
     "metadata": {},
     "output_type": "execute_result"
    }
   ],
   "source": [
    "G[0][1][\"weight\"]"
   ]
  },
  {
   "cell_type": "code",
   "execution_count": null,
   "id": "6957abaf",
   "metadata": {},
   "outputs": [],
   "source": []
  },
  {
   "cell_type": "code",
   "execution_count": null,
   "id": "bf928a45",
   "metadata": {},
   "outputs": [],
   "source": []
  },
  {
   "cell_type": "code",
   "execution_count": null,
   "id": "f297d3d7",
   "metadata": {},
   "outputs": [],
   "source": []
  },
  {
   "cell_type": "code",
   "execution_count": null,
   "id": "f2463ddc",
   "metadata": {},
   "outputs": [],
   "source": []
  },
  {
   "cell_type": "code",
   "execution_count": null,
   "id": "7d7729b3",
   "metadata": {},
   "outputs": [],
   "source": []
  },
  {
   "cell_type": "code",
   "execution_count": null,
   "id": "0d45fff5",
   "metadata": {},
   "outputs": [],
   "source": []
  },
  {
   "cell_type": "code",
   "execution_count": null,
   "id": "3f78993c",
   "metadata": {},
   "outputs": [],
   "source": []
  },
  {
   "cell_type": "code",
   "execution_count": null,
   "id": "e9b3c21f",
   "metadata": {},
   "outputs": [],
   "source": []
  },
  {
   "cell_type": "code",
   "execution_count": null,
   "id": "d6d1f406",
   "metadata": {},
   "outputs": [],
   "source": []
  },
  {
   "cell_type": "code",
   "execution_count": null,
   "id": "c56e7add",
   "metadata": {},
   "outputs": [],
   "source": []
  },
  {
   "cell_type": "code",
   "execution_count": null,
   "id": "1f120ad6",
   "metadata": {},
   "outputs": [],
   "source": []
  }
 ],
 "metadata": {
  "kernelspec": {
   "display_name": "Python 3 (ipykernel)",
   "language": "python",
   "name": "python3"
  },
  "language_info": {
   "codemirror_mode": {
    "name": "ipython",
    "version": 3
   },
   "file_extension": ".py",
   "mimetype": "text/x-python",
   "name": "python",
   "nbconvert_exporter": "python",
   "pygments_lexer": "ipython3",
   "version": "3.9.7"
  }
 },
 "nbformat": 4,
 "nbformat_minor": 5
}
