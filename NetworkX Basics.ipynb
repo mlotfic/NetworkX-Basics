{
 "cells": [
  {
   "cell_type": "markdown",
   "id": "ff539b66",
   "metadata": {},
   "source": [
    "## NetworkX Basics\n",
    "After starting Python, import the networkx module with (the recommended way)"
   ]
  },
  {
   "cell_type": "code",
   "execution_count": 1,
   "id": "3b46e3bb",
   "metadata": {},
   "outputs": [],
   "source": [
    "import networkx as nx"
   ]
  },
  {
   "cell_type": "markdown",
   "id": "cef30d31",
   "metadata": {},
   "source": [
    "### Graph\n",
    "- This class implements an undirected graph. \n",
    "- It ignores multiple edges between two nodes. \n",
    "- It does allow self-loop edges between a node and itself.\n",
    "- Base class for undirected graphs.\n",
    "- A Graph stores nodes and edges with optional data, or attributes.\n",
    "- Graphs hold undirected edges. \n",
    "- Self loops are allowed but multiple (parallel) edges are not.\n",
    "\n",
    "- Nodes can be arbitrary (hashable) Python objects with optional key/value attributes, except that None is not allowed as a node.\n",
    "\n",
    "- Edges are represented as links between nodes with optional key/value attributes.\n",
    "\n",
    "#### class Graph(incoming_graph_data=None, **attr)\n",
    "##### Parameters \"incoming_graph_datainput\"\n",
    "\n",
    "##### Attributes: attrkeyword arguments, optional (default= no attributes)\n",
    "- Attributes to add to graph as key=value pairs.\n",
    "- Each graph, node, and edge can hold key/value attribute pairs in an associated attribute dictionary (the keys must be hashable). \n",
    "- By default these are empty, but can be added or changed using \n",
    "- add_edge, \n",
    "- add_node or \n",
    "- direct manipulation of the attribute dictionaries named graph, node and edge respectively.\n",
    "\n",
    "\n",
    "If some edges connect nodes not yet in the graph, the nodes are added automatically. There are no errors when adding nodes or edges that already exist."
   ]
  },
  {
   "cell_type": "code",
   "execution_count": null,
   "id": "48ac31ad",
   "metadata": {},
   "outputs": [],
   "source": [
    "# convert \n",
    "# - edge list, \n",
    "# - dict of dicts, \n",
    "# - dict of lists, \n",
    "# - NetworkX graph, \n",
    "# - NumPy matrix or \n",
    "# - 2d ndarray, \n",
    "# - SciPy sparse matrix, or \n",
    "# - PyGraphviz graph.into graph\n",
    "\n",
    "##to_networkx_graph() function\n"
   ]
  },
  {
   "cell_type": "code",
   "execution_count": 2,
   "id": "71fb6c63",
   "metadata": {},
   "outputs": [],
   "source": [
    "# initialize graph (an empty graph is created)\n",
    "# Create an empty graph structure (a “null graph”) with no nodes and no edges.\n",
    "G = nx.Graph()"
   ]
  },
  {
   "cell_type": "code",
   "execution_count": 3,
   "id": "735a0b53",
   "metadata": {},
   "outputs": [],
   "source": [
    "# Add one node at a time:\n",
    "G.add_node(1)"
   ]
  },
  {
   "cell_type": "code",
   "execution_count": null,
   "id": "2803b9ee",
   "metadata": {},
   "outputs": [],
   "source": [
    "# Add the nodes from any container \n",
    "# (a list, dict, set or even the lines from a file or the nodes from another graph)."
   ]
  },
  {
   "cell_type": "code",
   "execution_count": 4,
   "id": "14c72d51",
   "metadata": {},
   "outputs": [],
   "source": [
    "G.add_nodes_from([2, 3])"
   ]
  },
  {
   "cell_type": "code",
   "execution_count": 5,
   "id": "d6328682",
   "metadata": {},
   "outputs": [],
   "source": [
    "G.add_nodes_from(range(100, 110))"
   ]
  },
  {
   "cell_type": "code",
   "execution_count": 7,
   "id": "d90fd847",
   "metadata": {},
   "outputs": [],
   "source": [
    "# create a path\n",
    "H = nx.path_graph(10)"
   ]
  },
  {
   "cell_type": "code",
   "execution_count": 9,
   "id": "39042d3b",
   "metadata": {},
   "outputs": [],
   "source": [
    "# add a path to graph\n",
    "G.add_nodes_from(H)"
   ]
  },
  {
   "cell_type": "code",
   "execution_count": 10,
   "id": "50e2b5f9",
   "metadata": {},
   "outputs": [],
   "source": [
    "# G can also be grown by adding edges.\n",
    "# Add one edge,\n",
    "G.add_edge(1, 2)"
   ]
  },
  {
   "cell_type": "code",
   "execution_count": 11,
   "id": "3bdd13b5",
   "metadata": {},
   "outputs": [],
   "source": [
    "# a list of edges,\n",
    "G.add_edges_from([(1, 2), (1, 3)])"
   ]
  },
  {
   "cell_type": "code",
   "execution_count": 12,
   "id": "d4cef1b4",
   "metadata": {},
   "outputs": [],
   "source": [
    "# or a collection of edges, from path\n",
    "G.add_edges_from(H.edges)"
   ]
  },
  {
   "cell_type": "code",
   "execution_count": 13,
   "id": "735e6d7b",
   "metadata": {},
   "outputs": [],
   "source": [
    "G = nx.Graph(day=\"Friday\")"
   ]
  },
  {
   "cell_type": "code",
   "execution_count": 14,
   "id": "ea7ee503",
   "metadata": {},
   "outputs": [
    {
     "data": {
      "text/plain": [
       "{'day': 'Friday'}"
      ]
     },
     "execution_count": 14,
     "metadata": {},
     "output_type": "execute_result"
    }
   ],
   "source": [
    "G.graph"
   ]
  },
  {
   "cell_type": "code",
   "execution_count": 15,
   "id": "2ee5fb01",
   "metadata": {},
   "outputs": [
    {
     "data": {
      "text/plain": [
       "AdjacencyView({})"
      ]
     },
     "execution_count": 15,
     "metadata": {},
     "output_type": "execute_result"
    }
   ],
   "source": [
    "G.adj"
   ]
  },
  {
   "cell_type": "code",
   "execution_count": 16,
   "id": "a7af3e1d",
   "metadata": {},
   "outputs": [
    {
     "data": {
      "text/plain": [
       "<bound method Graph.adjacency of <networkx.classes.graph.Graph object at 0x0000025CD3186DC0>>"
      ]
     },
     "execution_count": 16,
     "metadata": {},
     "output_type": "execute_result"
    }
   ],
   "source": [
    "G.adjacency"
   ]
  },
  {
   "cell_type": "code",
   "execution_count": 18,
   "id": "4dc66d48",
   "metadata": {},
   "outputs": [],
   "source": [
    "# Add node attributes using add_node(), add_nodes_from() or G.nodes\n",
    "G.add_node(1, time=\"5pm\")"
   ]
  },
  {
   "cell_type": "code",
   "execution_count": 28,
   "id": "97cbf219",
   "metadata": {},
   "outputs": [
    {
     "data": {
      "text/plain": [
       "{'day': 'Friday'}"
      ]
     },
     "execution_count": 28,
     "metadata": {},
     "output_type": "execute_result"
    }
   ],
   "source": [
    "G.graph"
   ]
  },
  {
   "cell_type": "code",
   "execution_count": 20,
   "id": "b6b34793",
   "metadata": {},
   "outputs": [],
   "source": [
    "G.add_nodes_from([3], time=\"2pm\")"
   ]
  },
  {
   "cell_type": "code",
   "execution_count": 26,
   "id": "68e0fc41",
   "metadata": {},
   "outputs": [
    {
     "data": {
      "text/plain": [
       "{'time': '5pm'}"
      ]
     },
     "execution_count": 26,
     "metadata": {},
     "output_type": "execute_result"
    }
   ],
   "source": [
    "G.nodes[1]"
   ]
  },
  {
   "cell_type": "code",
   "execution_count": 27,
   "id": "f2d850c6",
   "metadata": {},
   "outputs": [
    {
     "data": {
      "text/plain": [
       "{'time': '2pm'}"
      ]
     },
     "execution_count": 27,
     "metadata": {},
     "output_type": "execute_result"
    }
   ],
   "source": [
    "G.nodes[3]"
   ]
  },
  {
   "cell_type": "code",
   "execution_count": 29,
   "id": "f1115126",
   "metadata": {},
   "outputs": [],
   "source": [
    "G.nodes[1][\"room\"] = 714  # node must exist already to use G.nodes"
   ]
  },
  {
   "cell_type": "code",
   "execution_count": 30,
   "id": "4a30252f",
   "metadata": {},
   "outputs": [
    {
     "data": {
      "text/plain": [
       "[(1, {'time': '5pm', 'room': 714}), (3, {'time': '2pm'})]"
      ]
     },
     "execution_count": 30,
     "metadata": {},
     "output_type": "execute_result"
    }
   ],
   "source": [
    "list(G.nodes(data=True))"
   ]
  },
  {
   "cell_type": "code",
   "execution_count": 31,
   "id": "c9483f7a",
   "metadata": {},
   "outputs": [],
   "source": [
    "del G.nodes[1][\"room\"]  # remove attribute"
   ]
  },
  {
   "cell_type": "code",
   "execution_count": 32,
   "id": "016cbb2e",
   "metadata": {},
   "outputs": [
    {
     "data": {
      "text/plain": [
       "[(1, {'time': '5pm'}), (3, {'time': '2pm'})]"
      ]
     },
     "execution_count": 32,
     "metadata": {},
     "output_type": "execute_result"
    }
   ],
   "source": [
    "list(G.nodes(data=True))"
   ]
  },
  {
   "cell_type": "code",
   "execution_count": 33,
   "id": "3b57813a",
   "metadata": {},
   "outputs": [],
   "source": [
    "# Add edge attributes using add_edge(), add_edges_from(), subscript notation, or G.edges.\n",
    "G.add_edge(1, 2, weight=4.7)"
   ]
  },
  {
   "cell_type": "code",
   "execution_count": 34,
   "id": "ac1662e6",
   "metadata": {},
   "outputs": [
    {
     "data": {
      "text/plain": [
       "[(1, {'time': '5pm'}), (3, {'time': '2pm'}), (2, {})]"
      ]
     },
     "execution_count": 34,
     "metadata": {},
     "output_type": "execute_result"
    }
   ],
   "source": [
    "list(G.nodes(data=True))"
   ]
  },
  {
   "cell_type": "code",
   "execution_count": 35,
   "id": "f0bf28e3",
   "metadata": {},
   "outputs": [
    {
     "data": {
      "text/plain": [
       "{'day': 'Friday'}"
      ]
     },
     "execution_count": 35,
     "metadata": {},
     "output_type": "execute_result"
    }
   ],
   "source": [
    "G.graph"
   ]
  },
  {
   "cell_type": "code",
   "execution_count": 36,
   "id": "c565699e",
   "metadata": {},
   "outputs": [],
   "source": [
    "G.add_edges_from([(3, 4), (4, 5)], color=\"red\")"
   ]
  },
  {
   "cell_type": "code",
   "execution_count": 39,
   "id": "916d9769",
   "metadata": {},
   "outputs": [
    {
     "data": {
      "text/plain": [
       "NodeDataView({1: {'time': '5pm'}, 3: {'time': '2pm'}, 2: {}, 4: {}, 5: {}})"
      ]
     },
     "execution_count": 39,
     "metadata": {},
     "output_type": "execute_result"
    }
   ],
   "source": [
    "G.nodes(data=True)"
   ]
  },
  {
   "cell_type": "code",
   "execution_count": 40,
   "id": "070ee81d",
   "metadata": {},
   "outputs": [
    {
     "data": {
      "text/plain": [
       "EdgeView([(1, 2), (3, 4), (4, 5)])"
      ]
     },
     "execution_count": 40,
     "metadata": {},
     "output_type": "execute_result"
    }
   ],
   "source": [
    "G.edges(data=True)"
   ]
  },
  {
   "cell_type": "code",
   "execution_count": 41,
   "id": "45310d43",
   "metadata": {},
   "outputs": [],
   "source": [
    "G.add_edges_from([(1, 2, {\"color\": \"blue\"}), (2, 3, {\"weight\": 8})])"
   ]
  },
  {
   "cell_type": "code",
   "execution_count": 42,
   "id": "7177155c",
   "metadata": {},
   "outputs": [
    {
     "data": {
      "text/plain": [
       "EdgeDataView([(1, 2, {'weight': 4.7, 'color': 'blue'}), (3, 4, {'color': 'red'}), (3, 2, {'weight': 8}), (4, 5, {'color': 'red'})])"
      ]
     },
     "execution_count": 42,
     "metadata": {},
     "output_type": "execute_result"
    }
   ],
   "source": [
    "G.edges(data=True)"
   ]
  },
  {
   "cell_type": "code",
   "execution_count": 43,
   "id": "a9976206",
   "metadata": {},
   "outputs": [
    {
     "data": {
      "text/plain": [
       "4.7"
      ]
     },
     "execution_count": 43,
     "metadata": {},
     "output_type": "execute_result"
    }
   ],
   "source": [
    "G[1][2][\"weight\"] "
   ]
  },
  {
   "cell_type": "code",
   "execution_count": 44,
   "id": "1a3cac79",
   "metadata": {},
   "outputs": [],
   "source": [
    "G[1][2][\"weight\"] = 4.7"
   ]
  },
  {
   "cell_type": "code",
   "execution_count": 45,
   "id": "906de19d",
   "metadata": {},
   "outputs": [
    {
     "data": {
      "text/plain": [
       "4.7"
      ]
     },
     "execution_count": 45,
     "metadata": {},
     "output_type": "execute_result"
    }
   ],
   "source": [
    "G.edges[1, 2][\"weight\"] "
   ]
  },
  {
   "cell_type": "code",
   "execution_count": 46,
   "id": "3c2fe509",
   "metadata": {},
   "outputs": [],
   "source": [
    "G.edges[1, 2][\"weight\"] = 4"
   ]
  },
  {
   "cell_type": "code",
   "execution_count": 47,
   "id": "0813c568",
   "metadata": {},
   "outputs": [],
   "source": [
    "## For multigraphs: MG.edges[u, v, key][name] = value)"
   ]
  },
  {
   "cell_type": "code",
   "execution_count": 48,
   "id": "6c2f83c4",
   "metadata": {},
   "outputs": [
    {
     "data": {
      "text/plain": [
       "True"
      ]
     },
     "execution_count": 48,
     "metadata": {},
     "output_type": "execute_result"
    }
   ],
   "source": [
    "1 in G  # check if node in graph"
   ]
  },
  {
   "cell_type": "code",
   "execution_count": 50,
   "id": "485a1827",
   "metadata": {},
   "outputs": [
    {
     "data": {
      "text/plain": [
       "[1, 3, 2, 4, 5]"
      ]
     },
     "execution_count": 50,
     "metadata": {},
     "output_type": "execute_result"
    }
   ],
   "source": [
    "[n for n in G if n < 10]  # iterate through nodes"
   ]
  },
  {
   "cell_type": "code",
   "execution_count": 51,
   "id": "f74e0d74",
   "metadata": {},
   "outputs": [
    {
     "data": {
      "text/plain": [
       "5"
      ]
     },
     "execution_count": 51,
     "metadata": {},
     "output_type": "execute_result"
    }
   ],
   "source": [
    "len(G)  # number of nodes in graph"
   ]
  },
  {
   "cell_type": "markdown",
   "id": "e8a742e8",
   "metadata": {},
   "source": [
    "Often the best way to traverse all edges of a graph is via the neighbors. <br>\n",
    "The neighbors are reported as an adjacency-dict G.adj or G.adjacency()"
   ]
  },
  {
   "cell_type": "code",
   "execution_count": 57,
   "id": "82cb63fa",
   "metadata": {},
   "outputs": [
    {
     "data": {
      "text/plain": [
       "{'weight': 4, 'color': 'blue'}"
      ]
     },
     "execution_count": 57,
     "metadata": {},
     "output_type": "execute_result"
    }
   ],
   "source": [
    "G.adj[1][2]"
   ]
  },
  {
   "cell_type": "code",
   "execution_count": 61,
   "id": "79524d63",
   "metadata": {},
   "outputs": [
    {
     "data": {
      "text/plain": [
       "{'weight': 4, 'color': 'blue'}"
      ]
     },
     "execution_count": 61,
     "metadata": {},
     "output_type": "execute_result"
    }
   ],
   "source": [
    "G.edges[1, 2]"
   ]
  },
  {
   "cell_type": "code",
   "execution_count": 63,
   "id": "5b837666",
   "metadata": {},
   "outputs": [
    {
     "data": {
      "text/plain": [
       "{'time': '5pm'}"
      ]
     },
     "execution_count": 63,
     "metadata": {},
     "output_type": "execute_result"
    }
   ],
   "source": [
    "G.nodes[1]"
   ]
  },
  {
   "cell_type": "code",
   "execution_count": 64,
   "id": "1606757b",
   "metadata": {},
   "outputs": [
    {
     "data": {
      "text/plain": [
       "{'day': 'Friday'}"
      ]
     },
     "execution_count": 64,
     "metadata": {},
     "output_type": "execute_result"
    }
   ],
   "source": [
    "G.graph"
   ]
  },
  {
   "cell_type": "code",
   "execution_count": 66,
   "id": "61c29b3c",
   "metadata": {},
   "outputs": [
    {
     "data": {
      "text/plain": [
       "ItemsView(NodeView((1, 3, 2, 4, 5)))"
      ]
     },
     "execution_count": 66,
     "metadata": {},
     "output_type": "execute_result"
    }
   ],
   "source": [
    "G.nodes.items()"
   ]
  },
  {
   "cell_type": "code",
   "execution_count": 67,
   "id": "c785e602",
   "metadata": {},
   "outputs": [
    {
     "data": {
      "text/plain": [
       "NodeDataView({1: None, 3: None, 2: None, 4: None, 5: None}, data='color')"
      ]
     },
     "execution_count": 67,
     "metadata": {},
     "output_type": "execute_result"
    }
   ],
   "source": [
    "G.nodes.data('color')"
   ]
  },
  {
   "cell_type": "code",
   "execution_count": 68,
   "id": "5d73368b",
   "metadata": {},
   "outputs": [
    {
     "data": {
      "text/plain": [
       "NodeDataView({1: 'blue', 3: 'blue', 2: 'blue', 4: 'blue', 5: 'blue'}, data='color')"
      ]
     },
     "execution_count": 68,
     "metadata": {},
     "output_type": "execute_result"
    }
   ],
   "source": [
    "G.nodes.data('color', default='blue')"
   ]
  },
  {
   "cell_type": "code",
   "execution_count": 69,
   "id": "6a8bb731",
   "metadata": {},
   "outputs": [
    {
     "data": {
      "text/plain": [
       "NodeDataView({1: None, 3: None, 2: None, 4: None, 5: None}, data='color')"
      ]
     },
     "execution_count": 69,
     "metadata": {},
     "output_type": "execute_result"
    }
   ],
   "source": [
    "G.nodes.data('color')"
   ]
  },
  {
   "cell_type": "code",
   "execution_count": null,
   "id": "867529d8",
   "metadata": {},
   "outputs": [],
   "source": []
  },
  {
   "cell_type": "code",
   "execution_count": 70,
   "id": "94b50997",
   "metadata": {},
   "outputs": [
    {
     "data": {
      "text/plain": [
       "EdgeDataView([(1, 2, 'blue'), (3, 4, 'red'), (3, 2, None), (4, 5, 'red')])"
      ]
     },
     "execution_count": 70,
     "metadata": {},
     "output_type": "execute_result"
    }
   ],
   "source": [
    "G.edges.data('color')"
   ]
  },
  {
   "cell_type": "code",
   "execution_count": 71,
   "id": "aea86719",
   "metadata": {},
   "outputs": [
    {
     "data": {
      "text/plain": [
       "EdgeDataView([(1, 2, 'blue'), (3, 4, 'red'), (3, 2, 'blue'), (4, 5, 'red')])"
      ]
     },
     "execution_count": 71,
     "metadata": {},
     "output_type": "execute_result"
    }
   ],
   "source": [
    "G.edges.data('color', default='blue')"
   ]
  },
  {
   "cell_type": "code",
   "execution_count": 72,
   "id": "fbf53b4a",
   "metadata": {},
   "outputs": [
    {
     "data": {
      "text/plain": [
       "EdgeDataView([(1, 2, 'blue'), (3, 4, 'red'), (3, 2, None), (4, 5, 'red')])"
      ]
     },
     "execution_count": 72,
     "metadata": {},
     "output_type": "execute_result"
    }
   ],
   "source": [
    "G.edges.data('color')"
   ]
  },
  {
   "cell_type": "code",
   "execution_count": null,
   "id": "eade8435",
   "metadata": {},
   "outputs": [],
   "source": []
  },
  {
   "cell_type": "code",
   "execution_count": 83,
   "id": "a77ab836",
   "metadata": {},
   "outputs": [
    {
     "data": {
      "text/plain": [
       "DegreeView({1: 1, 3: 2, 2: 2, 4: 2, 5: 1})"
      ]
     },
     "execution_count": 83,
     "metadata": {},
     "output_type": "execute_result"
    }
   ],
   "source": [
    "G.degree"
   ]
  },
  {
   "cell_type": "code",
   "execution_count": 71,
   "id": "3e008f6d",
   "metadata": {},
   "outputs": [
    {
     "data": {
      "text/plain": [
       "EdgeDataView([(1, 2, 'blue'), (3, 4, 'red'), (3, 2, 'blue'), (4, 5, 'red')])"
      ]
     },
     "execution_count": 71,
     "metadata": {},
     "output_type": "execute_result"
    }
   ],
   "source": [
    "G.edges.data('color', default='blue')"
   ]
  },
  {
   "cell_type": "code",
   "execution_count": 72,
   "id": "70775aff",
   "metadata": {},
   "outputs": [
    {
     "data": {
      "text/plain": [
       "EdgeDataView([(1, 2, 'blue'), (3, 4, 'red'), (3, 2, None), (4, 5, 'red')])"
      ]
     },
     "execution_count": 72,
     "metadata": {},
     "output_type": "execute_result"
    }
   ],
   "source": [
    "G.edges.data('color')"
   ]
  },
  {
   "cell_type": "code",
   "execution_count": null,
   "id": "1c36da28",
   "metadata": {},
   "outputs": [],
   "source": []
  },
  {
   "cell_type": "code",
   "execution_count": 74,
   "id": "7116863d",
   "metadata": {},
   "outputs": [
    {
     "data": {
      "text/plain": [
       "[(1, {2: {'weight': 4, 'color': 'blue'}}),\n",
       " (3, {4: {'color': 'red'}, 2: {'weight': 8}}),\n",
       " (2, {1: {'weight': 4, 'color': 'blue'}, 3: {'weight': 8}}),\n",
       " (4, {3: {'color': 'red'}, 5: {'color': 'red'}}),\n",
       " (5, {4: {'color': 'red'}})]"
      ]
     },
     "execution_count": 74,
     "metadata": {},
     "output_type": "execute_result"
    }
   ],
   "source": [
    "list(G.adjacency())"
   ]
  },
  {
   "cell_type": "code",
   "execution_count": 52,
   "id": "48e3449e",
   "metadata": {},
   "outputs": [],
   "source": [
    "for n, nbrsdict in G.adjacency(): \n",
    "    for nbr, eattr in nbrsdict.items():\n",
    "        if \"weight\" in eattr:\n",
    "            # Do something useful with the edges\n",
    "            pass           \n",
    "    "
   ]
  },
  {
   "cell_type": "code",
   "execution_count": 79,
   "id": "1e038c53",
   "metadata": {},
   "outputs": [
    {
     "data": {
      "text/plain": [
       "EdgeDataView([(1, 2, 4), (3, 4, None), (3, 2, 8), (4, 5, None)])"
      ]
     },
     "execution_count": 79,
     "metadata": {},
     "output_type": "execute_result"
    }
   ],
   "source": [
    "G.edges.data(\"weight\")"
   ]
  },
  {
   "cell_type": "markdown",
   "id": "27838b8a",
   "metadata": {},
   "source": [
    "But the edges() method is often more convenient:"
   ]
  },
  {
   "cell_type": "code",
   "execution_count": 56,
   "id": "b484d860",
   "metadata": {},
   "outputs": [],
   "source": [
    "for u, v, weight in G.edges.data(\"weight\"):\n",
    "    if weight is not None:\n",
    "       # Do something useful with the edges    \n",
    "        pass"
   ]
  },
  {
   "cell_type": "markdown",
   "id": "bab1b55d",
   "metadata": {},
   "source": [
    "The objects nodes, edges and adj provide access to data attributes via lookup \n",
    "(e.g. nodes[n], edges[u, v], adj[u][v]) and iteration (e.g. nodes.items(), nodes.data('color'), nodes.data('color', default='blue') and similarly for edges) Views exist for nodes, edges, neighbors()/adj and degree."
   ]
  },
  {
   "cell_type": "code",
   "execution_count": null,
   "id": "49c3482a",
   "metadata": {},
   "outputs": [],
   "source": []
  },
  {
   "cell_type": "code",
   "execution_count": 84,
   "id": "2794906a",
   "metadata": {},
   "outputs": [],
   "source": [
    "G = nx.path_graph(3)"
   ]
  },
  {
   "cell_type": "code",
   "execution_count": 85,
   "id": "f91fbf4d",
   "metadata": {},
   "outputs": [
    {
     "data": {
      "text/plain": [
       "[0, 1, 2]"
      ]
     },
     "execution_count": 85,
     "metadata": {},
     "output_type": "execute_result"
    }
   ],
   "source": [
    "list(G.nodes)"
   ]
  },
  {
   "cell_type": "code",
   "execution_count": 86,
   "id": "354f61ad",
   "metadata": {},
   "outputs": [
    {
     "data": {
      "text/plain": [
       "[0, 1, 2]"
      ]
     },
     "execution_count": 86,
     "metadata": {},
     "output_type": "execute_result"
    }
   ],
   "source": [
    "list(G)"
   ]
  },
  {
   "cell_type": "code",
   "execution_count": 87,
   "id": "5b569d85",
   "metadata": {},
   "outputs": [],
   "source": [
    "G.add_node(1, time=\"5pm\")"
   ]
  },
  {
   "cell_type": "code",
   "execution_count": 88,
   "id": "9d36f0b0",
   "metadata": {},
   "outputs": [],
   "source": [
    "G.nodes[0][\"foo\"] = \"bar\""
   ]
  },
  {
   "cell_type": "code",
   "execution_count": 89,
   "id": "ffb8eef0",
   "metadata": {},
   "outputs": [
    {
     "data": {
      "text/plain": [
       "[(0, {'foo': 'bar'}), (1, {'time': '5pm'}), (2, {})]"
      ]
     },
     "execution_count": 89,
     "metadata": {},
     "output_type": "execute_result"
    }
   ],
   "source": [
    "list(G.nodes(data=True))"
   ]
  },
  {
   "cell_type": "code",
   "execution_count": 90,
   "id": "10d6941c",
   "metadata": {},
   "outputs": [
    {
     "data": {
      "text/plain": [
       "[(0, {'foo': 'bar'}), (1, {'time': '5pm'}), (2, {})]"
      ]
     },
     "execution_count": 90,
     "metadata": {},
     "output_type": "execute_result"
    }
   ],
   "source": [
    "list(G.nodes.data())"
   ]
  },
  {
   "cell_type": "code",
   "execution_count": 91,
   "id": "1188db7e",
   "metadata": {},
   "outputs": [
    {
     "data": {
      "text/plain": [
       "[(0, 'bar'), (1, None), (2, None)]"
      ]
     },
     "execution_count": 91,
     "metadata": {},
     "output_type": "execute_result"
    }
   ],
   "source": [
    "list(G.nodes(data=\"foo\"))"
   ]
  },
  {
   "cell_type": "code",
   "execution_count": 92,
   "id": "e02cd431",
   "metadata": {},
   "outputs": [
    {
     "data": {
      "text/plain": [
       "[(0, 'bar'), (1, None), (2, None)]"
      ]
     },
     "execution_count": 92,
     "metadata": {},
     "output_type": "execute_result"
    }
   ],
   "source": [
    "list(G.nodes.data(\"foo\"))"
   ]
  },
  {
   "cell_type": "code",
   "execution_count": null,
   "id": "8f4a14ac",
   "metadata": {},
   "outputs": [],
   "source": []
  },
  {
   "cell_type": "code",
   "execution_count": null,
   "id": "79be3eb0",
   "metadata": {},
   "outputs": [],
   "source": []
  },
  {
   "cell_type": "code",
   "execution_count": null,
   "id": "264b8849",
   "metadata": {},
   "outputs": [],
   "source": []
  },
  {
   "cell_type": "code",
   "execution_count": null,
   "id": "e5840ccb",
   "metadata": {},
   "outputs": [],
   "source": []
  },
  {
   "cell_type": "code",
   "execution_count": null,
   "id": "895f2eef",
   "metadata": {},
   "outputs": [],
   "source": []
  },
  {
   "cell_type": "code",
   "execution_count": null,
   "id": "95f7ed30",
   "metadata": {},
   "outputs": [],
   "source": []
  }
 ],
 "metadata": {
  "kernelspec": {
   "display_name": "Python 3 (ipykernel)",
   "language": "python",
   "name": "python3"
  },
  "language_info": {
   "codemirror_mode": {
    "name": "ipython",
    "version": 3
   },
   "file_extension": ".py",
   "mimetype": "text/x-python",
   "name": "python",
   "nbconvert_exporter": "python",
   "pygments_lexer": "ipython3",
   "version": "3.9.7"
  }
 },
 "nbformat": 4,
 "nbformat_minor": 5
}
