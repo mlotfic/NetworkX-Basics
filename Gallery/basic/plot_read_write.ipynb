{
 "cells": [
  {
   "cell_type": "code",
   "execution_count": null,
   "metadata": {},
   "outputs": [],
   "source": [
    "%matplotlib inline"
   ]
  },
  {
   "cell_type": "markdown",
   "metadata": {},
   "source": [
    "\n",
    "# Read and write graphs.\n",
    "\n",
    "Read and write graphs.\n"
   ]
  },
  {
   "cell_type": "code",
   "execution_count": null,
   "metadata": {},
   "outputs": [],
   "source": [
    "import matplotlib.pyplot as plt\n",
    "import networkx as nx\n",
    "\n",
    "G = nx.grid_2d_graph(5, 5)  # 5x5 grid\n",
    "\n",
    "# print the adjacency list\n",
    "for line in nx.generate_adjlist(G):\n",
    "    print(line)\n",
    "# write edgelist to grid.edgelist\n",
    "nx.write_edgelist(G, path=\"grid.edgelist\", delimiter=\":\")\n",
    "# read edgelist from grid.edgelist\n",
    "H = nx.read_edgelist(path=\"grid.edgelist\", delimiter=\":\")\n",
    "\n",
    "pos = nx.spring_layout(H, seed=200)\n",
    "nx.draw(H, pos)\n",
    "plt.show()"
   ]
  }
 ],
 "metadata": {
  "kernelspec": {
   "display_name": "Python 3 (ipykernel)",
   "language": "python",
   "name": "python3"
  },
  "language_info": {
   "codemirror_mode": {
    "name": "ipython",
    "version": 3
   },
   "file_extension": ".py",
   "mimetype": "text/x-python",
   "name": "python",
   "nbconvert_exporter": "python",
   "pygments_lexer": "ipython3",
   "version": "3.8.12"
  }
 },
 "nbformat": 4,
 "nbformat_minor": 1
}
