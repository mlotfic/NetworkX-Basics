{
 "cells": [
  {
   "cell_type": "markdown",
   "id": "96373687",
   "metadata": {},
   "source": [
    "In this example we show how to visualize a network graph created using `networkx`.\n",
    "\n",
    "Install the Python library `networkx` with `pip install networkx`.\n"
   ]
  },
  {
   "cell_type": "markdown",
   "id": "e8001547",
   "metadata": {},
   "source": [
    "### Create random graph"
   ]
  },
  {
   "cell_type": "code",
   "execution_count": null,
   "id": "154eb57a",
   "metadata": {},
   "outputs": [],
   "source": [
    "import plotly.graph_objects as go\n",
    "\n",
    "import networkx as nx\n",
    "\n",
    "G = nx.random_geometric_graph(200, 0.125)"
   ]
  },
  {
   "cell_type": "markdown",
   "id": "7e231946",
   "metadata": {},
   "source": [
    "#### Create Edges\n",
    "Add edges as disconnected lines in a single trace and nodes as a scatter trace"
   ]
  },
  {
   "cell_type": "code",
   "execution_count": null,
   "id": "286fcd77",
   "metadata": {},
   "outputs": [],
   "source": [
    "edge_x = []\n",
    "edge_y = []\n",
    "for edge in G.edges():\n",
    "    x0, y0 = G.nodes[edge[0]]['pos']\n",
    "    x1, y1 = G.nodes[edge[1]]['pos']\n",
    "    edge_x.append(x0)\n",
    "    edge_x.append(x1)\n",
    "    edge_x.append(None)\n",
    "    edge_y.append(y0)\n",
    "    edge_y.append(y1)\n",
    "    edge_y.append(None)\n",
    "\n",
    "edge_trace = go.Scatter(\n",
    "    x=edge_x, y=edge_y,\n",
    "    line=dict(width=0.5, color='#888'),\n",
    "    hoverinfo='none',\n",
    "    mode='lines')\n",
    "\n",
    "node_x = []\n",
    "node_y = []\n",
    "for node in G.nodes():\n",
    "    x, y = G.nodes[node]['pos']\n",
    "    node_x.append(x)\n",
    "    node_y.append(y)\n",
    "\n",
    "node_trace = go.Scatter(\n",
    "    x=node_x, y=node_y,\n",
    "    mode='markers',\n",
    "    hoverinfo='text',\n",
    "    marker=dict(\n",
    "        showscale=True,\n",
    "        # colorscale options\n",
    "        #'Greys' | 'YlGnBu' | 'Greens' | 'YlOrRd' | 'Bluered' | 'RdBu' |\n",
    "        #'Reds' | 'Blues' | 'Picnic' | 'Rainbow' | 'Portland' | 'Jet' |\n",
    "        #'Hot' | 'Blackbody' | 'Earth' | 'Electric' | 'Viridis' |\n",
    "        colorscale='YlGnBu',\n",
    "        reversescale=True,\n",
    "        color=[],\n",
    "        size=10,\n",
    "        colorbar=dict(\n",
    "            thickness=15,\n",
    "            title='Node Connections',\n",
    "            xanchor='left',\n",
    "            titleside='right'\n",
    "        ),\n",
    "        line_width=2))\n"
   ]
  },
  {
   "cell_type": "markdown",
   "id": "278f166f",
   "metadata": {},
   "source": [
    "#### Color Node Points\n",
    "Color node points by the number of connections.\n",
    "\n",
    "Another option would be to size points by the number of connections\n",
    "i.e. ```node_trace.marker.size = node_adjacencies```"
   ]
  },
  {
   "cell_type": "code",
   "execution_count": null,
   "id": "87d1cc04",
   "metadata": {},
   "outputs": [],
   "source": [
    "node_adjacencies = []\n",
    "node_text = []\n",
    "for node, adjacencies in enumerate(G.adjacency()):\n",
    "    node_adjacencies.append(len(adjacencies[1]))\n",
    "    node_text.append('# of connections: '+str(len(adjacencies[1])))\n",
    "\n",
    "node_trace.marker.color = node_adjacencies\n",
    "node_trace.text = node_text"
   ]
  },
  {
   "cell_type": "markdown",
   "id": "1293ff25",
   "metadata": {},
   "source": [
    "#### Create Network Graph"
   ]
  },
  {
   "cell_type": "code",
   "execution_count": null,
   "id": "ea148484",
   "metadata": {
    "lines_to_next_cell": 2
   },
   "outputs": [],
   "source": [
    "fig = go.Figure(data=[edge_trace, node_trace],\n",
    "             layout=go.Layout(\n",
    "                title='<br>Network graph made with Python',\n",
    "                titlefont_size=16,\n",
    "                showlegend=False,\n",
    "                hovermode='closest',\n",
    "                margin=dict(b=20,l=5,r=5,t=40),\n",
    "                annotations=[ dict(\n",
    "                    text=\"Python code: <a href='https://plotly.com/ipython-notebooks/network-graphs/'> https://plotly.com/ipython-notebooks/network-graphs/</a>\",\n",
    "                    showarrow=False,\n",
    "                    xref=\"paper\", yref=\"paper\",\n",
    "                    x=0.005, y=-0.002 ) ],\n",
    "                xaxis=dict(showgrid=False, zeroline=False, showticklabels=False),\n",
    "                yaxis=dict(showgrid=False, zeroline=False, showticklabels=False))\n",
    "                )\n",
    "fig.show()"
   ]
  },
  {
   "cell_type": "markdown",
   "id": "ded371b0",
   "metadata": {},
   "source": [
    "### Network graphs in Dash\n",
    "\n",
    "[Dash](https://plotly.com/dash/) is the best way to build analytical apps in Python using Plotly figures. To run the app below, run `pip install dash dash-cytoscape`, click \"Download\" to get the code and run `python app.py`.\n",
    "\n",
    "Get started  with [the official Dash docs](https://dash.plotly.com/installation) and **learn how to effortlessly [style](https://plotly.com/dash/design-kit/) & [deploy](https://plotly.com/dash/app-manager/) apps like this with <a class=\"plotly-red\" href=\"https://plotly.com/dash/\">Dash Enterprise</a>.**\n"
   ]
  },
  {
   "cell_type": "code",
   "execution_count": null,
   "id": "83d546fd",
   "metadata": {
    "hide_code": true
   },
   "outputs": [],
   "source": [
    "from IPython.display import IFrame\n",
    "snippet_url = 'https://dash-gallery.plotly.host/python-docs-dash-snippets/'\n",
    "IFrame(snippet_url + 'network-graphs', width='100%', height=630)"
   ]
  },
  {
   "cell_type": "markdown",
   "id": "96da97ef",
   "metadata": {},
   "source": [
    "#### Reference\n",
    "See https://plotly.com/python/reference/scatter/ for more information and chart attribute options!"
   ]
  }
 ],
 "metadata": {
  "jupytext": {
   "notebook_metadata_filter": "all",
   "text_representation": {
    "extension": ".md",
    "format_name": "markdown",
    "format_version": "1.3",
    "jupytext_version": "1.13.7"
   }
  },
  "kernelspec": {
   "display_name": "Python 3 (ipykernel)",
   "language": "python",
   "name": "python3"
  },
  "language_info": {
   "codemirror_mode": {
    "name": "ipython",
    "version": 3
   },
   "file_extension": ".py",
   "mimetype": "text/x-python",
   "name": "python",
   "nbconvert_exporter": "python",
   "pygments_lexer": "ipython3",
   "version": "3.7.12"
  },
  "plotly": {
   "description": "How to make Network Graphs in Python with Plotly. One examples of a network graph with NetworkX",
   "display_as": "scientific",
   "language": "python",
   "layout": "base",
   "name": "Network Graphs",
   "order": 12,
   "page_type": "u-guide",
   "permalink": "python/network-graphs/",
   "redirect_from": [
    "ipython-notebooks/networks/",
    "ipython-notebooks/network-graphs/"
   ],
   "thumbnail": "thumbnail/net.jpg"
  }
 },
 "nbformat": 4,
 "nbformat_minor": 5
}
